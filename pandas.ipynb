{
 "cells": [
  {
   "cell_type": "code",
   "execution_count": 1,
   "metadata": {},
   "outputs": [],
   "source": [
    "%matplotlib notebook"
   ]
  },
  {
   "cell_type": "markdown",
   "metadata": {},
   "source": [
    "这里是对pandas简单介绍，要了解更多复杂的内容，参阅 [*Cookbook*](http://pandas.pydata.org/pandas-docs/stable/cookbook.html#cookbook)"
   ]
  },
  {
   "cell_type": "markdown",
   "metadata": {},
   "source": [
    "习惯上，首先要导入以下几个库："
   ]
  },
  {
   "cell_type": "code",
   "execution_count": 2,
   "metadata": {},
   "outputs": [],
   "source": [
    "import pandas as pd\n",
    "\n",
    "import numpy as np\n",
    "\n",
    "import matplotlib.pyplot as plt"
   ]
  },
  {
   "cell_type": "markdown",
   "metadata": {},
   "source": [
    "Numpy：python科学计算的基础包，它提供以下功能（不限于此）：\n",
    "- 快速高效的多维数组对象naarray \n",
    "- 用于对数组执行元素级计算以及直接对数组执行数学运算的函数\n",
    "- 用于读写硬盘上基于数组的数据集的工具\n",
    "- 线性代数运算、傅里叶变换，以及随机数生成\n",
    "- 用于将C、C++、Fortran代码集成到python的工具"
   ]
  },
  {
   "cell_type": "markdown",
   "metadata": {},
   "source": [
    "pandas：Python Data Analysis Library，提供能够快速便捷地处理结构化数据的大量数据结构和函数。兼具Numpy高性能的数组计算功能以及电子表格和关系型数据（如SQL）灵活的数据处理能力。它提供了复杂精细的索引功能，以便更为便捷地完成重塑、切片和切块、聚合以及选取数据子集等操作。"
   ]
  },
  {
   "cell_type": "markdown",
   "metadata": {},
   "source": [
    "matplotlib：最流行的用于绘制数据图表的python库。"
   ]
  },
  {
   "cell_type": "markdown",
   "metadata": {},
   "source": [
    "## 创建对象"
   ]
  },
  {
   "cell_type": "markdown",
   "metadata": {},
   "source": [
    "参阅 [*Data Structure Intro section*](http://pandas.pydata.org/pandas-docs/stable/dsintro.html#dsintro)"
   ]
  },
  {
   "cell_type": "markdown",
   "metadata": {},
   "source": [
    "通过传递一个list来创建Series，pandas会默认创建整型索引："
   ]
  },
  {
   "cell_type": "code",
   "execution_count": 3,
   "metadata": {},
   "outputs": [
    {
     "data": {
      "text/plain": [
       "0    1.0\n",
       "1    3.0\n",
       "2    5.0\n",
       "3    NaN\n",
       "4    6.0\n",
       "5    8.0\n",
       "dtype: float64"
      ]
     },
     "execution_count": 3,
     "metadata": {},
     "output_type": "execute_result"
    }
   ],
   "source": [
    "s = pd.Series([1,3,5,np.nan,6,8])\n",
    "s"
   ]
  },
  {
   "cell_type": "markdown",
   "metadata": {},
   "source": [
    "通过传递一个numpy array，日期索引以及列标签来创建一个DataFrame："
   ]
  },
  {
   "cell_type": "code",
   "execution_count": 4,
   "metadata": {},
   "outputs": [
    {
     "data": {
      "text/plain": [
       "DatetimeIndex(['2013-01-01', '2013-01-02', '2013-01-03', '2013-01-04',\n",
       "               '2013-01-05', '2013-01-06'],\n",
       "              dtype='datetime64[ns]', freq='D')"
      ]
     },
     "execution_count": 4,
     "metadata": {},
     "output_type": "execute_result"
    }
   ],
   "source": [
    "dates = pd.date_range('20130101', periods=6)\n",
    "dates"
   ]
  },
  {
   "cell_type": "code",
   "execution_count": 5,
   "metadata": {},
   "outputs": [
    {
     "data": {
      "text/html": [
       "<div>\n",
       "<table border=\"1\" class=\"dataframe\">\n",
       "  <thead>\n",
       "    <tr style=\"text-align: right;\">\n",
       "      <th></th>\n",
       "      <th>A</th>\n",
       "      <th>B</th>\n",
       "      <th>C</th>\n",
       "      <th>D</th>\n",
       "    </tr>\n",
       "  </thead>\n",
       "  <tbody>\n",
       "    <tr>\n",
       "      <th>2013-01-01</th>\n",
       "      <td>-0.237028</td>\n",
       "      <td>0.585954</td>\n",
       "      <td>0.088251</td>\n",
       "      <td>-0.600511</td>\n",
       "    </tr>\n",
       "    <tr>\n",
       "      <th>2013-01-02</th>\n",
       "      <td>0.395941</td>\n",
       "      <td>-1.896039</td>\n",
       "      <td>0.534176</td>\n",
       "      <td>0.255334</td>\n",
       "    </tr>\n",
       "    <tr>\n",
       "      <th>2013-01-03</th>\n",
       "      <td>1.629094</td>\n",
       "      <td>-0.461478</td>\n",
       "      <td>-1.140387</td>\n",
       "      <td>0.557293</td>\n",
       "    </tr>\n",
       "    <tr>\n",
       "      <th>2013-01-04</th>\n",
       "      <td>0.532425</td>\n",
       "      <td>-0.813399</td>\n",
       "      <td>0.045308</td>\n",
       "      <td>-0.893926</td>\n",
       "    </tr>\n",
       "    <tr>\n",
       "      <th>2013-01-05</th>\n",
       "      <td>-0.869447</td>\n",
       "      <td>-0.594692</td>\n",
       "      <td>2.730006</td>\n",
       "      <td>-1.703734</td>\n",
       "    </tr>\n",
       "    <tr>\n",
       "      <th>2013-01-06</th>\n",
       "      <td>0.396682</td>\n",
       "      <td>-0.066450</td>\n",
       "      <td>-0.833855</td>\n",
       "      <td>-0.346283</td>\n",
       "    </tr>\n",
       "  </tbody>\n",
       "</table>\n",
       "</div>"
      ],
      "text/plain": [
       "                   A         B         C         D\n",
       "2013-01-01 -0.237028  0.585954  0.088251 -0.600511\n",
       "2013-01-02  0.395941 -1.896039  0.534176  0.255334\n",
       "2013-01-03  1.629094 -0.461478 -1.140387  0.557293\n",
       "2013-01-04  0.532425 -0.813399  0.045308 -0.893926\n",
       "2013-01-05 -0.869447 -0.594692  2.730006 -1.703734\n",
       "2013-01-06  0.396682 -0.066450 -0.833855 -0.346283"
      ]
     },
     "execution_count": 5,
     "metadata": {},
     "output_type": "execute_result"
    }
   ],
   "source": [
    "df = pd.DataFrame(np.random.randn(6,4), index=dates, columns=list('ABCD'))\n",
    "df"
   ]
  },
  {
   "cell_type": "markdown",
   "metadata": {},
   "source": [
    "通过传递一个能够被转换为类似series的dict对象来创建一个DataFrame:"
   ]
  },
  {
   "cell_type": "code",
   "execution_count": 11,
   "metadata": {},
   "outputs": [
    {
     "data": {
      "text/html": [
       "<div>\n",
       "<table border=\"1\" class=\"dataframe\">\n",
       "  <thead>\n",
       "    <tr style=\"text-align: right;\">\n",
       "      <th></th>\n",
       "      <th>A</th>\n",
       "      <th>B</th>\n",
       "      <th>C</th>\n",
       "      <th>D</th>\n",
       "      <th>E</th>\n",
       "      <th>F</th>\n",
       "    </tr>\n",
       "  </thead>\n",
       "  <tbody>\n",
       "    <tr>\n",
       "      <th>0</th>\n",
       "      <td>1.0</td>\n",
       "      <td>2013-01-02</td>\n",
       "      <td>1.0</td>\n",
       "      <td>3</td>\n",
       "      <td>test</td>\n",
       "      <td>foo</td>\n",
       "    </tr>\n",
       "    <tr>\n",
       "      <th>1</th>\n",
       "      <td>1.0</td>\n",
       "      <td>2013-01-02</td>\n",
       "      <td>1.0</td>\n",
       "      <td>3</td>\n",
       "      <td>train</td>\n",
       "      <td>foo</td>\n",
       "    </tr>\n",
       "    <tr>\n",
       "      <th>2</th>\n",
       "      <td>1.0</td>\n",
       "      <td>2013-01-02</td>\n",
       "      <td>1.0</td>\n",
       "      <td>3</td>\n",
       "      <td>test1</td>\n",
       "      <td>foo</td>\n",
       "    </tr>\n",
       "    <tr>\n",
       "      <th>3</th>\n",
       "      <td>1.0</td>\n",
       "      <td>2013-01-02</td>\n",
       "      <td>1.0</td>\n",
       "      <td>3</td>\n",
       "      <td>train1</td>\n",
       "      <td>foo</td>\n",
       "    </tr>\n",
       "  </tbody>\n",
       "</table>\n",
       "</div>"
      ],
      "text/plain": [
       "     A          B    C  D       E    F\n",
       "0  1.0 2013-01-02  1.0  3    test  foo\n",
       "1  1.0 2013-01-02  1.0  3   train  foo\n",
       "2  1.0 2013-01-02  1.0  3   test1  foo\n",
       "3  1.0 2013-01-02  1.0  3  train1  foo"
      ]
     },
     "execution_count": 11,
     "metadata": {},
     "output_type": "execute_result"
    }
   ],
   "source": [
    "df2 = pd.DataFrame({ 'A' : 1.,\n",
    "                     'B' : pd.Timestamp('20130102'),\n",
    "                     'C' : pd.Series(1,index=list(range(4)),dtype='float32'),\n",
    "                     'D' : np.array([3]*4,dtype='int32'),\n",
    "                     'E' : pd.Categorical([\"test\",\"train\",\"test1\",\"train1\"]),\n",
    "                     'F' : 'foo' })\n",
    "df2"
   ]
  },
  {
   "cell_type": "markdown",
   "metadata": {},
   "source": [
    "可以看到各列的数据类型为："
   ]
  },
  {
   "cell_type": "code",
   "execution_count": 12,
   "metadata": {},
   "outputs": [
    {
     "data": {
      "text/plain": [
       "A           float64\n",
       "B    datetime64[ns]\n",
       "C           float32\n",
       "D             int32\n",
       "E          category\n",
       "F            object\n",
       "dtype: object"
      ]
     },
     "execution_count": 12,
     "metadata": {},
     "output_type": "execute_result"
    }
   ],
   "source": [
    "df2.dtypes"
   ]
  },
  {
   "cell_type": "markdown",
   "metadata": {},
   "source": [
    "## 查看数据"
   ]
  },
  {
   "cell_type": "markdown",
   "metadata": {},
   "source": [
    "查看frame中头部和尾部的几行："
   ]
  },
  {
   "cell_type": "code",
   "execution_count": 16,
   "metadata": {},
   "outputs": [
    {
     "data": {
      "text/html": [
       "<div>\n",
       "<table border=\"1\" class=\"dataframe\">\n",
       "  <thead>\n",
       "    <tr style=\"text-align: right;\">\n",
       "      <th></th>\n",
       "      <th>A</th>\n",
       "      <th>B</th>\n",
       "      <th>C</th>\n",
       "      <th>D</th>\n",
       "    </tr>\n",
       "  </thead>\n",
       "  <tbody>\n",
       "    <tr>\n",
       "      <th>2013-01-01</th>\n",
       "      <td>-0.237028</td>\n",
       "      <td>0.585954</td>\n",
       "      <td>0.088251</td>\n",
       "      <td>-0.600511</td>\n",
       "    </tr>\n",
       "    <tr>\n",
       "      <th>2013-01-02</th>\n",
       "      <td>0.395941</td>\n",
       "      <td>-1.896039</td>\n",
       "      <td>0.534176</td>\n",
       "      <td>0.255334</td>\n",
       "    </tr>\n",
       "    <tr>\n",
       "      <th>2013-01-03</th>\n",
       "      <td>1.629094</td>\n",
       "      <td>-0.461478</td>\n",
       "      <td>-1.140387</td>\n",
       "      <td>0.557293</td>\n",
       "    </tr>\n",
       "    <tr>\n",
       "      <th>2013-01-04</th>\n",
       "      <td>0.532425</td>\n",
       "      <td>-0.813399</td>\n",
       "      <td>0.045308</td>\n",
       "      <td>-0.893926</td>\n",
       "    </tr>\n",
       "    <tr>\n",
       "      <th>2013-01-05</th>\n",
       "      <td>-0.869447</td>\n",
       "      <td>-0.594692</td>\n",
       "      <td>2.730006</td>\n",
       "      <td>-1.703734</td>\n",
       "    </tr>\n",
       "  </tbody>\n",
       "</table>\n",
       "</div>"
      ],
      "text/plain": [
       "                   A         B         C         D\n",
       "2013-01-01 -0.237028  0.585954  0.088251 -0.600511\n",
       "2013-01-02  0.395941 -1.896039  0.534176  0.255334\n",
       "2013-01-03  1.629094 -0.461478 -1.140387  0.557293\n",
       "2013-01-04  0.532425 -0.813399  0.045308 -0.893926\n",
       "2013-01-05 -0.869447 -0.594692  2.730006 -1.703734"
      ]
     },
     "execution_count": 16,
     "metadata": {},
     "output_type": "execute_result"
    }
   ],
   "source": [
    "df.head()"
   ]
  },
  {
   "cell_type": "code",
   "execution_count": 14,
   "metadata": {},
   "outputs": [
    {
     "data": {
      "text/html": [
       "<div>\n",
       "<table border=\"1\" class=\"dataframe\">\n",
       "  <thead>\n",
       "    <tr style=\"text-align: right;\">\n",
       "      <th></th>\n",
       "      <th>A</th>\n",
       "      <th>B</th>\n",
       "      <th>C</th>\n",
       "      <th>D</th>\n",
       "    </tr>\n",
       "  </thead>\n",
       "  <tbody>\n",
       "    <tr>\n",
       "      <th>2013-01-04</th>\n",
       "      <td>0.532425</td>\n",
       "      <td>-0.813399</td>\n",
       "      <td>0.045308</td>\n",
       "      <td>-0.893926</td>\n",
       "    </tr>\n",
       "    <tr>\n",
       "      <th>2013-01-05</th>\n",
       "      <td>-0.869447</td>\n",
       "      <td>-0.594692</td>\n",
       "      <td>2.730006</td>\n",
       "      <td>-1.703734</td>\n",
       "    </tr>\n",
       "    <tr>\n",
       "      <th>2013-01-06</th>\n",
       "      <td>0.396682</td>\n",
       "      <td>-0.066450</td>\n",
       "      <td>-0.833855</td>\n",
       "      <td>-0.346283</td>\n",
       "    </tr>\n",
       "  </tbody>\n",
       "</table>\n",
       "</div>"
      ],
      "text/plain": [
       "                   A         B         C         D\n",
       "2013-01-04  0.532425 -0.813399  0.045308 -0.893926\n",
       "2013-01-05 -0.869447 -0.594692  2.730006 -1.703734\n",
       "2013-01-06  0.396682 -0.066450 -0.833855 -0.346283"
      ]
     },
     "execution_count": 14,
     "metadata": {},
     "output_type": "execute_result"
    }
   ],
   "source": [
    "df.tail(3)"
   ]
  },
  {
   "cell_type": "markdown",
   "metadata": {},
   "source": [
    "显示索引、列和底层numpy数据"
   ]
  },
  {
   "cell_type": "code",
   "execution_count": 17,
   "metadata": {},
   "outputs": [
    {
     "data": {
      "text/plain": [
       "DatetimeIndex(['2013-01-01', '2013-01-02', '2013-01-03', '2013-01-04',\n",
       "               '2013-01-05', '2013-01-06'],\n",
       "              dtype='datetime64[ns]', freq='D')"
      ]
     },
     "execution_count": 17,
     "metadata": {},
     "output_type": "execute_result"
    }
   ],
   "source": [
    "df.index"
   ]
  },
  {
   "cell_type": "code",
   "execution_count": 18,
   "metadata": {},
   "outputs": [
    {
     "data": {
      "text/plain": [
       "Index(['A', 'B', 'C', 'D'], dtype='object')"
      ]
     },
     "execution_count": 18,
     "metadata": {},
     "output_type": "execute_result"
    }
   ],
   "source": [
    "df.columns"
   ]
  },
  {
   "cell_type": "code",
   "execution_count": 19,
   "metadata": {},
   "outputs": [
    {
     "data": {
      "text/plain": [
       "array([[-0.23702834,  0.58595387,  0.08825137, -0.60051117],\n",
       "       [ 0.39594068, -1.89603869,  0.53417639,  0.25533359],\n",
       "       [ 1.62909421, -0.46147793, -1.14038676,  0.55729312],\n",
       "       [ 0.5324251 , -0.81339907,  0.04530763, -0.8939263 ],\n",
       "       [-0.86944673, -0.59469237,  2.73000624, -1.70373356],\n",
       "       [ 0.39668173, -0.06645043, -0.83385484, -0.34628329]])"
      ]
     },
     "execution_count": 19,
     "metadata": {},
     "output_type": "execute_result"
    }
   ],
   "source": [
    "df.values"
   ]
  },
  {
   "cell_type": "markdown",
   "metadata": {},
   "source": [
    "Describe方法能对数据做一个快速统计汇总"
   ]
  },
  {
   "cell_type": "code",
   "execution_count": 20,
   "metadata": {},
   "outputs": [
    {
     "data": {
      "text/html": [
       "<div>\n",
       "<table border=\"1\" class=\"dataframe\">\n",
       "  <thead>\n",
       "    <tr style=\"text-align: right;\">\n",
       "      <th></th>\n",
       "      <th>A</th>\n",
       "      <th>B</th>\n",
       "      <th>C</th>\n",
       "      <th>D</th>\n",
       "    </tr>\n",
       "  </thead>\n",
       "  <tbody>\n",
       "    <tr>\n",
       "      <th>count</th>\n",
       "      <td>6.000000</td>\n",
       "      <td>6.000000</td>\n",
       "      <td>6.000000</td>\n",
       "      <td>6.000000</td>\n",
       "    </tr>\n",
       "    <tr>\n",
       "      <th>mean</th>\n",
       "      <td>0.307944</td>\n",
       "      <td>-0.541017</td>\n",
       "      <td>0.237250</td>\n",
       "      <td>-0.455305</td>\n",
       "    </tr>\n",
       "    <tr>\n",
       "      <th>std</th>\n",
       "      <td>0.836025</td>\n",
       "      <td>0.826409</td>\n",
       "      <td>1.371582</td>\n",
       "      <td>0.814162</td>\n",
       "    </tr>\n",
       "    <tr>\n",
       "      <th>min</th>\n",
       "      <td>-0.869447</td>\n",
       "      <td>-1.896039</td>\n",
       "      <td>-1.140387</td>\n",
       "      <td>-1.703734</td>\n",
       "    </tr>\n",
       "    <tr>\n",
       "      <th>25%</th>\n",
       "      <td>-0.078786</td>\n",
       "      <td>-0.758722</td>\n",
       "      <td>-0.614064</td>\n",
       "      <td>-0.820573</td>\n",
       "    </tr>\n",
       "    <tr>\n",
       "      <th>50%</th>\n",
       "      <td>0.396311</td>\n",
       "      <td>-0.528085</td>\n",
       "      <td>0.066779</td>\n",
       "      <td>-0.473397</td>\n",
       "    </tr>\n",
       "    <tr>\n",
       "      <th>75%</th>\n",
       "      <td>0.498489</td>\n",
       "      <td>-0.165207</td>\n",
       "      <td>0.422695</td>\n",
       "      <td>0.104929</td>\n",
       "    </tr>\n",
       "    <tr>\n",
       "      <th>max</th>\n",
       "      <td>1.629094</td>\n",
       "      <td>0.585954</td>\n",
       "      <td>2.730006</td>\n",
       "      <td>0.557293</td>\n",
       "    </tr>\n",
       "  </tbody>\n",
       "</table>\n",
       "</div>"
      ],
      "text/plain": [
       "              A         B         C         D\n",
       "count  6.000000  6.000000  6.000000  6.000000\n",
       "mean   0.307944 -0.541017  0.237250 -0.455305\n",
       "std    0.836025  0.826409  1.371582  0.814162\n",
       "min   -0.869447 -1.896039 -1.140387 -1.703734\n",
       "25%   -0.078786 -0.758722 -0.614064 -0.820573\n",
       "50%    0.396311 -0.528085  0.066779 -0.473397\n",
       "75%    0.498489 -0.165207  0.422695  0.104929\n",
       "max    1.629094  0.585954  2.730006  0.557293"
      ]
     },
     "execution_count": 20,
     "metadata": {},
     "output_type": "execute_result"
    }
   ],
   "source": [
    "df.describe()"
   ]
  },
  {
   "cell_type": "markdown",
   "metadata": {},
   "source": [
    "数据转置"
   ]
  },
  {
   "cell_type": "code",
   "execution_count": 22,
   "metadata": {},
   "outputs": [
    {
     "data": {
      "text/html": [
       "<div>\n",
       "<table border=\"1\" class=\"dataframe\">\n",
       "  <thead>\n",
       "    <tr style=\"text-align: right;\">\n",
       "      <th></th>\n",
       "      <th>2013-01-01 00:00:00</th>\n",
       "      <th>2013-01-02 00:00:00</th>\n",
       "      <th>2013-01-03 00:00:00</th>\n",
       "      <th>2013-01-04 00:00:00</th>\n",
       "      <th>2013-01-05 00:00:00</th>\n",
       "      <th>2013-01-06 00:00:00</th>\n",
       "    </tr>\n",
       "  </thead>\n",
       "  <tbody>\n",
       "    <tr>\n",
       "      <th>A</th>\n",
       "      <td>-0.237028</td>\n",
       "      <td>0.395941</td>\n",
       "      <td>1.629094</td>\n",
       "      <td>0.532425</td>\n",
       "      <td>-0.869447</td>\n",
       "      <td>0.396682</td>\n",
       "    </tr>\n",
       "    <tr>\n",
       "      <th>B</th>\n",
       "      <td>0.585954</td>\n",
       "      <td>-1.896039</td>\n",
       "      <td>-0.461478</td>\n",
       "      <td>-0.813399</td>\n",
       "      <td>-0.594692</td>\n",
       "      <td>-0.066450</td>\n",
       "    </tr>\n",
       "    <tr>\n",
       "      <th>C</th>\n",
       "      <td>0.088251</td>\n",
       "      <td>0.534176</td>\n",
       "      <td>-1.140387</td>\n",
       "      <td>0.045308</td>\n",
       "      <td>2.730006</td>\n",
       "      <td>-0.833855</td>\n",
       "    </tr>\n",
       "    <tr>\n",
       "      <th>D</th>\n",
       "      <td>-0.600511</td>\n",
       "      <td>0.255334</td>\n",
       "      <td>0.557293</td>\n",
       "      <td>-0.893926</td>\n",
       "      <td>-1.703734</td>\n",
       "      <td>-0.346283</td>\n",
       "    </tr>\n",
       "  </tbody>\n",
       "</table>\n",
       "</div>"
      ],
      "text/plain": [
       "   2013-01-01  2013-01-02  2013-01-03  2013-01-04  2013-01-05  2013-01-06\n",
       "A   -0.237028    0.395941    1.629094    0.532425   -0.869447    0.396682\n",
       "B    0.585954   -1.896039   -0.461478   -0.813399   -0.594692   -0.066450\n",
       "C    0.088251    0.534176   -1.140387    0.045308    2.730006   -0.833855\n",
       "D   -0.600511    0.255334    0.557293   -0.893926   -1.703734   -0.346283"
      ]
     },
     "execution_count": 22,
     "metadata": {},
     "output_type": "execute_result"
    }
   ],
   "source": [
    "df.T"
   ]
  },
  {
   "cell_type": "markdown",
   "metadata": {},
   "source": [
    "按轴排序："
   ]
  },
  {
   "cell_type": "code",
   "execution_count": 43,
   "metadata": {},
   "outputs": [
    {
     "data": {
      "text/html": [
       "<div>\n",
       "<table border=\"1\" class=\"dataframe\">\n",
       "  <thead>\n",
       "    <tr style=\"text-align: right;\">\n",
       "      <th></th>\n",
       "      <th>D</th>\n",
       "      <th>C</th>\n",
       "      <th>B</th>\n",
       "      <th>A</th>\n",
       "    </tr>\n",
       "  </thead>\n",
       "  <tbody>\n",
       "    <tr>\n",
       "      <th>2013-01-01</th>\n",
       "      <td>-0.600511</td>\n",
       "      <td>0.088251</td>\n",
       "      <td>0.585954</td>\n",
       "      <td>-0.237028</td>\n",
       "    </tr>\n",
       "    <tr>\n",
       "      <th>2013-01-02</th>\n",
       "      <td>0.255334</td>\n",
       "      <td>0.534176</td>\n",
       "      <td>-1.896039</td>\n",
       "      <td>0.395941</td>\n",
       "    </tr>\n",
       "    <tr>\n",
       "      <th>2013-01-03</th>\n",
       "      <td>0.557293</td>\n",
       "      <td>-1.140387</td>\n",
       "      <td>-0.461478</td>\n",
       "      <td>1.629094</td>\n",
       "    </tr>\n",
       "    <tr>\n",
       "      <th>2013-01-04</th>\n",
       "      <td>-0.893926</td>\n",
       "      <td>0.045308</td>\n",
       "      <td>-0.813399</td>\n",
       "      <td>0.532425</td>\n",
       "    </tr>\n",
       "    <tr>\n",
       "      <th>2013-01-05</th>\n",
       "      <td>-1.703734</td>\n",
       "      <td>2.730006</td>\n",
       "      <td>-0.594692</td>\n",
       "      <td>-0.869447</td>\n",
       "    </tr>\n",
       "    <tr>\n",
       "      <th>2013-01-06</th>\n",
       "      <td>-0.346283</td>\n",
       "      <td>-0.833855</td>\n",
       "      <td>-0.066450</td>\n",
       "      <td>0.396682</td>\n",
       "    </tr>\n",
       "  </tbody>\n",
       "</table>\n",
       "</div>"
      ],
      "text/plain": [
       "                   D         C         B         A\n",
       "2013-01-01 -0.600511  0.088251  0.585954 -0.237028\n",
       "2013-01-02  0.255334  0.534176 -1.896039  0.395941\n",
       "2013-01-03  0.557293 -1.140387 -0.461478  1.629094\n",
       "2013-01-04 -0.893926  0.045308 -0.813399  0.532425\n",
       "2013-01-05 -1.703734  2.730006 -0.594692 -0.869447\n",
       "2013-01-06 -0.346283 -0.833855 -0.066450  0.396682"
      ]
     },
     "execution_count": 43,
     "metadata": {},
     "output_type": "execute_result"
    }
   ],
   "source": [
    "df.sort_index(axis=1, ascending=False)"
   ]
  },
  {
   "cell_type": "markdown",
   "metadata": {},
   "source": [
    "按值排序 :"
   ]
  },
  {
   "cell_type": "code",
   "execution_count": 34,
   "metadata": {},
   "outputs": [
    {
     "data": {
      "text/html": [
       "<div>\n",
       "<table border=\"1\" class=\"dataframe\">\n",
       "  <thead>\n",
       "    <tr style=\"text-align: right;\">\n",
       "      <th></th>\n",
       "      <th>A</th>\n",
       "      <th>B</th>\n",
       "      <th>C</th>\n",
       "      <th>D</th>\n",
       "    </tr>\n",
       "  </thead>\n",
       "  <tbody>\n",
       "    <tr>\n",
       "      <th>2013-01-02</th>\n",
       "      <td>0.395941</td>\n",
       "      <td>-1.896039</td>\n",
       "      <td>0.534176</td>\n",
       "      <td>0.255334</td>\n",
       "    </tr>\n",
       "    <tr>\n",
       "      <th>2013-01-04</th>\n",
       "      <td>0.532425</td>\n",
       "      <td>-0.813399</td>\n",
       "      <td>0.045308</td>\n",
       "      <td>-0.893926</td>\n",
       "    </tr>\n",
       "    <tr>\n",
       "      <th>2013-01-05</th>\n",
       "      <td>-0.869447</td>\n",
       "      <td>-0.594692</td>\n",
       "      <td>2.730006</td>\n",
       "      <td>-1.703734</td>\n",
       "    </tr>\n",
       "    <tr>\n",
       "      <th>2013-01-03</th>\n",
       "      <td>1.629094</td>\n",
       "      <td>-0.461478</td>\n",
       "      <td>-1.140387</td>\n",
       "      <td>0.557293</td>\n",
       "    </tr>\n",
       "    <tr>\n",
       "      <th>2013-01-06</th>\n",
       "      <td>0.396682</td>\n",
       "      <td>-0.066450</td>\n",
       "      <td>-0.833855</td>\n",
       "      <td>-0.346283</td>\n",
       "    </tr>\n",
       "    <tr>\n",
       "      <th>2013-01-01</th>\n",
       "      <td>-0.237028</td>\n",
       "      <td>0.585954</td>\n",
       "      <td>0.088251</td>\n",
       "      <td>-0.600511</td>\n",
       "    </tr>\n",
       "  </tbody>\n",
       "</table>\n",
       "</div>"
      ],
      "text/plain": [
       "                   A         B         C         D\n",
       "2013-01-02  0.395941 -1.896039  0.534176  0.255334\n",
       "2013-01-04  0.532425 -0.813399  0.045308 -0.893926\n",
       "2013-01-05 -0.869447 -0.594692  2.730006 -1.703734\n",
       "2013-01-03  1.629094 -0.461478 -1.140387  0.557293\n",
       "2013-01-06  0.396682 -0.066450 -0.833855 -0.346283\n",
       "2013-01-01 -0.237028  0.585954  0.088251 -0.600511"
      ]
     },
     "execution_count": 34,
     "metadata": {},
     "output_type": "execute_result"
    }
   ],
   "source": [
    "df.sort_values(by='B')"
   ]
  },
  {
   "cell_type": "markdown",
   "metadata": {},
   "source": [
    "## 选择数据"
   ]
  },
  {
   "cell_type": "markdown",
   "metadata": {},
   "source": [
    "注意：虽然标准的Python/Numpy的表达式能完成选择与赋值等功能，但我们仍推荐使用优化过的pandas数据访问方法：.at，.iat，.loc，.iloc和.ix"
   ]
  },
  {
   "cell_type": "markdown",
   "metadata": {},
   "source": [
    "### 选取"
   ]
  },
  {
   "cell_type": "markdown",
   "metadata": {},
   "source": [
    "选择一个单独的列，返回一个Series，等同于 df.A"
   ]
  },
  {
   "cell_type": "code",
   "execution_count": 44,
   "metadata": {},
   "outputs": [
    {
     "data": {
      "text/plain": [
       "2013-01-01   -0.237028\n",
       "2013-01-02    0.395941\n",
       "2013-01-03    1.629094\n",
       "2013-01-04    0.532425\n",
       "2013-01-05   -0.869447\n",
       "2013-01-06    0.396682\n",
       "Freq: D, Name: A, dtype: float64"
      ]
     },
     "execution_count": 44,
     "metadata": {},
     "output_type": "execute_result"
    }
   ],
   "source": [
    "df['A']"
   ]
  },
  {
   "cell_type": "markdown",
   "metadata": {},
   "source": [
    "通过使用[ ]进行切片选取："
   ]
  },
  {
   "cell_type": "code",
   "execution_count": 46,
   "metadata": {},
   "outputs": [
    {
     "data": {
      "text/html": [
       "<div>\n",
       "<table border=\"1\" class=\"dataframe\">\n",
       "  <thead>\n",
       "    <tr style=\"text-align: right;\">\n",
       "      <th></th>\n",
       "      <th>A</th>\n",
       "      <th>B</th>\n",
       "      <th>C</th>\n",
       "      <th>D</th>\n",
       "    </tr>\n",
       "  </thead>\n",
       "  <tbody>\n",
       "    <tr>\n",
       "      <th>2013-01-01</th>\n",
       "      <td>-0.237028</td>\n",
       "      <td>0.585954</td>\n",
       "      <td>0.088251</td>\n",
       "      <td>-0.600511</td>\n",
       "    </tr>\n",
       "    <tr>\n",
       "      <th>2013-01-02</th>\n",
       "      <td>0.395941</td>\n",
       "      <td>-1.896039</td>\n",
       "      <td>0.534176</td>\n",
       "      <td>0.255334</td>\n",
       "    </tr>\n",
       "    <tr>\n",
       "      <th>2013-01-03</th>\n",
       "      <td>1.629094</td>\n",
       "      <td>-0.461478</td>\n",
       "      <td>-1.140387</td>\n",
       "      <td>0.557293</td>\n",
       "    </tr>\n",
       "  </tbody>\n",
       "</table>\n",
       "</div>"
      ],
      "text/plain": [
       "                   A         B         C         D\n",
       "2013-01-01 -0.237028  0.585954  0.088251 -0.600511\n",
       "2013-01-02  0.395941 -1.896039  0.534176  0.255334\n",
       "2013-01-03  1.629094 -0.461478 -1.140387  0.557293"
      ]
     },
     "execution_count": 46,
     "metadata": {},
     "output_type": "execute_result"
    }
   ],
   "source": [
    "df[0:3]"
   ]
  },
  {
   "cell_type": "code",
   "execution_count": 47,
   "metadata": {},
   "outputs": [
    {
     "data": {
      "text/html": [
       "<div>\n",
       "<table border=\"1\" class=\"dataframe\">\n",
       "  <thead>\n",
       "    <tr style=\"text-align: right;\">\n",
       "      <th></th>\n",
       "      <th>A</th>\n",
       "      <th>B</th>\n",
       "      <th>C</th>\n",
       "      <th>D</th>\n",
       "    </tr>\n",
       "  </thead>\n",
       "  <tbody>\n",
       "    <tr>\n",
       "      <th>2013-01-02</th>\n",
       "      <td>0.395941</td>\n",
       "      <td>-1.896039</td>\n",
       "      <td>0.534176</td>\n",
       "      <td>0.255334</td>\n",
       "    </tr>\n",
       "    <tr>\n",
       "      <th>2013-01-03</th>\n",
       "      <td>1.629094</td>\n",
       "      <td>-0.461478</td>\n",
       "      <td>-1.140387</td>\n",
       "      <td>0.557293</td>\n",
       "    </tr>\n",
       "    <tr>\n",
       "      <th>2013-01-04</th>\n",
       "      <td>0.532425</td>\n",
       "      <td>-0.813399</td>\n",
       "      <td>0.045308</td>\n",
       "      <td>-0.893926</td>\n",
       "    </tr>\n",
       "  </tbody>\n",
       "</table>\n",
       "</div>"
      ],
      "text/plain": [
       "                   A         B         C         D\n",
       "2013-01-02  0.395941 -1.896039  0.534176  0.255334\n",
       "2013-01-03  1.629094 -0.461478 -1.140387  0.557293\n",
       "2013-01-04  0.532425 -0.813399  0.045308 -0.893926"
      ]
     },
     "execution_count": 47,
     "metadata": {},
     "output_type": "execute_result"
    }
   ],
   "source": [
    "df['20130102':'20130104']"
   ]
  },
  {
   "cell_type": "markdown",
   "metadata": {},
   "source": [
    "### 通过标签选取"
   ]
  },
  {
   "cell_type": "markdown",
   "metadata": {},
   "source": [
    "通过标签进行交叉选取："
   ]
  },
  {
   "cell_type": "code",
   "execution_count": 48,
   "metadata": {},
   "outputs": [
    {
     "data": {
      "text/plain": [
       "A   -0.237028\n",
       "B    0.585954\n",
       "C    0.088251\n",
       "D   -0.600511\n",
       "Name: 2013-01-01 00:00:00, dtype: float64"
      ]
     },
     "execution_count": 48,
     "metadata": {},
     "output_type": "execute_result"
    }
   ],
   "source": [
    "df.loc[dates[0]]"
   ]
  },
  {
   "cell_type": "markdown",
   "metadata": {},
   "source": [
    "使用标签对多个轴进行选取"
   ]
  },
  {
   "cell_type": "code",
   "execution_count": 49,
   "metadata": {},
   "outputs": [
    {
     "data": {
      "text/html": [
       "<div>\n",
       "<table border=\"1\" class=\"dataframe\">\n",
       "  <thead>\n",
       "    <tr style=\"text-align: right;\">\n",
       "      <th></th>\n",
       "      <th>A</th>\n",
       "      <th>B</th>\n",
       "    </tr>\n",
       "  </thead>\n",
       "  <tbody>\n",
       "    <tr>\n",
       "      <th>2013-01-01</th>\n",
       "      <td>-0.237028</td>\n",
       "      <td>0.585954</td>\n",
       "    </tr>\n",
       "    <tr>\n",
       "      <th>2013-01-02</th>\n",
       "      <td>0.395941</td>\n",
       "      <td>-1.896039</td>\n",
       "    </tr>\n",
       "    <tr>\n",
       "      <th>2013-01-03</th>\n",
       "      <td>1.629094</td>\n",
       "      <td>-0.461478</td>\n",
       "    </tr>\n",
       "    <tr>\n",
       "      <th>2013-01-04</th>\n",
       "      <td>0.532425</td>\n",
       "      <td>-0.813399</td>\n",
       "    </tr>\n",
       "    <tr>\n",
       "      <th>2013-01-05</th>\n",
       "      <td>-0.869447</td>\n",
       "      <td>-0.594692</td>\n",
       "    </tr>\n",
       "    <tr>\n",
       "      <th>2013-01-06</th>\n",
       "      <td>0.396682</td>\n",
       "      <td>-0.066450</td>\n",
       "    </tr>\n",
       "  </tbody>\n",
       "</table>\n",
       "</div>"
      ],
      "text/plain": [
       "                   A         B\n",
       "2013-01-01 -0.237028  0.585954\n",
       "2013-01-02  0.395941 -1.896039\n",
       "2013-01-03  1.629094 -0.461478\n",
       "2013-01-04  0.532425 -0.813399\n",
       "2013-01-05 -0.869447 -0.594692\n",
       "2013-01-06  0.396682 -0.066450"
      ]
     },
     "execution_count": 49,
     "metadata": {},
     "output_type": "execute_result"
    }
   ],
   "source": [
    "df.loc[:,['A','B']]"
   ]
  },
  {
   "cell_type": "markdown",
   "metadata": {},
   "source": [
    "进行标签切片，包含两个端点"
   ]
  },
  {
   "cell_type": "code",
   "execution_count": 51,
   "metadata": {},
   "outputs": [
    {
     "data": {
      "text/html": [
       "<div>\n",
       "<table border=\"1\" class=\"dataframe\">\n",
       "  <thead>\n",
       "    <tr style=\"text-align: right;\">\n",
       "      <th></th>\n",
       "      <th>A</th>\n",
       "      <th>B</th>\n",
       "    </tr>\n",
       "  </thead>\n",
       "  <tbody>\n",
       "    <tr>\n",
       "      <th>2013-01-02</th>\n",
       "      <td>0.395941</td>\n",
       "      <td>-1.896039</td>\n",
       "    </tr>\n",
       "    <tr>\n",
       "      <th>2013-01-03</th>\n",
       "      <td>1.629094</td>\n",
       "      <td>-0.461478</td>\n",
       "    </tr>\n",
       "    <tr>\n",
       "      <th>2013-01-04</th>\n",
       "      <td>0.532425</td>\n",
       "      <td>-0.813399</td>\n",
       "    </tr>\n",
       "  </tbody>\n",
       "</table>\n",
       "</div>"
      ],
      "text/plain": [
       "                   A         B\n",
       "2013-01-02  0.395941 -1.896039\n",
       "2013-01-03  1.629094 -0.461478\n",
       "2013-01-04  0.532425 -0.813399"
      ]
     },
     "execution_count": 51,
     "metadata": {},
     "output_type": "execute_result"
    }
   ],
   "source": [
    "df.loc['20130102':'20130104',['A','B']]"
   ]
  },
  {
   "cell_type": "markdown",
   "metadata": {},
   "source": [
    "对于返回的对象进行降维处理"
   ]
  },
  {
   "cell_type": "code",
   "execution_count": 50,
   "metadata": {},
   "outputs": [
    {
     "data": {
      "text/plain": [
       "A    0.395941\n",
       "B   -1.896039\n",
       "Name: 2013-01-02 00:00:00, dtype: float64"
      ]
     },
     "execution_count": 50,
     "metadata": {},
     "output_type": "execute_result"
    }
   ],
   "source": [
    "df.loc['20130102',['A','B']]"
   ]
  },
  {
   "cell_type": "markdown",
   "metadata": {},
   "source": [
    "获取标量值"
   ]
  },
  {
   "cell_type": "code",
   "execution_count": 52,
   "metadata": {},
   "outputs": [
    {
     "data": {
      "text/plain": [
       "-0.23702834481033705"
      ]
     },
     "execution_count": 52,
     "metadata": {},
     "output_type": "execute_result"
    }
   ],
   "source": [
    "df.loc[dates[0],'A']"
   ]
  },
  {
   "cell_type": "markdown",
   "metadata": {},
   "source": [
    "快速获取标量（与上面的方法等价）"
   ]
  },
  {
   "cell_type": "code",
   "execution_count": 53,
   "metadata": {},
   "outputs": [
    {
     "data": {
      "text/plain": [
       "-0.23702834481033705"
      ]
     },
     "execution_count": 53,
     "metadata": {},
     "output_type": "execute_result"
    }
   ],
   "source": [
    "df.at[dates[0],'A']"
   ]
  },
  {
   "cell_type": "markdown",
   "metadata": {},
   "source": [
    "### 通过位置选取"
   ]
  },
  {
   "cell_type": "markdown",
   "metadata": {},
   "source": [
    "通过传递整型的位置进行选取"
   ]
  },
  {
   "cell_type": "code",
   "execution_count": 54,
   "metadata": {},
   "outputs": [
    {
     "data": {
      "text/plain": [
       "A    0.532425\n",
       "B   -0.813399\n",
       "C    0.045308\n",
       "D   -0.893926\n",
       "Name: 2013-01-04 00:00:00, dtype: float64"
      ]
     },
     "execution_count": 54,
     "metadata": {},
     "output_type": "execute_result"
    }
   ],
   "source": [
    "df.iloc[3]"
   ]
  },
  {
   "cell_type": "markdown",
   "metadata": {},
   "source": [
    "通过整型的位置切片进行选取"
   ]
  },
  {
   "cell_type": "code",
   "execution_count": 55,
   "metadata": {},
   "outputs": [
    {
     "data": {
      "text/html": [
       "<div>\n",
       "<table border=\"1\" class=\"dataframe\">\n",
       "  <thead>\n",
       "    <tr style=\"text-align: right;\">\n",
       "      <th></th>\n",
       "      <th>A</th>\n",
       "      <th>B</th>\n",
       "    </tr>\n",
       "  </thead>\n",
       "  <tbody>\n",
       "    <tr>\n",
       "      <th>2013-01-04</th>\n",
       "      <td>0.532425</td>\n",
       "      <td>-0.813399</td>\n",
       "    </tr>\n",
       "    <tr>\n",
       "      <th>2013-01-05</th>\n",
       "      <td>-0.869447</td>\n",
       "      <td>-0.594692</td>\n",
       "    </tr>\n",
       "  </tbody>\n",
       "</table>\n",
       "</div>"
      ],
      "text/plain": [
       "                   A         B\n",
       "2013-01-04  0.532425 -0.813399\n",
       "2013-01-05 -0.869447 -0.594692"
      ]
     },
     "execution_count": 55,
     "metadata": {},
     "output_type": "execute_result"
    }
   ],
   "source": [
    "df.iloc[3:5,0:2]"
   ]
  },
  {
   "cell_type": "markdown",
   "metadata": {},
   "source": [
    "通过列表指定位置"
   ]
  },
  {
   "cell_type": "code",
   "execution_count": 56,
   "metadata": {},
   "outputs": [
    {
     "data": {
      "text/html": [
       "<div>\n",
       "<table border=\"1\" class=\"dataframe\">\n",
       "  <thead>\n",
       "    <tr style=\"text-align: right;\">\n",
       "      <th></th>\n",
       "      <th>A</th>\n",
       "      <th>C</th>\n",
       "    </tr>\n",
       "  </thead>\n",
       "  <tbody>\n",
       "    <tr>\n",
       "      <th>2013-01-02</th>\n",
       "      <td>0.395941</td>\n",
       "      <td>0.534176</td>\n",
       "    </tr>\n",
       "    <tr>\n",
       "      <th>2013-01-03</th>\n",
       "      <td>1.629094</td>\n",
       "      <td>-1.140387</td>\n",
       "    </tr>\n",
       "    <tr>\n",
       "      <th>2013-01-05</th>\n",
       "      <td>-0.869447</td>\n",
       "      <td>2.730006</td>\n",
       "    </tr>\n",
       "  </tbody>\n",
       "</table>\n",
       "</div>"
      ],
      "text/plain": [
       "                   A         C\n",
       "2013-01-02  0.395941  0.534176\n",
       "2013-01-03  1.629094 -1.140387\n",
       "2013-01-05 -0.869447  2.730006"
      ]
     },
     "execution_count": 56,
     "metadata": {},
     "output_type": "execute_result"
    }
   ],
   "source": [
    "df.iloc[[1,2,4],[0,2]]"
   ]
  },
  {
   "cell_type": "markdown",
   "metadata": {},
   "source": [
    "对行切片"
   ]
  },
  {
   "cell_type": "code",
   "execution_count": 57,
   "metadata": {},
   "outputs": [
    {
     "data": {
      "text/html": [
       "<div>\n",
       "<table border=\"1\" class=\"dataframe\">\n",
       "  <thead>\n",
       "    <tr style=\"text-align: right;\">\n",
       "      <th></th>\n",
       "      <th>A</th>\n",
       "      <th>B</th>\n",
       "      <th>C</th>\n",
       "      <th>D</th>\n",
       "    </tr>\n",
       "  </thead>\n",
       "  <tbody>\n",
       "    <tr>\n",
       "      <th>2013-01-02</th>\n",
       "      <td>0.395941</td>\n",
       "      <td>-1.896039</td>\n",
       "      <td>0.534176</td>\n",
       "      <td>0.255334</td>\n",
       "    </tr>\n",
       "    <tr>\n",
       "      <th>2013-01-03</th>\n",
       "      <td>1.629094</td>\n",
       "      <td>-0.461478</td>\n",
       "      <td>-1.140387</td>\n",
       "      <td>0.557293</td>\n",
       "    </tr>\n",
       "  </tbody>\n",
       "</table>\n",
       "</div>"
      ],
      "text/plain": [
       "                   A         B         C         D\n",
       "2013-01-02  0.395941 -1.896039  0.534176  0.255334\n",
       "2013-01-03  1.629094 -0.461478 -1.140387  0.557293"
      ]
     },
     "execution_count": 57,
     "metadata": {},
     "output_type": "execute_result"
    }
   ],
   "source": [
    "df.iloc[1:3,:]"
   ]
  },
  {
   "cell_type": "markdown",
   "metadata": {},
   "source": [
    "对列切片"
   ]
  },
  {
   "cell_type": "code",
   "execution_count": 59,
   "metadata": {},
   "outputs": [
    {
     "data": {
      "text/html": [
       "<div>\n",
       "<table border=\"1\" class=\"dataframe\">\n",
       "  <thead>\n",
       "    <tr style=\"text-align: right;\">\n",
       "      <th></th>\n",
       "      <th>B</th>\n",
       "      <th>C</th>\n",
       "    </tr>\n",
       "  </thead>\n",
       "  <tbody>\n",
       "    <tr>\n",
       "      <th>2013-01-01</th>\n",
       "      <td>0.585954</td>\n",
       "      <td>0.088251</td>\n",
       "    </tr>\n",
       "    <tr>\n",
       "      <th>2013-01-02</th>\n",
       "      <td>-1.896039</td>\n",
       "      <td>0.534176</td>\n",
       "    </tr>\n",
       "    <tr>\n",
       "      <th>2013-01-03</th>\n",
       "      <td>-0.461478</td>\n",
       "      <td>-1.140387</td>\n",
       "    </tr>\n",
       "    <tr>\n",
       "      <th>2013-01-04</th>\n",
       "      <td>-0.813399</td>\n",
       "      <td>0.045308</td>\n",
       "    </tr>\n",
       "    <tr>\n",
       "      <th>2013-01-05</th>\n",
       "      <td>-0.594692</td>\n",
       "      <td>2.730006</td>\n",
       "    </tr>\n",
       "    <tr>\n",
       "      <th>2013-01-06</th>\n",
       "      <td>-0.066450</td>\n",
       "      <td>-0.833855</td>\n",
       "    </tr>\n",
       "  </tbody>\n",
       "</table>\n",
       "</div>"
      ],
      "text/plain": [
       "                   B         C\n",
       "2013-01-01  0.585954  0.088251\n",
       "2013-01-02 -1.896039  0.534176\n",
       "2013-01-03 -0.461478 -1.140387\n",
       "2013-01-04 -0.813399  0.045308\n",
       "2013-01-05 -0.594692  2.730006\n",
       "2013-01-06 -0.066450 -0.833855"
      ]
     },
     "execution_count": 59,
     "metadata": {},
     "output_type": "execute_result"
    }
   ],
   "source": [
    "df.iloc[:,1:3]"
   ]
  },
  {
   "cell_type": "markdown",
   "metadata": {},
   "source": [
    "获取指定值"
   ]
  },
  {
   "cell_type": "code",
   "execution_count": 60,
   "metadata": {},
   "outputs": [
    {
     "data": {
      "text/plain": [
       "-1.8960386948255366"
      ]
     },
     "execution_count": 60,
     "metadata": {},
     "output_type": "execute_result"
    }
   ],
   "source": [
    "df.iloc[1,1]"
   ]
  },
  {
   "cell_type": "markdown",
   "metadata": {},
   "source": [
    "快速获取指定值（与上面的方法等价）"
   ]
  },
  {
   "cell_type": "code",
   "execution_count": 61,
   "metadata": {},
   "outputs": [
    {
     "data": {
      "text/plain": [
       "-1.8960386948255366"
      ]
     },
     "execution_count": 61,
     "metadata": {},
     "output_type": "execute_result"
    }
   ],
   "source": [
    "df.iat[1,1]"
   ]
  },
  {
   "cell_type": "markdown",
   "metadata": {},
   "source": [
    "### 布尔索引"
   ]
  },
  {
   "cell_type": "markdown",
   "metadata": {},
   "source": [
    "用某列的值来选取数据"
   ]
  },
  {
   "cell_type": "code",
   "execution_count": 62,
   "metadata": {},
   "outputs": [
    {
     "data": {
      "text/html": [
       "<div>\n",
       "<table border=\"1\" class=\"dataframe\">\n",
       "  <thead>\n",
       "    <tr style=\"text-align: right;\">\n",
       "      <th></th>\n",
       "      <th>A</th>\n",
       "      <th>B</th>\n",
       "      <th>C</th>\n",
       "      <th>D</th>\n",
       "    </tr>\n",
       "  </thead>\n",
       "  <tbody>\n",
       "    <tr>\n",
       "      <th>2013-01-02</th>\n",
       "      <td>0.395941</td>\n",
       "      <td>-1.896039</td>\n",
       "      <td>0.534176</td>\n",
       "      <td>0.255334</td>\n",
       "    </tr>\n",
       "    <tr>\n",
       "      <th>2013-01-03</th>\n",
       "      <td>1.629094</td>\n",
       "      <td>-0.461478</td>\n",
       "      <td>-1.140387</td>\n",
       "      <td>0.557293</td>\n",
       "    </tr>\n",
       "    <tr>\n",
       "      <th>2013-01-04</th>\n",
       "      <td>0.532425</td>\n",
       "      <td>-0.813399</td>\n",
       "      <td>0.045308</td>\n",
       "      <td>-0.893926</td>\n",
       "    </tr>\n",
       "    <tr>\n",
       "      <th>2013-01-06</th>\n",
       "      <td>0.396682</td>\n",
       "      <td>-0.066450</td>\n",
       "      <td>-0.833855</td>\n",
       "      <td>-0.346283</td>\n",
       "    </tr>\n",
       "  </tbody>\n",
       "</table>\n",
       "</div>"
      ],
      "text/plain": [
       "                   A         B         C         D\n",
       "2013-01-02  0.395941 -1.896039  0.534176  0.255334\n",
       "2013-01-03  1.629094 -0.461478 -1.140387  0.557293\n",
       "2013-01-04  0.532425 -0.813399  0.045308 -0.893926\n",
       "2013-01-06  0.396682 -0.066450 -0.833855 -0.346283"
      ]
     },
     "execution_count": 62,
     "metadata": {},
     "output_type": "execute_result"
    }
   ],
   "source": [
    "df[df.A > 0]"
   ]
  },
  {
   "cell_type": "markdown",
   "metadata": {},
   "source": [
    "用where操作来选取数据"
   ]
  },
  {
   "cell_type": "code",
   "execution_count": 63,
   "metadata": {},
   "outputs": [
    {
     "data": {
      "text/html": [
       "<div>\n",
       "<table border=\"1\" class=\"dataframe\">\n",
       "  <thead>\n",
       "    <tr style=\"text-align: right;\">\n",
       "      <th></th>\n",
       "      <th>A</th>\n",
       "      <th>B</th>\n",
       "      <th>C</th>\n",
       "      <th>D</th>\n",
       "    </tr>\n",
       "  </thead>\n",
       "  <tbody>\n",
       "    <tr>\n",
       "      <th>2013-01-01</th>\n",
       "      <td>NaN</td>\n",
       "      <td>0.585954</td>\n",
       "      <td>0.088251</td>\n",
       "      <td>NaN</td>\n",
       "    </tr>\n",
       "    <tr>\n",
       "      <th>2013-01-02</th>\n",
       "      <td>0.395941</td>\n",
       "      <td>NaN</td>\n",
       "      <td>0.534176</td>\n",
       "      <td>0.255334</td>\n",
       "    </tr>\n",
       "    <tr>\n",
       "      <th>2013-01-03</th>\n",
       "      <td>1.629094</td>\n",
       "      <td>NaN</td>\n",
       "      <td>NaN</td>\n",
       "      <td>0.557293</td>\n",
       "    </tr>\n",
       "    <tr>\n",
       "      <th>2013-01-04</th>\n",
       "      <td>0.532425</td>\n",
       "      <td>NaN</td>\n",
       "      <td>0.045308</td>\n",
       "      <td>NaN</td>\n",
       "    </tr>\n",
       "    <tr>\n",
       "      <th>2013-01-05</th>\n",
       "      <td>NaN</td>\n",
       "      <td>NaN</td>\n",
       "      <td>2.730006</td>\n",
       "      <td>NaN</td>\n",
       "    </tr>\n",
       "    <tr>\n",
       "      <th>2013-01-06</th>\n",
       "      <td>0.396682</td>\n",
       "      <td>NaN</td>\n",
       "      <td>NaN</td>\n",
       "      <td>NaN</td>\n",
       "    </tr>\n",
       "  </tbody>\n",
       "</table>\n",
       "</div>"
      ],
      "text/plain": [
       "                   A         B         C         D\n",
       "2013-01-01       NaN  0.585954  0.088251       NaN\n",
       "2013-01-02  0.395941       NaN  0.534176  0.255334\n",
       "2013-01-03  1.629094       NaN       NaN  0.557293\n",
       "2013-01-04  0.532425       NaN  0.045308       NaN\n",
       "2013-01-05       NaN       NaN  2.730006       NaN\n",
       "2013-01-06  0.396682       NaN       NaN       NaN"
      ]
     },
     "execution_count": 63,
     "metadata": {},
     "output_type": "execute_result"
    }
   ],
   "source": [
    "df[df > 0]"
   ]
  },
  {
   "cell_type": "markdown",
   "metadata": {},
   "source": [
    "用isin()方法来过滤数据"
   ]
  },
  {
   "cell_type": "code",
   "execution_count": 65,
   "metadata": {},
   "outputs": [
    {
     "data": {
      "text/html": [
       "<div>\n",
       "<table border=\"1\" class=\"dataframe\">\n",
       "  <thead>\n",
       "    <tr style=\"text-align: right;\">\n",
       "      <th></th>\n",
       "      <th>A</th>\n",
       "      <th>B</th>\n",
       "      <th>C</th>\n",
       "      <th>D</th>\n",
       "      <th>E</th>\n",
       "    </tr>\n",
       "  </thead>\n",
       "  <tbody>\n",
       "    <tr>\n",
       "      <th>2013-01-01</th>\n",
       "      <td>-0.237028</td>\n",
       "      <td>0.585954</td>\n",
       "      <td>0.088251</td>\n",
       "      <td>-0.600511</td>\n",
       "      <td>one</td>\n",
       "    </tr>\n",
       "    <tr>\n",
       "      <th>2013-01-02</th>\n",
       "      <td>0.395941</td>\n",
       "      <td>-1.896039</td>\n",
       "      <td>0.534176</td>\n",
       "      <td>0.255334</td>\n",
       "      <td>one</td>\n",
       "    </tr>\n",
       "    <tr>\n",
       "      <th>2013-01-03</th>\n",
       "      <td>1.629094</td>\n",
       "      <td>-0.461478</td>\n",
       "      <td>-1.140387</td>\n",
       "      <td>0.557293</td>\n",
       "      <td>two</td>\n",
       "    </tr>\n",
       "    <tr>\n",
       "      <th>2013-01-04</th>\n",
       "      <td>0.532425</td>\n",
       "      <td>-0.813399</td>\n",
       "      <td>0.045308</td>\n",
       "      <td>-0.893926</td>\n",
       "      <td>three</td>\n",
       "    </tr>\n",
       "    <tr>\n",
       "      <th>2013-01-05</th>\n",
       "      <td>-0.869447</td>\n",
       "      <td>-0.594692</td>\n",
       "      <td>2.730006</td>\n",
       "      <td>-1.703734</td>\n",
       "      <td>four</td>\n",
       "    </tr>\n",
       "    <tr>\n",
       "      <th>2013-01-06</th>\n",
       "      <td>0.396682</td>\n",
       "      <td>-0.066450</td>\n",
       "      <td>-0.833855</td>\n",
       "      <td>-0.346283</td>\n",
       "      <td>three</td>\n",
       "    </tr>\n",
       "  </tbody>\n",
       "</table>\n",
       "</div>"
      ],
      "text/plain": [
       "                   A         B         C         D      E\n",
       "2013-01-01 -0.237028  0.585954  0.088251 -0.600511    one\n",
       "2013-01-02  0.395941 -1.896039  0.534176  0.255334    one\n",
       "2013-01-03  1.629094 -0.461478 -1.140387  0.557293    two\n",
       "2013-01-04  0.532425 -0.813399  0.045308 -0.893926  three\n",
       "2013-01-05 -0.869447 -0.594692  2.730006 -1.703734   four\n",
       "2013-01-06  0.396682 -0.066450 -0.833855 -0.346283  three"
      ]
     },
     "execution_count": 65,
     "metadata": {},
     "output_type": "execute_result"
    }
   ],
   "source": [
    "df2 = df.copy()\n",
    "df2['E'] = ['one', 'one','two','three','four','three']\n",
    "df2"
   ]
  },
  {
   "cell_type": "code",
   "execution_count": 66,
   "metadata": {},
   "outputs": [
    {
     "data": {
      "text/html": [
       "<div>\n",
       "<table border=\"1\" class=\"dataframe\">\n",
       "  <thead>\n",
       "    <tr style=\"text-align: right;\">\n",
       "      <th></th>\n",
       "      <th>A</th>\n",
       "      <th>B</th>\n",
       "      <th>C</th>\n",
       "      <th>D</th>\n",
       "      <th>E</th>\n",
       "    </tr>\n",
       "  </thead>\n",
       "  <tbody>\n",
       "    <tr>\n",
       "      <th>2013-01-03</th>\n",
       "      <td>1.629094</td>\n",
       "      <td>-0.461478</td>\n",
       "      <td>-1.140387</td>\n",
       "      <td>0.557293</td>\n",
       "      <td>two</td>\n",
       "    </tr>\n",
       "    <tr>\n",
       "      <th>2013-01-05</th>\n",
       "      <td>-0.869447</td>\n",
       "      <td>-0.594692</td>\n",
       "      <td>2.730006</td>\n",
       "      <td>-1.703734</td>\n",
       "      <td>four</td>\n",
       "    </tr>\n",
       "  </tbody>\n",
       "</table>\n",
       "</div>"
      ],
      "text/plain": [
       "                   A         B         C         D     E\n",
       "2013-01-03  1.629094 -0.461478 -1.140387  0.557293   two\n",
       "2013-01-05 -0.869447 -0.594692  2.730006 -1.703734  four"
      ]
     },
     "execution_count": 66,
     "metadata": {},
     "output_type": "execute_result"
    }
   ],
   "source": [
    "df2[df2['E'].isin(['two','four'])]"
   ]
  },
  {
   "cell_type": "markdown",
   "metadata": {},
   "source": [
    "### 赋值"
   ]
  },
  {
   "cell_type": "markdown",
   "metadata": {},
   "source": [
    "赋值一个新的列，通过索引来自动对齐数据"
   ]
  },
  {
   "cell_type": "code",
   "execution_count": 68,
   "metadata": {},
   "outputs": [
    {
     "data": {
      "text/plain": [
       "2013-01-02    1\n",
       "2013-01-03    2\n",
       "2013-01-04    3\n",
       "2013-01-05    4\n",
       "2013-01-06    5\n",
       "2013-01-07    6\n",
       "Freq: D, dtype: int64"
      ]
     },
     "execution_count": 68,
     "metadata": {},
     "output_type": "execute_result"
    }
   ],
   "source": [
    "s1 = pd.Series([1,2,3,4,5,6], index=pd.date_range('20130102', periods=6))\n",
    "s1"
   ]
  },
  {
   "cell_type": "code",
   "execution_count": 70,
   "metadata": {},
   "outputs": [
    {
     "data": {
      "text/html": [
       "<div>\n",
       "<table border=\"1\" class=\"dataframe\">\n",
       "  <thead>\n",
       "    <tr style=\"text-align: right;\">\n",
       "      <th></th>\n",
       "      <th>A</th>\n",
       "      <th>B</th>\n",
       "      <th>C</th>\n",
       "      <th>D</th>\n",
       "      <th>F</th>\n",
       "    </tr>\n",
       "  </thead>\n",
       "  <tbody>\n",
       "    <tr>\n",
       "      <th>2013-01-01</th>\n",
       "      <td>-0.237028</td>\n",
       "      <td>0.585954</td>\n",
       "      <td>0.088251</td>\n",
       "      <td>-0.600511</td>\n",
       "      <td>NaN</td>\n",
       "    </tr>\n",
       "    <tr>\n",
       "      <th>2013-01-02</th>\n",
       "      <td>0.395941</td>\n",
       "      <td>-1.896039</td>\n",
       "      <td>0.534176</td>\n",
       "      <td>0.255334</td>\n",
       "      <td>1.0</td>\n",
       "    </tr>\n",
       "    <tr>\n",
       "      <th>2013-01-03</th>\n",
       "      <td>1.629094</td>\n",
       "      <td>-0.461478</td>\n",
       "      <td>-1.140387</td>\n",
       "      <td>0.557293</td>\n",
       "      <td>2.0</td>\n",
       "    </tr>\n",
       "    <tr>\n",
       "      <th>2013-01-04</th>\n",
       "      <td>0.532425</td>\n",
       "      <td>-0.813399</td>\n",
       "      <td>0.045308</td>\n",
       "      <td>-0.893926</td>\n",
       "      <td>3.0</td>\n",
       "    </tr>\n",
       "    <tr>\n",
       "      <th>2013-01-05</th>\n",
       "      <td>-0.869447</td>\n",
       "      <td>-0.594692</td>\n",
       "      <td>2.730006</td>\n",
       "      <td>-1.703734</td>\n",
       "      <td>4.0</td>\n",
       "    </tr>\n",
       "    <tr>\n",
       "      <th>2013-01-06</th>\n",
       "      <td>0.396682</td>\n",
       "      <td>-0.066450</td>\n",
       "      <td>-0.833855</td>\n",
       "      <td>-0.346283</td>\n",
       "      <td>5.0</td>\n",
       "    </tr>\n",
       "  </tbody>\n",
       "</table>\n",
       "</div>"
      ],
      "text/plain": [
       "                   A         B         C         D    F\n",
       "2013-01-01 -0.237028  0.585954  0.088251 -0.600511  NaN\n",
       "2013-01-02  0.395941 -1.896039  0.534176  0.255334  1.0\n",
       "2013-01-03  1.629094 -0.461478 -1.140387  0.557293  2.0\n",
       "2013-01-04  0.532425 -0.813399  0.045308 -0.893926  3.0\n",
       "2013-01-05 -0.869447 -0.594692  2.730006 -1.703734  4.0\n",
       "2013-01-06  0.396682 -0.066450 -0.833855 -0.346283  5.0"
      ]
     },
     "execution_count": 70,
     "metadata": {},
     "output_type": "execute_result"
    }
   ],
   "source": [
    "df['F'] = s1\n",
    "df"
   ]
  },
  {
   "cell_type": "markdown",
   "metadata": {},
   "source": [
    "通过标签赋值"
   ]
  },
  {
   "cell_type": "code",
   "execution_count": 72,
   "metadata": {},
   "outputs": [
    {
     "data": {
      "text/html": [
       "<div>\n",
       "<table border=\"1\" class=\"dataframe\">\n",
       "  <thead>\n",
       "    <tr style=\"text-align: right;\">\n",
       "      <th></th>\n",
       "      <th>A</th>\n",
       "      <th>B</th>\n",
       "      <th>C</th>\n",
       "      <th>D</th>\n",
       "      <th>F</th>\n",
       "    </tr>\n",
       "  </thead>\n",
       "  <tbody>\n",
       "    <tr>\n",
       "      <th>2013-01-01</th>\n",
       "      <td>0.000000</td>\n",
       "      <td>0.585954</td>\n",
       "      <td>0.088251</td>\n",
       "      <td>-0.600511</td>\n",
       "      <td>NaN</td>\n",
       "    </tr>\n",
       "    <tr>\n",
       "      <th>2013-01-02</th>\n",
       "      <td>0.395941</td>\n",
       "      <td>-1.896039</td>\n",
       "      <td>0.534176</td>\n",
       "      <td>0.255334</td>\n",
       "      <td>1.0</td>\n",
       "    </tr>\n",
       "    <tr>\n",
       "      <th>2013-01-03</th>\n",
       "      <td>1.629094</td>\n",
       "      <td>-0.461478</td>\n",
       "      <td>-1.140387</td>\n",
       "      <td>0.557293</td>\n",
       "      <td>2.0</td>\n",
       "    </tr>\n",
       "    <tr>\n",
       "      <th>2013-01-04</th>\n",
       "      <td>0.532425</td>\n",
       "      <td>-0.813399</td>\n",
       "      <td>0.045308</td>\n",
       "      <td>-0.893926</td>\n",
       "      <td>3.0</td>\n",
       "    </tr>\n",
       "    <tr>\n",
       "      <th>2013-01-05</th>\n",
       "      <td>-0.869447</td>\n",
       "      <td>-0.594692</td>\n",
       "      <td>2.730006</td>\n",
       "      <td>-1.703734</td>\n",
       "      <td>4.0</td>\n",
       "    </tr>\n",
       "    <tr>\n",
       "      <th>2013-01-06</th>\n",
       "      <td>0.396682</td>\n",
       "      <td>-0.066450</td>\n",
       "      <td>-0.833855</td>\n",
       "      <td>-0.346283</td>\n",
       "      <td>5.0</td>\n",
       "    </tr>\n",
       "  </tbody>\n",
       "</table>\n",
       "</div>"
      ],
      "text/plain": [
       "                   A         B         C         D    F\n",
       "2013-01-01  0.000000  0.585954  0.088251 -0.600511  NaN\n",
       "2013-01-02  0.395941 -1.896039  0.534176  0.255334  1.0\n",
       "2013-01-03  1.629094 -0.461478 -1.140387  0.557293  2.0\n",
       "2013-01-04  0.532425 -0.813399  0.045308 -0.893926  3.0\n",
       "2013-01-05 -0.869447 -0.594692  2.730006 -1.703734  4.0\n",
       "2013-01-06  0.396682 -0.066450 -0.833855 -0.346283  5.0"
      ]
     },
     "execution_count": 72,
     "metadata": {},
     "output_type": "execute_result"
    }
   ],
   "source": [
    "df.at[dates[0],'A'] = 0\n",
    "df"
   ]
  },
  {
   "cell_type": "markdown",
   "metadata": {},
   "source": [
    "通过位置赋值"
   ]
  },
  {
   "cell_type": "code",
   "execution_count": 73,
   "metadata": {},
   "outputs": [
    {
     "data": {
      "text/html": [
       "<div>\n",
       "<table border=\"1\" class=\"dataframe\">\n",
       "  <thead>\n",
       "    <tr style=\"text-align: right;\">\n",
       "      <th></th>\n",
       "      <th>A</th>\n",
       "      <th>B</th>\n",
       "      <th>C</th>\n",
       "      <th>D</th>\n",
       "      <th>F</th>\n",
       "    </tr>\n",
       "  </thead>\n",
       "  <tbody>\n",
       "    <tr>\n",
       "      <th>2013-01-01</th>\n",
       "      <td>0.000000</td>\n",
       "      <td>0.000000</td>\n",
       "      <td>0.088251</td>\n",
       "      <td>-0.600511</td>\n",
       "      <td>NaN</td>\n",
       "    </tr>\n",
       "    <tr>\n",
       "      <th>2013-01-02</th>\n",
       "      <td>0.395941</td>\n",
       "      <td>-1.896039</td>\n",
       "      <td>0.534176</td>\n",
       "      <td>0.255334</td>\n",
       "      <td>1.0</td>\n",
       "    </tr>\n",
       "    <tr>\n",
       "      <th>2013-01-03</th>\n",
       "      <td>1.629094</td>\n",
       "      <td>-0.461478</td>\n",
       "      <td>-1.140387</td>\n",
       "      <td>0.557293</td>\n",
       "      <td>2.0</td>\n",
       "    </tr>\n",
       "    <tr>\n",
       "      <th>2013-01-04</th>\n",
       "      <td>0.532425</td>\n",
       "      <td>-0.813399</td>\n",
       "      <td>0.045308</td>\n",
       "      <td>-0.893926</td>\n",
       "      <td>3.0</td>\n",
       "    </tr>\n",
       "    <tr>\n",
       "      <th>2013-01-05</th>\n",
       "      <td>-0.869447</td>\n",
       "      <td>-0.594692</td>\n",
       "      <td>2.730006</td>\n",
       "      <td>-1.703734</td>\n",
       "      <td>4.0</td>\n",
       "    </tr>\n",
       "    <tr>\n",
       "      <th>2013-01-06</th>\n",
       "      <td>0.396682</td>\n",
       "      <td>-0.066450</td>\n",
       "      <td>-0.833855</td>\n",
       "      <td>-0.346283</td>\n",
       "      <td>5.0</td>\n",
       "    </tr>\n",
       "  </tbody>\n",
       "</table>\n",
       "</div>"
      ],
      "text/plain": [
       "                   A         B         C         D    F\n",
       "2013-01-01  0.000000  0.000000  0.088251 -0.600511  NaN\n",
       "2013-01-02  0.395941 -1.896039  0.534176  0.255334  1.0\n",
       "2013-01-03  1.629094 -0.461478 -1.140387  0.557293  2.0\n",
       "2013-01-04  0.532425 -0.813399  0.045308 -0.893926  3.0\n",
       "2013-01-05 -0.869447 -0.594692  2.730006 -1.703734  4.0\n",
       "2013-01-06  0.396682 -0.066450 -0.833855 -0.346283  5.0"
      ]
     },
     "execution_count": 73,
     "metadata": {},
     "output_type": "execute_result"
    }
   ],
   "source": [
    "df.iat[0,1] = 0\n",
    "df"
   ]
  },
  {
   "cell_type": "markdown",
   "metadata": {},
   "source": [
    "通过传递numpy array赋值"
   ]
  },
  {
   "cell_type": "code",
   "execution_count": 74,
   "metadata": {},
   "outputs": [
    {
     "data": {
      "text/html": [
       "<div>\n",
       "<table border=\"1\" class=\"dataframe\">\n",
       "  <thead>\n",
       "    <tr style=\"text-align: right;\">\n",
       "      <th></th>\n",
       "      <th>A</th>\n",
       "      <th>B</th>\n",
       "      <th>C</th>\n",
       "      <th>D</th>\n",
       "      <th>F</th>\n",
       "    </tr>\n",
       "  </thead>\n",
       "  <tbody>\n",
       "    <tr>\n",
       "      <th>2013-01-01</th>\n",
       "      <td>0.000000</td>\n",
       "      <td>0.000000</td>\n",
       "      <td>0.088251</td>\n",
       "      <td>5</td>\n",
       "      <td>NaN</td>\n",
       "    </tr>\n",
       "    <tr>\n",
       "      <th>2013-01-02</th>\n",
       "      <td>0.395941</td>\n",
       "      <td>-1.896039</td>\n",
       "      <td>0.534176</td>\n",
       "      <td>5</td>\n",
       "      <td>1.0</td>\n",
       "    </tr>\n",
       "    <tr>\n",
       "      <th>2013-01-03</th>\n",
       "      <td>1.629094</td>\n",
       "      <td>-0.461478</td>\n",
       "      <td>-1.140387</td>\n",
       "      <td>5</td>\n",
       "      <td>2.0</td>\n",
       "    </tr>\n",
       "    <tr>\n",
       "      <th>2013-01-04</th>\n",
       "      <td>0.532425</td>\n",
       "      <td>-0.813399</td>\n",
       "      <td>0.045308</td>\n",
       "      <td>5</td>\n",
       "      <td>3.0</td>\n",
       "    </tr>\n",
       "    <tr>\n",
       "      <th>2013-01-05</th>\n",
       "      <td>-0.869447</td>\n",
       "      <td>-0.594692</td>\n",
       "      <td>2.730006</td>\n",
       "      <td>5</td>\n",
       "      <td>4.0</td>\n",
       "    </tr>\n",
       "    <tr>\n",
       "      <th>2013-01-06</th>\n",
       "      <td>0.396682</td>\n",
       "      <td>-0.066450</td>\n",
       "      <td>-0.833855</td>\n",
       "      <td>5</td>\n",
       "      <td>5.0</td>\n",
       "    </tr>\n",
       "  </tbody>\n",
       "</table>\n",
       "</div>"
      ],
      "text/plain": [
       "                   A         B         C  D    F\n",
       "2013-01-01  0.000000  0.000000  0.088251  5  NaN\n",
       "2013-01-02  0.395941 -1.896039  0.534176  5  1.0\n",
       "2013-01-03  1.629094 -0.461478 -1.140387  5  2.0\n",
       "2013-01-04  0.532425 -0.813399  0.045308  5  3.0\n",
       "2013-01-05 -0.869447 -0.594692  2.730006  5  4.0\n",
       "2013-01-06  0.396682 -0.066450 -0.833855  5  5.0"
      ]
     },
     "execution_count": 74,
     "metadata": {},
     "output_type": "execute_result"
    }
   ],
   "source": [
    "df.loc[:,'D'] = np.array([5] * len(df))\n",
    "df"
   ]
  },
  {
   "cell_type": "markdown",
   "metadata": {},
   "source": [
    "通过where操作来赋值"
   ]
  },
  {
   "cell_type": "code",
   "execution_count": 75,
   "metadata": {},
   "outputs": [
    {
     "data": {
      "text/html": [
       "<div>\n",
       "<table border=\"1\" class=\"dataframe\">\n",
       "  <thead>\n",
       "    <tr style=\"text-align: right;\">\n",
       "      <th></th>\n",
       "      <th>A</th>\n",
       "      <th>B</th>\n",
       "      <th>C</th>\n",
       "      <th>D</th>\n",
       "      <th>F</th>\n",
       "    </tr>\n",
       "  </thead>\n",
       "  <tbody>\n",
       "    <tr>\n",
       "      <th>2013-01-01</th>\n",
       "      <td>0.000000</td>\n",
       "      <td>0.000000</td>\n",
       "      <td>-0.088251</td>\n",
       "      <td>-5</td>\n",
       "      <td>NaN</td>\n",
       "    </tr>\n",
       "    <tr>\n",
       "      <th>2013-01-02</th>\n",
       "      <td>-0.395941</td>\n",
       "      <td>-1.896039</td>\n",
       "      <td>-0.534176</td>\n",
       "      <td>-5</td>\n",
       "      <td>-1.0</td>\n",
       "    </tr>\n",
       "    <tr>\n",
       "      <th>2013-01-03</th>\n",
       "      <td>-1.629094</td>\n",
       "      <td>-0.461478</td>\n",
       "      <td>-1.140387</td>\n",
       "      <td>-5</td>\n",
       "      <td>-2.0</td>\n",
       "    </tr>\n",
       "    <tr>\n",
       "      <th>2013-01-04</th>\n",
       "      <td>-0.532425</td>\n",
       "      <td>-0.813399</td>\n",
       "      <td>-0.045308</td>\n",
       "      <td>-5</td>\n",
       "      <td>-3.0</td>\n",
       "    </tr>\n",
       "    <tr>\n",
       "      <th>2013-01-05</th>\n",
       "      <td>-0.869447</td>\n",
       "      <td>-0.594692</td>\n",
       "      <td>-2.730006</td>\n",
       "      <td>-5</td>\n",
       "      <td>-4.0</td>\n",
       "    </tr>\n",
       "    <tr>\n",
       "      <th>2013-01-06</th>\n",
       "      <td>-0.396682</td>\n",
       "      <td>-0.066450</td>\n",
       "      <td>-0.833855</td>\n",
       "      <td>-5</td>\n",
       "      <td>-5.0</td>\n",
       "    </tr>\n",
       "  </tbody>\n",
       "</table>\n",
       "</div>"
      ],
      "text/plain": [
       "                   A         B         C  D    F\n",
       "2013-01-01  0.000000  0.000000 -0.088251 -5  NaN\n",
       "2013-01-02 -0.395941 -1.896039 -0.534176 -5 -1.0\n",
       "2013-01-03 -1.629094 -0.461478 -1.140387 -5 -2.0\n",
       "2013-01-04 -0.532425 -0.813399 -0.045308 -5 -3.0\n",
       "2013-01-05 -0.869447 -0.594692 -2.730006 -5 -4.0\n",
       "2013-01-06 -0.396682 -0.066450 -0.833855 -5 -5.0"
      ]
     },
     "execution_count": 75,
     "metadata": {},
     "output_type": "execute_result"
    }
   ],
   "source": [
    "df2 = df.copy()\n",
    "df2[df2 > 0] = -df2\n",
    "df2"
   ]
  },
  {
   "cell_type": "markdown",
   "metadata": {},
   "source": [
    "### 缺失数据"
   ]
  },
  {
   "cell_type": "markdown",
   "metadata": {},
   "source": [
    "在pandas中，用np.nan来代表缺失数据，这些值默认不会参与运算。"
   ]
  },
  {
   "cell_type": "markdown",
   "metadata": {},
   "source": [
    "reindex()允许你修改、增加、删除指定轴上的索引，并返回一个数据副本。"
   ]
  },
  {
   "cell_type": "code",
   "execution_count": 77,
   "metadata": {},
   "outputs": [
    {
     "data": {
      "text/html": [
       "<div>\n",
       "<table border=\"1\" class=\"dataframe\">\n",
       "  <thead>\n",
       "    <tr style=\"text-align: right;\">\n",
       "      <th></th>\n",
       "      <th>A</th>\n",
       "      <th>B</th>\n",
       "      <th>C</th>\n",
       "      <th>D</th>\n",
       "      <th>F</th>\n",
       "      <th>E</th>\n",
       "    </tr>\n",
       "  </thead>\n",
       "  <tbody>\n",
       "    <tr>\n",
       "      <th>2013-01-01</th>\n",
       "      <td>0.000000</td>\n",
       "      <td>0.000000</td>\n",
       "      <td>0.088251</td>\n",
       "      <td>5</td>\n",
       "      <td>NaN</td>\n",
       "      <td>1.0</td>\n",
       "    </tr>\n",
       "    <tr>\n",
       "      <th>2013-01-02</th>\n",
       "      <td>0.395941</td>\n",
       "      <td>-1.896039</td>\n",
       "      <td>0.534176</td>\n",
       "      <td>5</td>\n",
       "      <td>1.0</td>\n",
       "      <td>1.0</td>\n",
       "    </tr>\n",
       "    <tr>\n",
       "      <th>2013-01-03</th>\n",
       "      <td>1.629094</td>\n",
       "      <td>-0.461478</td>\n",
       "      <td>-1.140387</td>\n",
       "      <td>5</td>\n",
       "      <td>2.0</td>\n",
       "      <td>NaN</td>\n",
       "    </tr>\n",
       "    <tr>\n",
       "      <th>2013-01-04</th>\n",
       "      <td>0.532425</td>\n",
       "      <td>-0.813399</td>\n",
       "      <td>0.045308</td>\n",
       "      <td>5</td>\n",
       "      <td>3.0</td>\n",
       "      <td>NaN</td>\n",
       "    </tr>\n",
       "  </tbody>\n",
       "</table>\n",
       "</div>"
      ],
      "text/plain": [
       "                   A         B         C  D    F    E\n",
       "2013-01-01  0.000000  0.000000  0.088251  5  NaN  1.0\n",
       "2013-01-02  0.395941 -1.896039  0.534176  5  1.0  1.0\n",
       "2013-01-03  1.629094 -0.461478 -1.140387  5  2.0  NaN\n",
       "2013-01-04  0.532425 -0.813399  0.045308  5  3.0  NaN"
      ]
     },
     "execution_count": 77,
     "metadata": {},
     "output_type": "execute_result"
    }
   ],
   "source": [
    "df1 = df.reindex(index=dates[0:4], columns=list(df.columns) + ['E'])\n",
    "df1.loc[dates[0]:dates[1],'E'] = 1\n",
    "df1"
   ]
  },
  {
   "cell_type": "markdown",
   "metadata": {},
   "source": [
    "剔除所有包含缺失数据的行数据"
   ]
  },
  {
   "cell_type": "code",
   "execution_count": 78,
   "metadata": {},
   "outputs": [
    {
     "data": {
      "text/html": [
       "<div>\n",
       "<table border=\"1\" class=\"dataframe\">\n",
       "  <thead>\n",
       "    <tr style=\"text-align: right;\">\n",
       "      <th></th>\n",
       "      <th>A</th>\n",
       "      <th>B</th>\n",
       "      <th>C</th>\n",
       "      <th>D</th>\n",
       "      <th>F</th>\n",
       "      <th>E</th>\n",
       "    </tr>\n",
       "  </thead>\n",
       "  <tbody>\n",
       "    <tr>\n",
       "      <th>2013-01-02</th>\n",
       "      <td>0.395941</td>\n",
       "      <td>-1.896039</td>\n",
       "      <td>0.534176</td>\n",
       "      <td>5</td>\n",
       "      <td>1.0</td>\n",
       "      <td>1.0</td>\n",
       "    </tr>\n",
       "  </tbody>\n",
       "</table>\n",
       "</div>"
      ],
      "text/plain": [
       "                   A         B         C  D    F    E\n",
       "2013-01-02  0.395941 -1.896039  0.534176  5  1.0  1.0"
      ]
     },
     "execution_count": 78,
     "metadata": {},
     "output_type": "execute_result"
    }
   ],
   "source": [
    "df1.dropna(how='any')"
   ]
  },
  {
   "cell_type": "markdown",
   "metadata": {},
   "source": [
    "填充缺失数据"
   ]
  },
  {
   "cell_type": "code",
   "execution_count": 79,
   "metadata": {},
   "outputs": [
    {
     "data": {
      "text/html": [
       "<div>\n",
       "<table border=\"1\" class=\"dataframe\">\n",
       "  <thead>\n",
       "    <tr style=\"text-align: right;\">\n",
       "      <th></th>\n",
       "      <th>A</th>\n",
       "      <th>B</th>\n",
       "      <th>C</th>\n",
       "      <th>D</th>\n",
       "      <th>F</th>\n",
       "      <th>E</th>\n",
       "    </tr>\n",
       "  </thead>\n",
       "  <tbody>\n",
       "    <tr>\n",
       "      <th>2013-01-01</th>\n",
       "      <td>0.000000</td>\n",
       "      <td>0.000000</td>\n",
       "      <td>0.088251</td>\n",
       "      <td>5</td>\n",
       "      <td>22.0</td>\n",
       "      <td>1.0</td>\n",
       "    </tr>\n",
       "    <tr>\n",
       "      <th>2013-01-02</th>\n",
       "      <td>0.395941</td>\n",
       "      <td>-1.896039</td>\n",
       "      <td>0.534176</td>\n",
       "      <td>5</td>\n",
       "      <td>1.0</td>\n",
       "      <td>1.0</td>\n",
       "    </tr>\n",
       "    <tr>\n",
       "      <th>2013-01-03</th>\n",
       "      <td>1.629094</td>\n",
       "      <td>-0.461478</td>\n",
       "      <td>-1.140387</td>\n",
       "      <td>5</td>\n",
       "      <td>2.0</td>\n",
       "      <td>22.0</td>\n",
       "    </tr>\n",
       "    <tr>\n",
       "      <th>2013-01-04</th>\n",
       "      <td>0.532425</td>\n",
       "      <td>-0.813399</td>\n",
       "      <td>0.045308</td>\n",
       "      <td>5</td>\n",
       "      <td>3.0</td>\n",
       "      <td>22.0</td>\n",
       "    </tr>\n",
       "  </tbody>\n",
       "</table>\n",
       "</div>"
      ],
      "text/plain": [
       "                   A         B         C  D     F     E\n",
       "2013-01-01  0.000000  0.000000  0.088251  5  22.0   1.0\n",
       "2013-01-02  0.395941 -1.896039  0.534176  5   1.0   1.0\n",
       "2013-01-03  1.629094 -0.461478 -1.140387  5   2.0  22.0\n",
       "2013-01-04  0.532425 -0.813399  0.045308  5   3.0  22.0"
      ]
     },
     "execution_count": 79,
     "metadata": {},
     "output_type": "execute_result"
    }
   ],
   "source": [
    "df1.fillna(value=22)"
   ]
  },
  {
   "cell_type": "markdown",
   "metadata": {},
   "source": [
    "获取值是否为nan的布尔标记"
   ]
  },
  {
   "cell_type": "code",
   "execution_count": 81,
   "metadata": {},
   "outputs": [
    {
     "data": {
      "text/html": [
       "<div>\n",
       "<table border=\"1\" class=\"dataframe\">\n",
       "  <thead>\n",
       "    <tr style=\"text-align: right;\">\n",
       "      <th></th>\n",
       "      <th>A</th>\n",
       "      <th>B</th>\n",
       "      <th>C</th>\n",
       "      <th>D</th>\n",
       "      <th>F</th>\n",
       "      <th>E</th>\n",
       "    </tr>\n",
       "  </thead>\n",
       "  <tbody>\n",
       "    <tr>\n",
       "      <th>2013-01-01</th>\n",
       "      <td>False</td>\n",
       "      <td>False</td>\n",
       "      <td>False</td>\n",
       "      <td>False</td>\n",
       "      <td>True</td>\n",
       "      <td>False</td>\n",
       "    </tr>\n",
       "    <tr>\n",
       "      <th>2013-01-02</th>\n",
       "      <td>False</td>\n",
       "      <td>False</td>\n",
       "      <td>False</td>\n",
       "      <td>False</td>\n",
       "      <td>False</td>\n",
       "      <td>False</td>\n",
       "    </tr>\n",
       "    <tr>\n",
       "      <th>2013-01-03</th>\n",
       "      <td>False</td>\n",
       "      <td>False</td>\n",
       "      <td>False</td>\n",
       "      <td>False</td>\n",
       "      <td>False</td>\n",
       "      <td>True</td>\n",
       "    </tr>\n",
       "    <tr>\n",
       "      <th>2013-01-04</th>\n",
       "      <td>False</td>\n",
       "      <td>False</td>\n",
       "      <td>False</td>\n",
       "      <td>False</td>\n",
       "      <td>False</td>\n",
       "      <td>True</td>\n",
       "    </tr>\n",
       "  </tbody>\n",
       "</table>\n",
       "</div>"
      ],
      "text/plain": [
       "                A      B      C      D      F      E\n",
       "2013-01-01  False  False  False  False   True  False\n",
       "2013-01-02  False  False  False  False  False  False\n",
       "2013-01-03  False  False  False  False  False   True\n",
       "2013-01-04  False  False  False  False  False   True"
      ]
     },
     "execution_count": 81,
     "metadata": {},
     "output_type": "execute_result"
    }
   ],
   "source": [
    "pd.isnull(df1)"
   ]
  },
  {
   "cell_type": "markdown",
   "metadata": {},
   "source": [
    "## 运算"
   ]
  },
  {
   "cell_type": "markdown",
   "metadata": {},
   "source": [
    "### 统计"
   ]
  },
  {
   "cell_type": "markdown",
   "metadata": {},
   "source": [
    "运算过程中，通常不包含缺失值。"
   ]
  },
  {
   "cell_type": "markdown",
   "metadata": {},
   "source": [
    "进行描述性统计"
   ]
  },
  {
   "cell_type": "code",
   "execution_count": 82,
   "metadata": {},
   "outputs": [
    {
     "data": {
      "text/plain": [
       "A    0.347449\n",
       "B   -0.638676\n",
       "C    0.237250\n",
       "D    5.000000\n",
       "F    3.000000\n",
       "dtype: float64"
      ]
     },
     "execution_count": 82,
     "metadata": {},
     "output_type": "execute_result"
    }
   ],
   "source": [
    "df.mean()"
   ]
  },
  {
   "cell_type": "markdown",
   "metadata": {},
   "source": [
    "对其他轴进行同样的运算"
   ]
  },
  {
   "cell_type": "code",
   "execution_count": 83,
   "metadata": {},
   "outputs": [
    {
     "data": {
      "text/plain": [
       "2013-01-01    1.272063\n",
       "2013-01-02    1.006816\n",
       "2013-01-03    1.405446\n",
       "2013-01-04    1.552867\n",
       "2013-01-05    2.053173\n",
       "2013-01-06    1.899275\n",
       "Freq: D, dtype: float64"
      ]
     },
     "execution_count": 83,
     "metadata": {},
     "output_type": "execute_result"
    }
   ],
   "source": [
    "df.mean(1)"
   ]
  },
  {
   "cell_type": "markdown",
   "metadata": {},
   "source": [
    "对于拥有不同维度的对象进行运算时需要对齐。除此之外，pandas会自动沿着指定维度计算。"
   ]
  },
  {
   "cell_type": "code",
   "execution_count": 84,
   "metadata": {},
   "outputs": [
    {
     "data": {
      "text/plain": [
       "2013-01-01    NaN\n",
       "2013-01-02    NaN\n",
       "2013-01-03    1.0\n",
       "2013-01-04    3.0\n",
       "2013-01-05    5.0\n",
       "2013-01-06    NaN\n",
       "Freq: D, dtype: float64"
      ]
     },
     "execution_count": 84,
     "metadata": {},
     "output_type": "execute_result"
    }
   ],
   "source": [
    "s = pd.Series([1,3,5,np.nan,6,8], index=dates).shift(2)\n",
    "s"
   ]
  },
  {
   "cell_type": "code",
   "execution_count": 85,
   "metadata": {},
   "outputs": [
    {
     "data": {
      "text/html": [
       "<div>\n",
       "<table border=\"1\" class=\"dataframe\">\n",
       "  <thead>\n",
       "    <tr style=\"text-align: right;\">\n",
       "      <th></th>\n",
       "      <th>A</th>\n",
       "      <th>B</th>\n",
       "      <th>C</th>\n",
       "      <th>D</th>\n",
       "      <th>F</th>\n",
       "    </tr>\n",
       "  </thead>\n",
       "  <tbody>\n",
       "    <tr>\n",
       "      <th>2013-01-01</th>\n",
       "      <td>NaN</td>\n",
       "      <td>NaN</td>\n",
       "      <td>NaN</td>\n",
       "      <td>NaN</td>\n",
       "      <td>NaN</td>\n",
       "    </tr>\n",
       "    <tr>\n",
       "      <th>2013-01-02</th>\n",
       "      <td>NaN</td>\n",
       "      <td>NaN</td>\n",
       "      <td>NaN</td>\n",
       "      <td>NaN</td>\n",
       "      <td>NaN</td>\n",
       "    </tr>\n",
       "    <tr>\n",
       "      <th>2013-01-03</th>\n",
       "      <td>0.629094</td>\n",
       "      <td>-1.461478</td>\n",
       "      <td>-2.140387</td>\n",
       "      <td>4.0</td>\n",
       "      <td>1.0</td>\n",
       "    </tr>\n",
       "    <tr>\n",
       "      <th>2013-01-04</th>\n",
       "      <td>-2.467575</td>\n",
       "      <td>-3.813399</td>\n",
       "      <td>-2.954692</td>\n",
       "      <td>2.0</td>\n",
       "      <td>0.0</td>\n",
       "    </tr>\n",
       "    <tr>\n",
       "      <th>2013-01-05</th>\n",
       "      <td>-5.869447</td>\n",
       "      <td>-5.594692</td>\n",
       "      <td>-2.269994</td>\n",
       "      <td>0.0</td>\n",
       "      <td>-1.0</td>\n",
       "    </tr>\n",
       "    <tr>\n",
       "      <th>2013-01-06</th>\n",
       "      <td>NaN</td>\n",
       "      <td>NaN</td>\n",
       "      <td>NaN</td>\n",
       "      <td>NaN</td>\n",
       "      <td>NaN</td>\n",
       "    </tr>\n",
       "  </tbody>\n",
       "</table>\n",
       "</div>"
      ],
      "text/plain": [
       "                   A         B         C    D    F\n",
       "2013-01-01       NaN       NaN       NaN  NaN  NaN\n",
       "2013-01-02       NaN       NaN       NaN  NaN  NaN\n",
       "2013-01-03  0.629094 -1.461478 -2.140387  4.0  1.0\n",
       "2013-01-04 -2.467575 -3.813399 -2.954692  2.0  0.0\n",
       "2013-01-05 -5.869447 -5.594692 -2.269994  0.0 -1.0\n",
       "2013-01-06       NaN       NaN       NaN  NaN  NaN"
      ]
     },
     "execution_count": 85,
     "metadata": {},
     "output_type": "execute_result"
    }
   ],
   "source": [
    "df.sub(s, axis='index')"
   ]
  },
  {
   "cell_type": "markdown",
   "metadata": {},
   "source": [
    "### 应用"
   ]
  },
  {
   "cell_type": "markdown",
   "metadata": {},
   "source": [
    "应用方法到数据"
   ]
  },
  {
   "cell_type": "code",
   "execution_count": 87,
   "metadata": {},
   "outputs": [
    {
     "data": {
      "text/html": [
       "<div>\n",
       "<table border=\"1\" class=\"dataframe\">\n",
       "  <thead>\n",
       "    <tr style=\"text-align: right;\">\n",
       "      <th></th>\n",
       "      <th>A</th>\n",
       "      <th>B</th>\n",
       "      <th>C</th>\n",
       "      <th>D</th>\n",
       "      <th>F</th>\n",
       "    </tr>\n",
       "  </thead>\n",
       "  <tbody>\n",
       "    <tr>\n",
       "      <th>2013-01-01</th>\n",
       "      <td>0.000000</td>\n",
       "      <td>0.000000</td>\n",
       "      <td>0.088251</td>\n",
       "      <td>5</td>\n",
       "      <td>NaN</td>\n",
       "    </tr>\n",
       "    <tr>\n",
       "      <th>2013-01-02</th>\n",
       "      <td>0.395941</td>\n",
       "      <td>-1.896039</td>\n",
       "      <td>0.622428</td>\n",
       "      <td>10</td>\n",
       "      <td>1.0</td>\n",
       "    </tr>\n",
       "    <tr>\n",
       "      <th>2013-01-03</th>\n",
       "      <td>2.025035</td>\n",
       "      <td>-2.357517</td>\n",
       "      <td>-0.517959</td>\n",
       "      <td>15</td>\n",
       "      <td>3.0</td>\n",
       "    </tr>\n",
       "    <tr>\n",
       "      <th>2013-01-04</th>\n",
       "      <td>2.557460</td>\n",
       "      <td>-3.170916</td>\n",
       "      <td>-0.472651</td>\n",
       "      <td>20</td>\n",
       "      <td>6.0</td>\n",
       "    </tr>\n",
       "    <tr>\n",
       "      <th>2013-01-05</th>\n",
       "      <td>1.688013</td>\n",
       "      <td>-3.765608</td>\n",
       "      <td>2.257355</td>\n",
       "      <td>25</td>\n",
       "      <td>10.0</td>\n",
       "    </tr>\n",
       "    <tr>\n",
       "      <th>2013-01-06</th>\n",
       "      <td>2.084695</td>\n",
       "      <td>-3.832058</td>\n",
       "      <td>1.423500</td>\n",
       "      <td>30</td>\n",
       "      <td>15.0</td>\n",
       "    </tr>\n",
       "  </tbody>\n",
       "</table>\n",
       "</div>"
      ],
      "text/plain": [
       "                   A         B         C   D     F\n",
       "2013-01-01  0.000000  0.000000  0.088251   5   NaN\n",
       "2013-01-02  0.395941 -1.896039  0.622428  10   1.0\n",
       "2013-01-03  2.025035 -2.357517 -0.517959  15   3.0\n",
       "2013-01-04  2.557460 -3.170916 -0.472651  20   6.0\n",
       "2013-01-05  1.688013 -3.765608  2.257355  25  10.0\n",
       "2013-01-06  2.084695 -3.832058  1.423500  30  15.0"
      ]
     },
     "execution_count": 87,
     "metadata": {},
     "output_type": "execute_result"
    }
   ],
   "source": [
    "df.apply(np.cumsum)"
   ]
  },
  {
   "cell_type": "code",
   "execution_count": 89,
   "metadata": {},
   "outputs": [
    {
     "data": {
      "text/plain": [
       "A    2.498541\n",
       "B    1.896039\n",
       "C    3.870393\n",
       "D    0.000000\n",
       "F    4.000000\n",
       "dtype: float64"
      ]
     },
     "execution_count": 89,
     "metadata": {},
     "output_type": "execute_result"
    }
   ],
   "source": [
    "df.apply(lambda x: x.max() - x.min())"
   ]
  },
  {
   "cell_type": "markdown",
   "metadata": {},
   "source": [
    "### 频数统计"
   ]
  },
  {
   "cell_type": "code",
   "execution_count": 94,
   "metadata": {},
   "outputs": [
    {
     "data": {
      "text/plain": [
       "0    2\n",
       "1    3\n",
       "2    1\n",
       "3    2\n",
       "4    5\n",
       "5    6\n",
       "6    4\n",
       "7    3\n",
       "8    2\n",
       "9    4\n",
       "dtype: int64"
      ]
     },
     "execution_count": 94,
     "metadata": {},
     "output_type": "execute_result"
    }
   ],
   "source": [
    "s = pd.Series(np.random.randint(0, 7, size=10))\n",
    "s"
   ]
  },
  {
   "cell_type": "code",
   "execution_count": 91,
   "metadata": {},
   "outputs": [
    {
     "data": {
      "text/plain": [
       "2    3\n",
       "1    3\n",
       "5    2\n",
       "3    1\n",
       "0    1\n",
       "dtype: int64"
      ]
     },
     "execution_count": 91,
     "metadata": {},
     "output_type": "execute_result"
    }
   ],
   "source": [
    " s.value_counts()"
   ]
  },
  {
   "cell_type": "markdown",
   "metadata": {},
   "source": [
    "字符串方法"
   ]
  },
  {
   "cell_type": "markdown",
   "metadata": {},
   "source": [
    "对于Series对象，在其str属性中有着一系列的字符串处理方法。就如同下段代码一样，能很方便的对array中各个元素进行运算。值得注意的是，在str属性中的模式匹配默认使用正则表达式。"
   ]
  },
  {
   "cell_type": "code",
   "execution_count": 93,
   "metadata": {},
   "outputs": [
    {
     "data": {
      "text/plain": [
       "0       a\n",
       "1       b\n",
       "2       c\n",
       "3    aaba\n",
       "4    baca\n",
       "5     NaN\n",
       "6    caba\n",
       "7     dog\n",
       "8     cat\n",
       "dtype: object"
      ]
     },
     "execution_count": 93,
     "metadata": {},
     "output_type": "execute_result"
    }
   ],
   "source": [
    "s = pd.Series(['A', 'B', 'C', 'Aaba', 'Baca', np.nan, 'CABA', 'dog', 'cat'])\n",
    "s.str.lower()"
   ]
  },
  {
   "cell_type": "markdown",
   "metadata": {},
   "source": [
    "## 合并"
   ]
  },
  {
   "cell_type": "markdown",
   "metadata": {},
   "source": [
    "### 连接"
   ]
  },
  {
   "cell_type": "markdown",
   "metadata": {},
   "source": [
    "在连接/合并类型操作的情况下，Pandas提供了一些具有用于索引和关系代数的各种函数合并Series、DataFrame和Panel对象的方法"
   ]
  },
  {
   "cell_type": "markdown",
   "metadata": {},
   "source": [
    "使用concat()把Pandas对象连接："
   ]
  },
  {
   "cell_type": "code",
   "execution_count": 95,
   "metadata": {},
   "outputs": [
    {
     "data": {
      "text/html": [
       "<div>\n",
       "<table border=\"1\" class=\"dataframe\">\n",
       "  <thead>\n",
       "    <tr style=\"text-align: right;\">\n",
       "      <th></th>\n",
       "      <th>0</th>\n",
       "      <th>1</th>\n",
       "      <th>2</th>\n",
       "      <th>3</th>\n",
       "    </tr>\n",
       "  </thead>\n",
       "  <tbody>\n",
       "    <tr>\n",
       "      <th>0</th>\n",
       "      <td>1.281327</td>\n",
       "      <td>1.707672</td>\n",
       "      <td>1.673935</td>\n",
       "      <td>0.340224</td>\n",
       "    </tr>\n",
       "    <tr>\n",
       "      <th>1</th>\n",
       "      <td>-0.298714</td>\n",
       "      <td>-1.242698</td>\n",
       "      <td>0.034420</td>\n",
       "      <td>-1.046026</td>\n",
       "    </tr>\n",
       "    <tr>\n",
       "      <th>2</th>\n",
       "      <td>0.436281</td>\n",
       "      <td>-1.062851</td>\n",
       "      <td>0.999464</td>\n",
       "      <td>-0.040091</td>\n",
       "    </tr>\n",
       "    <tr>\n",
       "      <th>3</th>\n",
       "      <td>0.619266</td>\n",
       "      <td>-0.412400</td>\n",
       "      <td>-0.400251</td>\n",
       "      <td>-0.904476</td>\n",
       "    </tr>\n",
       "    <tr>\n",
       "      <th>4</th>\n",
       "      <td>-0.668396</td>\n",
       "      <td>-0.833552</td>\n",
       "      <td>-1.402371</td>\n",
       "      <td>2.233766</td>\n",
       "    </tr>\n",
       "    <tr>\n",
       "      <th>5</th>\n",
       "      <td>-0.073513</td>\n",
       "      <td>-1.543930</td>\n",
       "      <td>-0.800093</td>\n",
       "      <td>-0.806504</td>\n",
       "    </tr>\n",
       "    <tr>\n",
       "      <th>6</th>\n",
       "      <td>-1.132521</td>\n",
       "      <td>-0.184450</td>\n",
       "      <td>-0.709584</td>\n",
       "      <td>0.922717</td>\n",
       "    </tr>\n",
       "    <tr>\n",
       "      <th>7</th>\n",
       "      <td>-0.569837</td>\n",
       "      <td>0.678858</td>\n",
       "      <td>0.123956</td>\n",
       "      <td>-0.322010</td>\n",
       "    </tr>\n",
       "    <tr>\n",
       "      <th>8</th>\n",
       "      <td>1.836167</td>\n",
       "      <td>0.175466</td>\n",
       "      <td>0.379674</td>\n",
       "      <td>-0.929631</td>\n",
       "    </tr>\n",
       "    <tr>\n",
       "      <th>9</th>\n",
       "      <td>0.908282</td>\n",
       "      <td>-1.281032</td>\n",
       "      <td>-0.170272</td>\n",
       "      <td>0.141227</td>\n",
       "    </tr>\n",
       "  </tbody>\n",
       "</table>\n",
       "</div>"
      ],
      "text/plain": [
       "          0         1         2         3\n",
       "0  1.281327  1.707672  1.673935  0.340224\n",
       "1 -0.298714 -1.242698  0.034420 -1.046026\n",
       "2  0.436281 -1.062851  0.999464 -0.040091\n",
       "3  0.619266 -0.412400 -0.400251 -0.904476\n",
       "4 -0.668396 -0.833552 -1.402371  2.233766\n",
       "5 -0.073513 -1.543930 -0.800093 -0.806504\n",
       "6 -1.132521 -0.184450 -0.709584  0.922717\n",
       "7 -0.569837  0.678858  0.123956 -0.322010\n",
       "8  1.836167  0.175466  0.379674 -0.929631\n",
       "9  0.908282 -1.281032 -0.170272  0.141227"
      ]
     },
     "execution_count": 95,
     "metadata": {},
     "output_type": "execute_result"
    }
   ],
   "source": [
    "df = pd.DataFrame(np.random.randn(10, 4))\n",
    "df"
   ]
  },
  {
   "cell_type": "code",
   "execution_count": 96,
   "metadata": {},
   "outputs": [
    {
     "data": {
      "text/plain": [
       "[          0         1         2         3\n",
       " 0  1.281327  1.707672  1.673935  0.340224\n",
       " 1 -0.298714 -1.242698  0.034420 -1.046026\n",
       " 2  0.436281 -1.062851  0.999464 -0.040091,\n",
       "           0         1         2         3\n",
       " 3  0.619266 -0.412400 -0.400251 -0.904476\n",
       " 4 -0.668396 -0.833552 -1.402371  2.233766\n",
       " 5 -0.073513 -1.543930 -0.800093 -0.806504\n",
       " 6 -1.132521 -0.184450 -0.709584  0.922717,\n",
       "           0         1         2         3\n",
       " 7 -0.569837  0.678858  0.123956 -0.322010\n",
       " 8  1.836167  0.175466  0.379674 -0.929631\n",
       " 9  0.908282 -1.281032 -0.170272  0.141227]"
      ]
     },
     "execution_count": 96,
     "metadata": {},
     "output_type": "execute_result"
    }
   ],
   "source": [
    "pieces = [df[:3], df[3:7], df[7:]]\n",
    "pieces"
   ]
  },
  {
   "cell_type": "code",
   "execution_count": 97,
   "metadata": {},
   "outputs": [
    {
     "data": {
      "text/html": [
       "<div>\n",
       "<table border=\"1\" class=\"dataframe\">\n",
       "  <thead>\n",
       "    <tr style=\"text-align: right;\">\n",
       "      <th></th>\n",
       "      <th>0</th>\n",
       "      <th>1</th>\n",
       "      <th>2</th>\n",
       "      <th>3</th>\n",
       "    </tr>\n",
       "  </thead>\n",
       "  <tbody>\n",
       "    <tr>\n",
       "      <th>0</th>\n",
       "      <td>1.281327</td>\n",
       "      <td>1.707672</td>\n",
       "      <td>1.673935</td>\n",
       "      <td>0.340224</td>\n",
       "    </tr>\n",
       "    <tr>\n",
       "      <th>1</th>\n",
       "      <td>-0.298714</td>\n",
       "      <td>-1.242698</td>\n",
       "      <td>0.034420</td>\n",
       "      <td>-1.046026</td>\n",
       "    </tr>\n",
       "    <tr>\n",
       "      <th>2</th>\n",
       "      <td>0.436281</td>\n",
       "      <td>-1.062851</td>\n",
       "      <td>0.999464</td>\n",
       "      <td>-0.040091</td>\n",
       "    </tr>\n",
       "    <tr>\n",
       "      <th>3</th>\n",
       "      <td>0.619266</td>\n",
       "      <td>-0.412400</td>\n",
       "      <td>-0.400251</td>\n",
       "      <td>-0.904476</td>\n",
       "    </tr>\n",
       "    <tr>\n",
       "      <th>4</th>\n",
       "      <td>-0.668396</td>\n",
       "      <td>-0.833552</td>\n",
       "      <td>-1.402371</td>\n",
       "      <td>2.233766</td>\n",
       "    </tr>\n",
       "    <tr>\n",
       "      <th>5</th>\n",
       "      <td>-0.073513</td>\n",
       "      <td>-1.543930</td>\n",
       "      <td>-0.800093</td>\n",
       "      <td>-0.806504</td>\n",
       "    </tr>\n",
       "    <tr>\n",
       "      <th>6</th>\n",
       "      <td>-1.132521</td>\n",
       "      <td>-0.184450</td>\n",
       "      <td>-0.709584</td>\n",
       "      <td>0.922717</td>\n",
       "    </tr>\n",
       "    <tr>\n",
       "      <th>7</th>\n",
       "      <td>-0.569837</td>\n",
       "      <td>0.678858</td>\n",
       "      <td>0.123956</td>\n",
       "      <td>-0.322010</td>\n",
       "    </tr>\n",
       "    <tr>\n",
       "      <th>8</th>\n",
       "      <td>1.836167</td>\n",
       "      <td>0.175466</td>\n",
       "      <td>0.379674</td>\n",
       "      <td>-0.929631</td>\n",
       "    </tr>\n",
       "    <tr>\n",
       "      <th>9</th>\n",
       "      <td>0.908282</td>\n",
       "      <td>-1.281032</td>\n",
       "      <td>-0.170272</td>\n",
       "      <td>0.141227</td>\n",
       "    </tr>\n",
       "  </tbody>\n",
       "</table>\n",
       "</div>"
      ],
      "text/plain": [
       "          0         1         2         3\n",
       "0  1.281327  1.707672  1.673935  0.340224\n",
       "1 -0.298714 -1.242698  0.034420 -1.046026\n",
       "2  0.436281 -1.062851  0.999464 -0.040091\n",
       "3  0.619266 -0.412400 -0.400251 -0.904476\n",
       "4 -0.668396 -0.833552 -1.402371  2.233766\n",
       "5 -0.073513 -1.543930 -0.800093 -0.806504\n",
       "6 -1.132521 -0.184450 -0.709584  0.922717\n",
       "7 -0.569837  0.678858  0.123956 -0.322010\n",
       "8  1.836167  0.175466  0.379674 -0.929631\n",
       "9  0.908282 -1.281032 -0.170272  0.141227"
      ]
     },
     "execution_count": 97,
     "metadata": {},
     "output_type": "execute_result"
    }
   ],
   "source": [
    "pd.concat(pieces)"
   ]
  },
  {
   "cell_type": "markdown",
   "metadata": {},
   "source": [
    "### 结合"
   ]
  },
  {
   "cell_type": "markdown",
   "metadata": {},
   "source": [
    "类似于SQL中的合并(merge)"
   ]
  },
  {
   "cell_type": "code",
   "execution_count": 98,
   "metadata": {},
   "outputs": [
    {
     "data": {
      "text/html": [
       "<div>\n",
       "<table border=\"1\" class=\"dataframe\">\n",
       "  <thead>\n",
       "    <tr style=\"text-align: right;\">\n",
       "      <th></th>\n",
       "      <th>key</th>\n",
       "      <th>lval</th>\n",
       "    </tr>\n",
       "  </thead>\n",
       "  <tbody>\n",
       "    <tr>\n",
       "      <th>0</th>\n",
       "      <td>foo</td>\n",
       "      <td>1</td>\n",
       "    </tr>\n",
       "    <tr>\n",
       "      <th>1</th>\n",
       "      <td>foo</td>\n",
       "      <td>2</td>\n",
       "    </tr>\n",
       "  </tbody>\n",
       "</table>\n",
       "</div>"
      ],
      "text/plain": [
       "   key  lval\n",
       "0  foo     1\n",
       "1  foo     2"
      ]
     },
     "execution_count": 98,
     "metadata": {},
     "output_type": "execute_result"
    }
   ],
   "source": [
    "left = pd.DataFrame({'key': ['foo', 'foo'], 'lval': [1, 2]})\n",
    "left"
   ]
  },
  {
   "cell_type": "code",
   "execution_count": 99,
   "metadata": {},
   "outputs": [
    {
     "data": {
      "text/html": [
       "<div>\n",
       "<table border=\"1\" class=\"dataframe\">\n",
       "  <thead>\n",
       "    <tr style=\"text-align: right;\">\n",
       "      <th></th>\n",
       "      <th>key</th>\n",
       "      <th>rval</th>\n",
       "    </tr>\n",
       "  </thead>\n",
       "  <tbody>\n",
       "    <tr>\n",
       "      <th>0</th>\n",
       "      <td>foo</td>\n",
       "      <td>4</td>\n",
       "    </tr>\n",
       "    <tr>\n",
       "      <th>1</th>\n",
       "      <td>foo</td>\n",
       "      <td>5</td>\n",
       "    </tr>\n",
       "  </tbody>\n",
       "</table>\n",
       "</div>"
      ],
      "text/plain": [
       "   key  rval\n",
       "0  foo     4\n",
       "1  foo     5"
      ]
     },
     "execution_count": 99,
     "metadata": {},
     "output_type": "execute_result"
    }
   ],
   "source": [
    "right = pd.DataFrame({'key': ['foo', 'foo'], 'rval': [4, 5]})\n",
    "right"
   ]
  },
  {
   "cell_type": "code",
   "execution_count": 100,
   "metadata": {},
   "outputs": [
    {
     "data": {
      "text/html": [
       "<div>\n",
       "<table border=\"1\" class=\"dataframe\">\n",
       "  <thead>\n",
       "    <tr style=\"text-align: right;\">\n",
       "      <th></th>\n",
       "      <th>key</th>\n",
       "      <th>lval</th>\n",
       "      <th>rval</th>\n",
       "    </tr>\n",
       "  </thead>\n",
       "  <tbody>\n",
       "    <tr>\n",
       "      <th>0</th>\n",
       "      <td>foo</td>\n",
       "      <td>1</td>\n",
       "      <td>4</td>\n",
       "    </tr>\n",
       "    <tr>\n",
       "      <th>1</th>\n",
       "      <td>foo</td>\n",
       "      <td>1</td>\n",
       "      <td>5</td>\n",
       "    </tr>\n",
       "    <tr>\n",
       "      <th>2</th>\n",
       "      <td>foo</td>\n",
       "      <td>2</td>\n",
       "      <td>4</td>\n",
       "    </tr>\n",
       "    <tr>\n",
       "      <th>3</th>\n",
       "      <td>foo</td>\n",
       "      <td>2</td>\n",
       "      <td>5</td>\n",
       "    </tr>\n",
       "  </tbody>\n",
       "</table>\n",
       "</div>"
      ],
      "text/plain": [
       "   key  lval  rval\n",
       "0  foo     1     4\n",
       "1  foo     1     5\n",
       "2  foo     2     4\n",
       "3  foo     2     5"
      ]
     },
     "execution_count": 100,
     "metadata": {},
     "output_type": "execute_result"
    }
   ],
   "source": [
    "pd.merge(left, right, on='key')"
   ]
  },
  {
   "cell_type": "code",
   "execution_count": 103,
   "metadata": {},
   "outputs": [
    {
     "data": {
      "text/html": [
       "<div>\n",
       "<table border=\"1\" class=\"dataframe\">\n",
       "  <thead>\n",
       "    <tr style=\"text-align: right;\">\n",
       "      <th></th>\n",
       "      <th>key</th>\n",
       "      <th>lval</th>\n",
       "    </tr>\n",
       "  </thead>\n",
       "  <tbody>\n",
       "    <tr>\n",
       "      <th>0</th>\n",
       "      <td>foo</td>\n",
       "      <td>1</td>\n",
       "    </tr>\n",
       "    <tr>\n",
       "      <th>1</th>\n",
       "      <td>bar</td>\n",
       "      <td>2</td>\n",
       "    </tr>\n",
       "  </tbody>\n",
       "</table>\n",
       "</div>"
      ],
      "text/plain": [
       "   key  lval\n",
       "0  foo     1\n",
       "1  bar     2"
      ]
     },
     "execution_count": 103,
     "metadata": {},
     "output_type": "execute_result"
    }
   ],
   "source": [
    "left = pd.DataFrame({'key': ['foo', 'bar'], 'lval': [1, 2]})\n",
    "left"
   ]
  },
  {
   "cell_type": "code",
   "execution_count": 102,
   "metadata": {},
   "outputs": [
    {
     "data": {
      "text/html": [
       "<div>\n",
       "<table border=\"1\" class=\"dataframe\">\n",
       "  <thead>\n",
       "    <tr style=\"text-align: right;\">\n",
       "      <th></th>\n",
       "      <th>key</th>\n",
       "      <th>rval</th>\n",
       "    </tr>\n",
       "  </thead>\n",
       "  <tbody>\n",
       "    <tr>\n",
       "      <th>0</th>\n",
       "      <td>foo</td>\n",
       "      <td>4</td>\n",
       "    </tr>\n",
       "    <tr>\n",
       "      <th>1</th>\n",
       "      <td>bar</td>\n",
       "      <td>5</td>\n",
       "    </tr>\n",
       "  </tbody>\n",
       "</table>\n",
       "</div>"
      ],
      "text/plain": [
       "   key  rval\n",
       "0  foo     4\n",
       "1  bar     5"
      ]
     },
     "execution_count": 102,
     "metadata": {},
     "output_type": "execute_result"
    }
   ],
   "source": [
    "right = pd.DataFrame({'key': ['foo', 'bar'], 'rval': [4, 5]})\n",
    "right"
   ]
  },
  {
   "cell_type": "code",
   "execution_count": 104,
   "metadata": {},
   "outputs": [
    {
     "data": {
      "text/html": [
       "<div>\n",
       "<table border=\"1\" class=\"dataframe\">\n",
       "  <thead>\n",
       "    <tr style=\"text-align: right;\">\n",
       "      <th></th>\n",
       "      <th>key</th>\n",
       "      <th>lval</th>\n",
       "      <th>rval</th>\n",
       "    </tr>\n",
       "  </thead>\n",
       "  <tbody>\n",
       "    <tr>\n",
       "      <th>0</th>\n",
       "      <td>foo</td>\n",
       "      <td>1</td>\n",
       "      <td>4</td>\n",
       "    </tr>\n",
       "    <tr>\n",
       "      <th>1</th>\n",
       "      <td>bar</td>\n",
       "      <td>2</td>\n",
       "      <td>5</td>\n",
       "    </tr>\n",
       "  </tbody>\n",
       "</table>\n",
       "</div>"
      ],
      "text/plain": [
       "   key  lval  rval\n",
       "0  foo     1     4\n",
       "1  bar     2     5"
      ]
     },
     "execution_count": 104,
     "metadata": {},
     "output_type": "execute_result"
    }
   ],
   "source": [
    "pd.merge(left, right, on='key')"
   ]
  },
  {
   "cell_type": "markdown",
   "metadata": {},
   "source": [
    "### 追加"
   ]
  },
  {
   "cell_type": "markdown",
   "metadata": {},
   "source": [
    "将若干行添加到dataFrame后面"
   ]
  },
  {
   "cell_type": "code",
   "execution_count": 106,
   "metadata": {},
   "outputs": [
    {
     "data": {
      "text/html": [
       "<div>\n",
       "<table border=\"1\" class=\"dataframe\">\n",
       "  <thead>\n",
       "    <tr style=\"text-align: right;\">\n",
       "      <th></th>\n",
       "      <th>A</th>\n",
       "      <th>B</th>\n",
       "      <th>C</th>\n",
       "      <th>D</th>\n",
       "    </tr>\n",
       "  </thead>\n",
       "  <tbody>\n",
       "    <tr>\n",
       "      <th>0</th>\n",
       "      <td>0.459295</td>\n",
       "      <td>-1.041238</td>\n",
       "      <td>-0.440653</td>\n",
       "      <td>-0.937011</td>\n",
       "    </tr>\n",
       "    <tr>\n",
       "      <th>1</th>\n",
       "      <td>-0.848418</td>\n",
       "      <td>-1.487875</td>\n",
       "      <td>0.803405</td>\n",
       "      <td>-0.006577</td>\n",
       "    </tr>\n",
       "    <tr>\n",
       "      <th>2</th>\n",
       "      <td>0.052431</td>\n",
       "      <td>-1.071399</td>\n",
       "      <td>-0.829905</td>\n",
       "      <td>0.497366</td>\n",
       "    </tr>\n",
       "    <tr>\n",
       "      <th>3</th>\n",
       "      <td>1.233587</td>\n",
       "      <td>0.599300</td>\n",
       "      <td>0.032794</td>\n",
       "      <td>0.832049</td>\n",
       "    </tr>\n",
       "    <tr>\n",
       "      <th>4</th>\n",
       "      <td>2.523305</td>\n",
       "      <td>0.319025</td>\n",
       "      <td>-1.587751</td>\n",
       "      <td>0.664807</td>\n",
       "    </tr>\n",
       "    <tr>\n",
       "      <th>5</th>\n",
       "      <td>0.817966</td>\n",
       "      <td>0.527763</td>\n",
       "      <td>0.471707</td>\n",
       "      <td>1.935643</td>\n",
       "    </tr>\n",
       "    <tr>\n",
       "      <th>6</th>\n",
       "      <td>-0.810919</td>\n",
       "      <td>1.204843</td>\n",
       "      <td>-1.117178</td>\n",
       "      <td>0.454277</td>\n",
       "    </tr>\n",
       "    <tr>\n",
       "      <th>7</th>\n",
       "      <td>-0.110897</td>\n",
       "      <td>0.300052</td>\n",
       "      <td>0.866132</td>\n",
       "      <td>-0.296001</td>\n",
       "    </tr>\n",
       "  </tbody>\n",
       "</table>\n",
       "</div>"
      ],
      "text/plain": [
       "          A         B         C         D\n",
       "0  0.459295 -1.041238 -0.440653 -0.937011\n",
       "1 -0.848418 -1.487875  0.803405 -0.006577\n",
       "2  0.052431 -1.071399 -0.829905  0.497366\n",
       "3  1.233587  0.599300  0.032794  0.832049\n",
       "4  2.523305  0.319025 -1.587751  0.664807\n",
       "5  0.817966  0.527763  0.471707  1.935643\n",
       "6 -0.810919  1.204843 -1.117178  0.454277\n",
       "7 -0.110897  0.300052  0.866132 -0.296001"
      ]
     },
     "execution_count": 106,
     "metadata": {},
     "output_type": "execute_result"
    }
   ],
   "source": [
    "df = pd.DataFrame(np.random.randn(8, 4), columns=['A','B','C','D'])\n",
    "df"
   ]
  },
  {
   "cell_type": "code",
   "execution_count": 107,
   "metadata": {},
   "outputs": [
    {
     "data": {
      "text/html": [
       "<div>\n",
       "<table border=\"1\" class=\"dataframe\">\n",
       "  <thead>\n",
       "    <tr style=\"text-align: right;\">\n",
       "      <th></th>\n",
       "      <th>A</th>\n",
       "      <th>B</th>\n",
       "      <th>C</th>\n",
       "      <th>D</th>\n",
       "    </tr>\n",
       "  </thead>\n",
       "  <tbody>\n",
       "    <tr>\n",
       "      <th>0</th>\n",
       "      <td>0.459295</td>\n",
       "      <td>-1.041238</td>\n",
       "      <td>-0.440653</td>\n",
       "      <td>-0.937011</td>\n",
       "    </tr>\n",
       "    <tr>\n",
       "      <th>1</th>\n",
       "      <td>-0.848418</td>\n",
       "      <td>-1.487875</td>\n",
       "      <td>0.803405</td>\n",
       "      <td>-0.006577</td>\n",
       "    </tr>\n",
       "    <tr>\n",
       "      <th>2</th>\n",
       "      <td>0.052431</td>\n",
       "      <td>-1.071399</td>\n",
       "      <td>-0.829905</td>\n",
       "      <td>0.497366</td>\n",
       "    </tr>\n",
       "    <tr>\n",
       "      <th>3</th>\n",
       "      <td>1.233587</td>\n",
       "      <td>0.599300</td>\n",
       "      <td>0.032794</td>\n",
       "      <td>0.832049</td>\n",
       "    </tr>\n",
       "    <tr>\n",
       "      <th>4</th>\n",
       "      <td>2.523305</td>\n",
       "      <td>0.319025</td>\n",
       "      <td>-1.587751</td>\n",
       "      <td>0.664807</td>\n",
       "    </tr>\n",
       "    <tr>\n",
       "      <th>5</th>\n",
       "      <td>0.817966</td>\n",
       "      <td>0.527763</td>\n",
       "      <td>0.471707</td>\n",
       "      <td>1.935643</td>\n",
       "    </tr>\n",
       "    <tr>\n",
       "      <th>6</th>\n",
       "      <td>-0.810919</td>\n",
       "      <td>1.204843</td>\n",
       "      <td>-1.117178</td>\n",
       "      <td>0.454277</td>\n",
       "    </tr>\n",
       "    <tr>\n",
       "      <th>7</th>\n",
       "      <td>-0.110897</td>\n",
       "      <td>0.300052</td>\n",
       "      <td>0.866132</td>\n",
       "      <td>-0.296001</td>\n",
       "    </tr>\n",
       "    <tr>\n",
       "      <th>8</th>\n",
       "      <td>1.233587</td>\n",
       "      <td>0.599300</td>\n",
       "      <td>0.032794</td>\n",
       "      <td>0.832049</td>\n",
       "    </tr>\n",
       "  </tbody>\n",
       "</table>\n",
       "</div>"
      ],
      "text/plain": [
       "          A         B         C         D\n",
       "0  0.459295 -1.041238 -0.440653 -0.937011\n",
       "1 -0.848418 -1.487875  0.803405 -0.006577\n",
       "2  0.052431 -1.071399 -0.829905  0.497366\n",
       "3  1.233587  0.599300  0.032794  0.832049\n",
       "4  2.523305  0.319025 -1.587751  0.664807\n",
       "5  0.817966  0.527763  0.471707  1.935643\n",
       "6 -0.810919  1.204843 -1.117178  0.454277\n",
       "7 -0.110897  0.300052  0.866132 -0.296001\n",
       "8  1.233587  0.599300  0.032794  0.832049"
      ]
     },
     "execution_count": 107,
     "metadata": {},
     "output_type": "execute_result"
    }
   ],
   "source": [
    "s = df.iloc[3]\n",
    "df.append(s, ignore_index=True)"
   ]
  },
  {
   "cell_type": "markdown",
   "metadata": {},
   "source": [
    "## 分组"
   ]
  },
  {
   "cell_type": "markdown",
   "metadata": {},
   "source": [
    "对于“group by”操作，我们通常是指以下一个或几个步骤："
   ]
  },
  {
   "cell_type": "markdown",
   "metadata": {},
   "source": [
    "- **划分** 按照某些标准将数据分为不同的组\n",
    "- **应用** 对每组数据分别执行一个函数\n",
    "- **组合** 将结果组合到一个数据结构"
   ]
  },
  {
   "cell_type": "code",
   "execution_count": 108,
   "metadata": {},
   "outputs": [
    {
     "data": {
      "text/html": [
       "<div>\n",
       "<table border=\"1\" class=\"dataframe\">\n",
       "  <thead>\n",
       "    <tr style=\"text-align: right;\">\n",
       "      <th></th>\n",
       "      <th>A</th>\n",
       "      <th>B</th>\n",
       "      <th>C</th>\n",
       "      <th>D</th>\n",
       "    </tr>\n",
       "  </thead>\n",
       "  <tbody>\n",
       "    <tr>\n",
       "      <th>0</th>\n",
       "      <td>foo</td>\n",
       "      <td>one</td>\n",
       "      <td>0.893445</td>\n",
       "      <td>-0.166925</td>\n",
       "    </tr>\n",
       "    <tr>\n",
       "      <th>1</th>\n",
       "      <td>bar</td>\n",
       "      <td>one</td>\n",
       "      <td>-0.580395</td>\n",
       "      <td>-0.271843</td>\n",
       "    </tr>\n",
       "    <tr>\n",
       "      <th>2</th>\n",
       "      <td>foo</td>\n",
       "      <td>two</td>\n",
       "      <td>-0.589786</td>\n",
       "      <td>-1.672084</td>\n",
       "    </tr>\n",
       "    <tr>\n",
       "      <th>3</th>\n",
       "      <td>bar</td>\n",
       "      <td>three</td>\n",
       "      <td>0.816618</td>\n",
       "      <td>-0.080127</td>\n",
       "    </tr>\n",
       "    <tr>\n",
       "      <th>4</th>\n",
       "      <td>foo</td>\n",
       "      <td>two</td>\n",
       "      <td>-1.343102</td>\n",
       "      <td>-3.092662</td>\n",
       "    </tr>\n",
       "    <tr>\n",
       "      <th>5</th>\n",
       "      <td>bar</td>\n",
       "      <td>two</td>\n",
       "      <td>0.462111</td>\n",
       "      <td>-0.120599</td>\n",
       "    </tr>\n",
       "    <tr>\n",
       "      <th>6</th>\n",
       "      <td>foo</td>\n",
       "      <td>one</td>\n",
       "      <td>2.414476</td>\n",
       "      <td>0.589823</td>\n",
       "    </tr>\n",
       "    <tr>\n",
       "      <th>7</th>\n",
       "      <td>bar</td>\n",
       "      <td>three</td>\n",
       "      <td>-0.050140</td>\n",
       "      <td>-0.194718</td>\n",
       "    </tr>\n",
       "  </tbody>\n",
       "</table>\n",
       "</div>"
      ],
      "text/plain": [
       "     A      B         C         D\n",
       "0  foo    one  0.893445 -0.166925\n",
       "1  bar    one -0.580395 -0.271843\n",
       "2  foo    two -0.589786 -1.672084\n",
       "3  bar  three  0.816618 -0.080127\n",
       "4  foo    two -1.343102 -3.092662\n",
       "5  bar    two  0.462111 -0.120599\n",
       "6  foo    one  2.414476  0.589823\n",
       "7  bar  three -0.050140 -0.194718"
      ]
     },
     "execution_count": 108,
     "metadata": {},
     "output_type": "execute_result"
    }
   ],
   "source": [
    "df = pd.DataFrame({'A' : ['foo', 'bar', 'foo', 'bar', \n",
    "                          'foo', 'bar', 'foo', 'bar'],\n",
    "                   'B' : ['one', 'one', 'two', 'three', \n",
    "                          'two', 'two', 'one', 'three'],\n",
    "                   'C' : np.random.randn(8),\n",
    "                   'D' : np.random.randn(8)})\n",
    "df"
   ]
  },
  {
   "cell_type": "markdown",
   "metadata": {},
   "source": [
    "分组并对每个分组应用sum函数"
   ]
  },
  {
   "cell_type": "code",
   "execution_count": 109,
   "metadata": {},
   "outputs": [
    {
     "data": {
      "text/html": [
       "<div>\n",
       "<table border=\"1\" class=\"dataframe\">\n",
       "  <thead>\n",
       "    <tr style=\"text-align: right;\">\n",
       "      <th></th>\n",
       "      <th>C</th>\n",
       "      <th>D</th>\n",
       "    </tr>\n",
       "    <tr>\n",
       "      <th>A</th>\n",
       "      <th></th>\n",
       "      <th></th>\n",
       "    </tr>\n",
       "  </thead>\n",
       "  <tbody>\n",
       "    <tr>\n",
       "      <th>bar</th>\n",
       "      <td>0.648194</td>\n",
       "      <td>-0.667287</td>\n",
       "    </tr>\n",
       "    <tr>\n",
       "      <th>foo</th>\n",
       "      <td>1.375033</td>\n",
       "      <td>-4.341848</td>\n",
       "    </tr>\n",
       "  </tbody>\n",
       "</table>\n",
       "</div>"
      ],
      "text/plain": [
       "            C         D\n",
       "A                      \n",
       "bar  0.648194 -0.667287\n",
       "foo  1.375033 -4.341848"
      ]
     },
     "execution_count": 109,
     "metadata": {},
     "output_type": "execute_result"
    }
   ],
   "source": [
    "df.groupby('A').sum()"
   ]
  },
  {
   "cell_type": "markdown",
   "metadata": {},
   "source": [
    "按多个列分组形成层级索引，然后应用函数"
   ]
  },
  {
   "cell_type": "code",
   "execution_count": 110,
   "metadata": {},
   "outputs": [
    {
     "data": {
      "text/html": [
       "<div>\n",
       "<table border=\"1\" class=\"dataframe\">\n",
       "  <thead>\n",
       "    <tr style=\"text-align: right;\">\n",
       "      <th></th>\n",
       "      <th></th>\n",
       "      <th>C</th>\n",
       "      <th>D</th>\n",
       "    </tr>\n",
       "    <tr>\n",
       "      <th>A</th>\n",
       "      <th>B</th>\n",
       "      <th></th>\n",
       "      <th></th>\n",
       "    </tr>\n",
       "  </thead>\n",
       "  <tbody>\n",
       "    <tr>\n",
       "      <th rowspan=\"3\" valign=\"top\">bar</th>\n",
       "      <th>one</th>\n",
       "      <td>-0.580395</td>\n",
       "      <td>-0.271843</td>\n",
       "    </tr>\n",
       "    <tr>\n",
       "      <th>three</th>\n",
       "      <td>0.766478</td>\n",
       "      <td>-0.274845</td>\n",
       "    </tr>\n",
       "    <tr>\n",
       "      <th>two</th>\n",
       "      <td>0.462111</td>\n",
       "      <td>-0.120599</td>\n",
       "    </tr>\n",
       "    <tr>\n",
       "      <th rowspan=\"2\" valign=\"top\">foo</th>\n",
       "      <th>one</th>\n",
       "      <td>3.307921</td>\n",
       "      <td>0.422897</td>\n",
       "    </tr>\n",
       "    <tr>\n",
       "      <th>two</th>\n",
       "      <td>-1.932888</td>\n",
       "      <td>-4.764746</td>\n",
       "    </tr>\n",
       "  </tbody>\n",
       "</table>\n",
       "</div>"
      ],
      "text/plain": [
       "                  C         D\n",
       "A   B                        \n",
       "bar one   -0.580395 -0.271843\n",
       "    three  0.766478 -0.274845\n",
       "    two    0.462111 -0.120599\n",
       "foo one    3.307921  0.422897\n",
       "    two   -1.932888 -4.764746"
      ]
     },
     "execution_count": 110,
     "metadata": {},
     "output_type": "execute_result"
    }
   ],
   "source": [
    "df.groupby(['A','B']).sum()"
   ]
  },
  {
   "cell_type": "markdown",
   "metadata": {},
   "source": [
    "## 重塑"
   ]
  },
  {
   "cell_type": "markdown",
   "metadata": {},
   "source": [
    "### 堆叠"
   ]
  },
  {
   "cell_type": "code",
   "execution_count": 111,
   "metadata": {},
   "outputs": [],
   "source": [
    "tuples = list(zip(*[['bar', 'bar', 'baz', 'baz',\n",
    "                     'foo', 'foo', 'qux', 'qux'],\n",
    "                    ['one', 'two', 'one', 'two',\n",
    "                     'one', 'two', 'one', 'two']]))"
   ]
  },
  {
   "cell_type": "code",
   "execution_count": 112,
   "metadata": {},
   "outputs": [],
   "source": [
    "index = pd.MultiIndex.from_tuples(tuples, names=['first', 'second'])"
   ]
  },
  {
   "cell_type": "code",
   "execution_count": 113,
   "metadata": {},
   "outputs": [],
   "source": [
    "df = pd.DataFrame(np.random.randn(8, 2), index=index, columns=['A', 'B'])"
   ]
  },
  {
   "cell_type": "code",
   "execution_count": 114,
   "metadata": {},
   "outputs": [
    {
     "data": {
      "text/html": [
       "<div>\n",
       "<table border=\"1\" class=\"dataframe\">\n",
       "  <thead>\n",
       "    <tr style=\"text-align: right;\">\n",
       "      <th></th>\n",
       "      <th></th>\n",
       "      <th>A</th>\n",
       "      <th>B</th>\n",
       "    </tr>\n",
       "    <tr>\n",
       "      <th>first</th>\n",
       "      <th>second</th>\n",
       "      <th></th>\n",
       "      <th></th>\n",
       "    </tr>\n",
       "  </thead>\n",
       "  <tbody>\n",
       "    <tr>\n",
       "      <th rowspan=\"2\" valign=\"top\">bar</th>\n",
       "      <th>one</th>\n",
       "      <td>-0.720032</td>\n",
       "      <td>0.075191</td>\n",
       "    </tr>\n",
       "    <tr>\n",
       "      <th>two</th>\n",
       "      <td>-0.331008</td>\n",
       "      <td>0.384905</td>\n",
       "    </tr>\n",
       "    <tr>\n",
       "      <th rowspan=\"2\" valign=\"top\">baz</th>\n",
       "      <th>one</th>\n",
       "      <td>-0.214018</td>\n",
       "      <td>1.138475</td>\n",
       "    </tr>\n",
       "    <tr>\n",
       "      <th>two</th>\n",
       "      <td>3.633259</td>\n",
       "      <td>0.347126</td>\n",
       "    </tr>\n",
       "  </tbody>\n",
       "</table>\n",
       "</div>"
      ],
      "text/plain": [
       "                     A         B\n",
       "first second                    \n",
       "bar   one    -0.720032  0.075191\n",
       "      two    -0.331008  0.384905\n",
       "baz   one    -0.214018  1.138475\n",
       "      two     3.633259  0.347126"
      ]
     },
     "execution_count": 114,
     "metadata": {},
     "output_type": "execute_result"
    }
   ],
   "source": [
    "df2 = df[:4]\n",
    "df2"
   ]
  },
  {
   "cell_type": "markdown",
   "metadata": {},
   "source": [
    "stack()方法对DataFrame的列“压缩”一个层级"
   ]
  },
  {
   "cell_type": "code",
   "execution_count": 118,
   "metadata": {},
   "outputs": [
    {
     "data": {
      "text/plain": [
       "first  second   \n",
       "bar    one     A   -0.720032\n",
       "               B    0.075191\n",
       "       two     A   -0.331008\n",
       "               B    0.384905\n",
       "baz    one     A   -0.214018\n",
       "               B    1.138475\n",
       "       two     A    3.633259\n",
       "               B    0.347126\n",
       "dtype: float64"
      ]
     },
     "execution_count": 118,
     "metadata": {},
     "output_type": "execute_result"
    }
   ],
   "source": [
    "stacked = df2.stack()\n",
    "stacked"
   ]
  },
  {
   "cell_type": "markdown",
   "metadata": {},
   "source": [
    "对于一个“堆叠过的”DataFrame或者Series（拥有MultiIndex作为索引），stack()的逆操作是unstack()，默认反堆叠到上一个层级"
   ]
  },
  {
   "cell_type": "code",
   "execution_count": 119,
   "metadata": {},
   "outputs": [
    {
     "data": {
      "text/html": [
       "<div>\n",
       "<table border=\"1\" class=\"dataframe\">\n",
       "  <thead>\n",
       "    <tr style=\"text-align: right;\">\n",
       "      <th></th>\n",
       "      <th></th>\n",
       "      <th>A</th>\n",
       "      <th>B</th>\n",
       "    </tr>\n",
       "    <tr>\n",
       "      <th>first</th>\n",
       "      <th>second</th>\n",
       "      <th></th>\n",
       "      <th></th>\n",
       "    </tr>\n",
       "  </thead>\n",
       "  <tbody>\n",
       "    <tr>\n",
       "      <th rowspan=\"2\" valign=\"top\">bar</th>\n",
       "      <th>one</th>\n",
       "      <td>-0.720032</td>\n",
       "      <td>0.075191</td>\n",
       "    </tr>\n",
       "    <tr>\n",
       "      <th>two</th>\n",
       "      <td>-0.331008</td>\n",
       "      <td>0.384905</td>\n",
       "    </tr>\n",
       "    <tr>\n",
       "      <th rowspan=\"2\" valign=\"top\">baz</th>\n",
       "      <th>one</th>\n",
       "      <td>-0.214018</td>\n",
       "      <td>1.138475</td>\n",
       "    </tr>\n",
       "    <tr>\n",
       "      <th>two</th>\n",
       "      <td>3.633259</td>\n",
       "      <td>0.347126</td>\n",
       "    </tr>\n",
       "  </tbody>\n",
       "</table>\n",
       "</div>"
      ],
      "text/plain": [
       "                     A         B\n",
       "first second                    \n",
       "bar   one    -0.720032  0.075191\n",
       "      two    -0.331008  0.384905\n",
       "baz   one    -0.214018  1.138475\n",
       "      two     3.633259  0.347126"
      ]
     },
     "execution_count": 119,
     "metadata": {},
     "output_type": "execute_result"
    }
   ],
   "source": [
    "stacked.unstack()"
   ]
  },
  {
   "cell_type": "code",
   "execution_count": 120,
   "metadata": {},
   "outputs": [
    {
     "data": {
      "text/html": [
       "<div>\n",
       "<table border=\"1\" class=\"dataframe\">\n",
       "  <thead>\n",
       "    <tr style=\"text-align: right;\">\n",
       "      <th></th>\n",
       "      <th>second</th>\n",
       "      <th>one</th>\n",
       "      <th>two</th>\n",
       "    </tr>\n",
       "    <tr>\n",
       "      <th>first</th>\n",
       "      <th></th>\n",
       "      <th></th>\n",
       "      <th></th>\n",
       "    </tr>\n",
       "  </thead>\n",
       "  <tbody>\n",
       "    <tr>\n",
       "      <th rowspan=\"2\" valign=\"top\">bar</th>\n",
       "      <th>A</th>\n",
       "      <td>-0.720032</td>\n",
       "      <td>-0.331008</td>\n",
       "    </tr>\n",
       "    <tr>\n",
       "      <th>B</th>\n",
       "      <td>0.075191</td>\n",
       "      <td>0.384905</td>\n",
       "    </tr>\n",
       "    <tr>\n",
       "      <th rowspan=\"2\" valign=\"top\">baz</th>\n",
       "      <th>A</th>\n",
       "      <td>-0.214018</td>\n",
       "      <td>3.633259</td>\n",
       "    </tr>\n",
       "    <tr>\n",
       "      <th>B</th>\n",
       "      <td>1.138475</td>\n",
       "      <td>0.347126</td>\n",
       "    </tr>\n",
       "  </tbody>\n",
       "</table>\n",
       "</div>"
      ],
      "text/plain": [
       "second        one       two\n",
       "first                      \n",
       "bar   A -0.720032 -0.331008\n",
       "      B  0.075191  0.384905\n",
       "baz   A -0.214018  3.633259\n",
       "      B  1.138475  0.347126"
      ]
     },
     "execution_count": 120,
     "metadata": {},
     "output_type": "execute_result"
    }
   ],
   "source": [
    "stacked.unstack(1)"
   ]
  },
  {
   "cell_type": "code",
   "execution_count": 121,
   "metadata": {},
   "outputs": [
    {
     "data": {
      "text/html": [
       "<div>\n",
       "<table border=\"1\" class=\"dataframe\">\n",
       "  <thead>\n",
       "    <tr style=\"text-align: right;\">\n",
       "      <th></th>\n",
       "      <th>first</th>\n",
       "      <th>bar</th>\n",
       "      <th>baz</th>\n",
       "    </tr>\n",
       "    <tr>\n",
       "      <th>second</th>\n",
       "      <th></th>\n",
       "      <th></th>\n",
       "      <th></th>\n",
       "    </tr>\n",
       "  </thead>\n",
       "  <tbody>\n",
       "    <tr>\n",
       "      <th rowspan=\"2\" valign=\"top\">one</th>\n",
       "      <th>A</th>\n",
       "      <td>-0.720032</td>\n",
       "      <td>-0.214018</td>\n",
       "    </tr>\n",
       "    <tr>\n",
       "      <th>B</th>\n",
       "      <td>0.075191</td>\n",
       "      <td>1.138475</td>\n",
       "    </tr>\n",
       "    <tr>\n",
       "      <th rowspan=\"2\" valign=\"top\">two</th>\n",
       "      <th>A</th>\n",
       "      <td>-0.331008</td>\n",
       "      <td>3.633259</td>\n",
       "    </tr>\n",
       "    <tr>\n",
       "      <th>B</th>\n",
       "      <td>0.384905</td>\n",
       "      <td>0.347126</td>\n",
       "    </tr>\n",
       "  </tbody>\n",
       "</table>\n",
       "</div>"
      ],
      "text/plain": [
       "first          bar       baz\n",
       "second                      \n",
       "one    A -0.720032 -0.214018\n",
       "       B  0.075191  1.138475\n",
       "two    A -0.331008  3.633259\n",
       "       B  0.384905  0.347126"
      ]
     },
     "execution_count": 121,
     "metadata": {},
     "output_type": "execute_result"
    }
   ],
   "source": [
    "stacked.unstack(0)"
   ]
  },
  {
   "cell_type": "markdown",
   "metadata": {},
   "source": [
    "### 数据透视表"
   ]
  },
  {
   "cell_type": "code",
   "execution_count": 122,
   "metadata": {},
   "outputs": [
    {
     "data": {
      "text/html": [
       "<div>\n",
       "<table border=\"1\" class=\"dataframe\">\n",
       "  <thead>\n",
       "    <tr style=\"text-align: right;\">\n",
       "      <th></th>\n",
       "      <th>A</th>\n",
       "      <th>B</th>\n",
       "      <th>C</th>\n",
       "      <th>D</th>\n",
       "      <th>E</th>\n",
       "    </tr>\n",
       "  </thead>\n",
       "  <tbody>\n",
       "    <tr>\n",
       "      <th>0</th>\n",
       "      <td>one</td>\n",
       "      <td>A</td>\n",
       "      <td>foo</td>\n",
       "      <td>-1.031086</td>\n",
       "      <td>1.787971</td>\n",
       "    </tr>\n",
       "    <tr>\n",
       "      <th>1</th>\n",
       "      <td>one</td>\n",
       "      <td>B</td>\n",
       "      <td>foo</td>\n",
       "      <td>-0.712487</td>\n",
       "      <td>0.813147</td>\n",
       "    </tr>\n",
       "    <tr>\n",
       "      <th>2</th>\n",
       "      <td>two</td>\n",
       "      <td>C</td>\n",
       "      <td>foo</td>\n",
       "      <td>-1.572214</td>\n",
       "      <td>0.130240</td>\n",
       "    </tr>\n",
       "    <tr>\n",
       "      <th>3</th>\n",
       "      <td>three</td>\n",
       "      <td>A</td>\n",
       "      <td>bar</td>\n",
       "      <td>1.448993</td>\n",
       "      <td>1.807190</td>\n",
       "    </tr>\n",
       "    <tr>\n",
       "      <th>4</th>\n",
       "      <td>one</td>\n",
       "      <td>B</td>\n",
       "      <td>bar</td>\n",
       "      <td>-0.132258</td>\n",
       "      <td>-0.351344</td>\n",
       "    </tr>\n",
       "    <tr>\n",
       "      <th>5</th>\n",
       "      <td>one</td>\n",
       "      <td>C</td>\n",
       "      <td>bar</td>\n",
       "      <td>1.163097</td>\n",
       "      <td>-1.230754</td>\n",
       "    </tr>\n",
       "    <tr>\n",
       "      <th>6</th>\n",
       "      <td>two</td>\n",
       "      <td>A</td>\n",
       "      <td>foo</td>\n",
       "      <td>1.047789</td>\n",
       "      <td>0.245202</td>\n",
       "    </tr>\n",
       "    <tr>\n",
       "      <th>7</th>\n",
       "      <td>three</td>\n",
       "      <td>B</td>\n",
       "      <td>foo</td>\n",
       "      <td>-0.093575</td>\n",
       "      <td>0.258116</td>\n",
       "    </tr>\n",
       "    <tr>\n",
       "      <th>8</th>\n",
       "      <td>one</td>\n",
       "      <td>C</td>\n",
       "      <td>foo</td>\n",
       "      <td>0.521498</td>\n",
       "      <td>0.404834</td>\n",
       "    </tr>\n",
       "    <tr>\n",
       "      <th>9</th>\n",
       "      <td>one</td>\n",
       "      <td>A</td>\n",
       "      <td>bar</td>\n",
       "      <td>0.292060</td>\n",
       "      <td>-0.434396</td>\n",
       "    </tr>\n",
       "    <tr>\n",
       "      <th>10</th>\n",
       "      <td>two</td>\n",
       "      <td>B</td>\n",
       "      <td>bar</td>\n",
       "      <td>-0.529418</td>\n",
       "      <td>-1.154775</td>\n",
       "    </tr>\n",
       "    <tr>\n",
       "      <th>11</th>\n",
       "      <td>three</td>\n",
       "      <td>C</td>\n",
       "      <td>bar</td>\n",
       "      <td>-0.073174</td>\n",
       "      <td>-0.711535</td>\n",
       "    </tr>\n",
       "  </tbody>\n",
       "</table>\n",
       "</div>"
      ],
      "text/plain": [
       "        A  B    C         D         E\n",
       "0     one  A  foo -1.031086  1.787971\n",
       "1     one  B  foo -0.712487  0.813147\n",
       "2     two  C  foo -1.572214  0.130240\n",
       "3   three  A  bar  1.448993  1.807190\n",
       "4     one  B  bar -0.132258 -0.351344\n",
       "5     one  C  bar  1.163097 -1.230754\n",
       "6     two  A  foo  1.047789  0.245202\n",
       "7   three  B  foo -0.093575  0.258116\n",
       "8     one  C  foo  0.521498  0.404834\n",
       "9     one  A  bar  0.292060 -0.434396\n",
       "10    two  B  bar -0.529418 -1.154775\n",
       "11  three  C  bar -0.073174 -0.711535"
      ]
     },
     "execution_count": 122,
     "metadata": {},
     "output_type": "execute_result"
    }
   ],
   "source": [
    "df = pd.DataFrame({'A' : ['one', 'one', 'two', 'three'] * 3,\n",
    "                   'B' : ['A', 'B', 'C'] * 4,\n",
    "                   'C' : ['foo', 'foo', 'foo', 'bar', 'bar', 'bar'] * 2,\n",
    "                   'D' : np.random.randn(12),\n",
    "                   'E' : np.random.randn(12)})\n",
    "df"
   ]
  },
  {
   "cell_type": "markdown",
   "metadata": {},
   "source": [
    "我们可以轻松地从这个数据得到透视表"
   ]
  },
  {
   "cell_type": "code",
   "execution_count": 123,
   "metadata": {},
   "outputs": [
    {
     "data": {
      "text/html": [
       "<div>\n",
       "<table border=\"1\" class=\"dataframe\">\n",
       "  <thead>\n",
       "    <tr style=\"text-align: right;\">\n",
       "      <th></th>\n",
       "      <th>C</th>\n",
       "      <th>bar</th>\n",
       "      <th>foo</th>\n",
       "    </tr>\n",
       "    <tr>\n",
       "      <th>A</th>\n",
       "      <th>B</th>\n",
       "      <th></th>\n",
       "      <th></th>\n",
       "    </tr>\n",
       "  </thead>\n",
       "  <tbody>\n",
       "    <tr>\n",
       "      <th rowspan=\"3\" valign=\"top\">one</th>\n",
       "      <th>A</th>\n",
       "      <td>0.292060</td>\n",
       "      <td>-1.031086</td>\n",
       "    </tr>\n",
       "    <tr>\n",
       "      <th>B</th>\n",
       "      <td>-0.132258</td>\n",
       "      <td>-0.712487</td>\n",
       "    </tr>\n",
       "    <tr>\n",
       "      <th>C</th>\n",
       "      <td>1.163097</td>\n",
       "      <td>0.521498</td>\n",
       "    </tr>\n",
       "    <tr>\n",
       "      <th rowspan=\"3\" valign=\"top\">three</th>\n",
       "      <th>A</th>\n",
       "      <td>1.448993</td>\n",
       "      <td>NaN</td>\n",
       "    </tr>\n",
       "    <tr>\n",
       "      <th>B</th>\n",
       "      <td>NaN</td>\n",
       "      <td>-0.093575</td>\n",
       "    </tr>\n",
       "    <tr>\n",
       "      <th>C</th>\n",
       "      <td>-0.073174</td>\n",
       "      <td>NaN</td>\n",
       "    </tr>\n",
       "    <tr>\n",
       "      <th rowspan=\"3\" valign=\"top\">two</th>\n",
       "      <th>A</th>\n",
       "      <td>NaN</td>\n",
       "      <td>1.047789</td>\n",
       "    </tr>\n",
       "    <tr>\n",
       "      <th>B</th>\n",
       "      <td>-0.529418</td>\n",
       "      <td>NaN</td>\n",
       "    </tr>\n",
       "    <tr>\n",
       "      <th>C</th>\n",
       "      <td>NaN</td>\n",
       "      <td>-1.572214</td>\n",
       "    </tr>\n",
       "  </tbody>\n",
       "</table>\n",
       "</div>"
      ],
      "text/plain": [
       "C             bar       foo\n",
       "A     B                    \n",
       "one   A  0.292060 -1.031086\n",
       "      B -0.132258 -0.712487\n",
       "      C  1.163097  0.521498\n",
       "three A  1.448993       NaN\n",
       "      B       NaN -0.093575\n",
       "      C -0.073174       NaN\n",
       "two   A       NaN  1.047789\n",
       "      B -0.529418       NaN\n",
       "      C       NaN -1.572214"
      ]
     },
     "execution_count": 123,
     "metadata": {},
     "output_type": "execute_result"
    }
   ],
   "source": [
    "pd.pivot_table(df, values='D', index=['A', 'B'], columns=['C'])"
   ]
  },
  {
   "cell_type": "markdown",
   "metadata": {},
   "source": [
    "## 时间序列"
   ]
  },
  {
   "cell_type": "markdown",
   "metadata": {},
   "source": [
    "pandas在对频率转换进行重新采样时拥有着简单，强大而且高效的功能（例如把按秒采样的数据转换为按5分钟采样的数据）。这在金融领域很常见，但又不限于此"
   ]
  },
  {
   "cell_type": "code",
   "execution_count": 124,
   "metadata": {},
   "outputs": [
    {
     "data": {
      "text/plain": [
       "DatetimeIndex(['2012-01-01 00:00:00', '2012-01-01 00:00:01',\n",
       "               '2012-01-01 00:00:02', '2012-01-01 00:00:03',\n",
       "               '2012-01-01 00:00:04', '2012-01-01 00:00:05',\n",
       "               '2012-01-01 00:00:06', '2012-01-01 00:00:07',\n",
       "               '2012-01-01 00:00:08', '2012-01-01 00:00:09',\n",
       "               '2012-01-01 00:00:10', '2012-01-01 00:00:11',\n",
       "               '2012-01-01 00:00:12', '2012-01-01 00:00:13',\n",
       "               '2012-01-01 00:00:14', '2012-01-01 00:00:15',\n",
       "               '2012-01-01 00:00:16', '2012-01-01 00:00:17',\n",
       "               '2012-01-01 00:00:18', '2012-01-01 00:00:19',\n",
       "               '2012-01-01 00:00:20', '2012-01-01 00:00:21',\n",
       "               '2012-01-01 00:00:22', '2012-01-01 00:00:23',\n",
       "               '2012-01-01 00:00:24', '2012-01-01 00:00:25',\n",
       "               '2012-01-01 00:00:26', '2012-01-01 00:00:27',\n",
       "               '2012-01-01 00:00:28', '2012-01-01 00:00:29',\n",
       "               '2012-01-01 00:00:30', '2012-01-01 00:00:31',\n",
       "               '2012-01-01 00:00:32', '2012-01-01 00:00:33',\n",
       "               '2012-01-01 00:00:34', '2012-01-01 00:00:35',\n",
       "               '2012-01-01 00:00:36', '2012-01-01 00:00:37',\n",
       "               '2012-01-01 00:00:38', '2012-01-01 00:00:39',\n",
       "               '2012-01-01 00:00:40', '2012-01-01 00:00:41',\n",
       "               '2012-01-01 00:00:42', '2012-01-01 00:00:43',\n",
       "               '2012-01-01 00:00:44', '2012-01-01 00:00:45',\n",
       "               '2012-01-01 00:00:46', '2012-01-01 00:00:47',\n",
       "               '2012-01-01 00:00:48', '2012-01-01 00:00:49',\n",
       "               '2012-01-01 00:00:50', '2012-01-01 00:00:51',\n",
       "               '2012-01-01 00:00:52', '2012-01-01 00:00:53',\n",
       "               '2012-01-01 00:00:54', '2012-01-01 00:00:55',\n",
       "               '2012-01-01 00:00:56', '2012-01-01 00:00:57',\n",
       "               '2012-01-01 00:00:58', '2012-01-01 00:00:59',\n",
       "               '2012-01-01 00:01:00', '2012-01-01 00:01:01',\n",
       "               '2012-01-01 00:01:02', '2012-01-01 00:01:03',\n",
       "               '2012-01-01 00:01:04', '2012-01-01 00:01:05',\n",
       "               '2012-01-01 00:01:06', '2012-01-01 00:01:07',\n",
       "               '2012-01-01 00:01:08', '2012-01-01 00:01:09',\n",
       "               '2012-01-01 00:01:10', '2012-01-01 00:01:11',\n",
       "               '2012-01-01 00:01:12', '2012-01-01 00:01:13',\n",
       "               '2012-01-01 00:01:14', '2012-01-01 00:01:15',\n",
       "               '2012-01-01 00:01:16', '2012-01-01 00:01:17',\n",
       "               '2012-01-01 00:01:18', '2012-01-01 00:01:19',\n",
       "               '2012-01-01 00:01:20', '2012-01-01 00:01:21',\n",
       "               '2012-01-01 00:01:22', '2012-01-01 00:01:23',\n",
       "               '2012-01-01 00:01:24', '2012-01-01 00:01:25',\n",
       "               '2012-01-01 00:01:26', '2012-01-01 00:01:27',\n",
       "               '2012-01-01 00:01:28', '2012-01-01 00:01:29',\n",
       "               '2012-01-01 00:01:30', '2012-01-01 00:01:31',\n",
       "               '2012-01-01 00:01:32', '2012-01-01 00:01:33',\n",
       "               '2012-01-01 00:01:34', '2012-01-01 00:01:35',\n",
       "               '2012-01-01 00:01:36', '2012-01-01 00:01:37',\n",
       "               '2012-01-01 00:01:38', '2012-01-01 00:01:39'],\n",
       "              dtype='datetime64[ns]', freq='S')"
      ]
     },
     "execution_count": 124,
     "metadata": {},
     "output_type": "execute_result"
    }
   ],
   "source": [
    "rng = pd.date_range('1/1/2012', periods=100, freq='S')\n",
    "rng"
   ]
  },
  {
   "cell_type": "code",
   "execution_count": 125,
   "metadata": {},
   "outputs": [
    {
     "data": {
      "text/plain": [
       "2012-01-01 00:00:00    375\n",
       "2012-01-01 00:00:01    180\n",
       "2012-01-01 00:00:02    168\n",
       "2012-01-01 00:00:03    494\n",
       "2012-01-01 00:00:04    208\n",
       "2012-01-01 00:00:05    266\n",
       "2012-01-01 00:00:06    170\n",
       "2012-01-01 00:00:07     96\n",
       "2012-01-01 00:00:08     69\n",
       "2012-01-01 00:00:09    208\n",
       "2012-01-01 00:00:10    210\n",
       "2012-01-01 00:00:11    144\n",
       "2012-01-01 00:00:12    117\n",
       "2012-01-01 00:00:13    448\n",
       "2012-01-01 00:00:14    147\n",
       "2012-01-01 00:00:15    291\n",
       "2012-01-01 00:00:16    302\n",
       "2012-01-01 00:00:17    369\n",
       "2012-01-01 00:00:18    409\n",
       "2012-01-01 00:00:19    429\n",
       "2012-01-01 00:00:20    195\n",
       "2012-01-01 00:00:21    425\n",
       "2012-01-01 00:00:22    377\n",
       "2012-01-01 00:00:23    459\n",
       "2012-01-01 00:00:24    307\n",
       "2012-01-01 00:00:25     48\n",
       "2012-01-01 00:00:26    100\n",
       "2012-01-01 00:00:27    378\n",
       "2012-01-01 00:00:28     32\n",
       "2012-01-01 00:00:29    154\n",
       "                      ... \n",
       "2012-01-01 00:01:10    109\n",
       "2012-01-01 00:01:11    377\n",
       "2012-01-01 00:01:12    361\n",
       "2012-01-01 00:01:13    169\n",
       "2012-01-01 00:01:14    355\n",
       "2012-01-01 00:01:15    213\n",
       "2012-01-01 00:01:16     24\n",
       "2012-01-01 00:01:17     10\n",
       "2012-01-01 00:01:18     90\n",
       "2012-01-01 00:01:19    108\n",
       "2012-01-01 00:01:20    225\n",
       "2012-01-01 00:01:21    464\n",
       "2012-01-01 00:01:22    243\n",
       "2012-01-01 00:01:23    106\n",
       "2012-01-01 00:01:24     10\n",
       "2012-01-01 00:01:25    153\n",
       "2012-01-01 00:01:26    142\n",
       "2012-01-01 00:01:27    354\n",
       "2012-01-01 00:01:28     76\n",
       "2012-01-01 00:01:29     53\n",
       "2012-01-01 00:01:30    252\n",
       "2012-01-01 00:01:31    352\n",
       "2012-01-01 00:01:32    289\n",
       "2012-01-01 00:01:33    364\n",
       "2012-01-01 00:01:34    388\n",
       "2012-01-01 00:01:35    482\n",
       "2012-01-01 00:01:36     51\n",
       "2012-01-01 00:01:37    475\n",
       "2012-01-01 00:01:38    474\n",
       "2012-01-01 00:01:39     26\n",
       "Freq: S, dtype: int64"
      ]
     },
     "execution_count": 125,
     "metadata": {},
     "output_type": "execute_result"
    }
   ],
   "source": [
    "ts = pd.Series(np.random.randint(0,500,len(rng)), index=rng)\n",
    "ts"
   ]
  },
  {
   "cell_type": "code",
   "execution_count": 126,
   "metadata": {},
   "outputs": [
    {
     "data": {
      "text/plain": [
       "2012-01-01    24911\n",
       "Freq: 5T, dtype: int64"
      ]
     },
     "execution_count": 126,
     "metadata": {},
     "output_type": "execute_result"
    }
   ],
   "source": [
    "ts.resample('5Min').sum()"
   ]
  },
  {
   "cell_type": "markdown",
   "metadata": {},
   "source": [
    "时区表示"
   ]
  },
  {
   "cell_type": "code",
   "execution_count": 128,
   "metadata": {},
   "outputs": [
    {
     "data": {
      "text/plain": [
       "DatetimeIndex(['2012-03-06', '2012-03-07', '2012-03-08', '2012-03-09',\n",
       "               '2012-03-10'],\n",
       "              dtype='datetime64[ns]', freq='D')"
      ]
     },
     "execution_count": 128,
     "metadata": {},
     "output_type": "execute_result"
    }
   ],
   "source": [
    "rng = pd.date_range('3/6/2012 00:00', periods=5, freq='D')\n",
    "rng"
   ]
  },
  {
   "cell_type": "code",
   "execution_count": 129,
   "metadata": {},
   "outputs": [
    {
     "data": {
      "text/plain": [
       "2012-03-06    0.256357\n",
       "2012-03-07    0.193427\n",
       "2012-03-08   -0.682942\n",
       "2012-03-09    0.906633\n",
       "2012-03-10   -0.285553\n",
       "Freq: D, dtype: float64"
      ]
     },
     "execution_count": 129,
     "metadata": {},
     "output_type": "execute_result"
    }
   ],
   "source": [
    "ts = pd.Series(np.random.randn(len(rng)), rng)\n",
    "ts"
   ]
  },
  {
   "cell_type": "code",
   "execution_count": 130,
   "metadata": {},
   "outputs": [
    {
     "data": {
      "text/plain": [
       "2012-03-06 00:00:00+00:00    0.256357\n",
       "2012-03-07 00:00:00+00:00    0.193427\n",
       "2012-03-08 00:00:00+00:00   -0.682942\n",
       "2012-03-09 00:00:00+00:00    0.906633\n",
       "2012-03-10 00:00:00+00:00   -0.285553\n",
       "Freq: D, dtype: float64"
      ]
     },
     "execution_count": 130,
     "metadata": {},
     "output_type": "execute_result"
    }
   ],
   "source": [
    "ts_utc = ts.tz_localize('UTC')\n",
    "ts_utc"
   ]
  },
  {
   "cell_type": "markdown",
   "metadata": {},
   "source": [
    "时区转换"
   ]
  },
  {
   "cell_type": "code",
   "execution_count": 131,
   "metadata": {},
   "outputs": [
    {
     "data": {
      "text/plain": [
       "2012-03-05 19:00:00-05:00    0.256357\n",
       "2012-03-06 19:00:00-05:00    0.193427\n",
       "2012-03-07 19:00:00-05:00   -0.682942\n",
       "2012-03-08 19:00:00-05:00    0.906633\n",
       "2012-03-09 19:00:00-05:00   -0.285553\n",
       "Freq: D, dtype: float64"
      ]
     },
     "execution_count": 131,
     "metadata": {},
     "output_type": "execute_result"
    }
   ],
   "source": [
    "ts_utc.tz_convert('US/Eastern')"
   ]
  },
  {
   "cell_type": "markdown",
   "metadata": {},
   "source": [
    "时间跨度转换"
   ]
  },
  {
   "cell_type": "code",
   "execution_count": 132,
   "metadata": {},
   "outputs": [
    {
     "data": {
      "text/plain": [
       "DatetimeIndex(['2012-01-31', '2012-02-29', '2012-03-31', '2012-04-30',\n",
       "               '2012-05-31'],\n",
       "              dtype='datetime64[ns]', freq='M')"
      ]
     },
     "execution_count": 132,
     "metadata": {},
     "output_type": "execute_result"
    }
   ],
   "source": [
    "rng = pd.date_range('1/1/2012', periods=5, freq='M')\n",
    "rng"
   ]
  },
  {
   "cell_type": "code",
   "execution_count": 133,
   "metadata": {},
   "outputs": [
    {
     "data": {
      "text/plain": [
       "2012-01-31    0.551473\n",
       "2012-02-29    0.043969\n",
       "2012-03-31   -1.414780\n",
       "2012-04-30    1.131970\n",
       "2012-05-31   -0.507420\n",
       "Freq: M, dtype: float64"
      ]
     },
     "execution_count": 133,
     "metadata": {},
     "output_type": "execute_result"
    }
   ],
   "source": [
    "ts = pd.Series(np.random.randn(len(rng)), index=rng)\n",
    "ts"
   ]
  },
  {
   "cell_type": "code",
   "execution_count": 134,
   "metadata": {},
   "outputs": [
    {
     "data": {
      "text/plain": [
       "2012-01    0.551473\n",
       "2012-02    0.043969\n",
       "2012-03   -1.414780\n",
       "2012-04    1.131970\n",
       "2012-05   -0.507420\n",
       "Freq: M, dtype: float64"
      ]
     },
     "execution_count": 134,
     "metadata": {},
     "output_type": "execute_result"
    }
   ],
   "source": [
    "ps = ts.to_period()\n",
    "ps"
   ]
  },
  {
   "cell_type": "code",
   "execution_count": 135,
   "metadata": {},
   "outputs": [
    {
     "data": {
      "text/plain": [
       "2012-01-01    0.551473\n",
       "2012-02-01    0.043969\n",
       "2012-03-01   -1.414780\n",
       "2012-04-01    1.131970\n",
       "2012-05-01   -0.507420\n",
       "Freq: MS, dtype: float64"
      ]
     },
     "execution_count": 135,
     "metadata": {},
     "output_type": "execute_result"
    }
   ],
   "source": [
    "ps.to_timestamp()"
   ]
  },
  {
   "cell_type": "markdown",
   "metadata": {},
   "source": [
    "日期与时间戳之间的转换使得可以使用一些方便的算术函数。例如，我们把以11月为年底的季度数据转换为当前季度末月底为始的数据"
   ]
  },
  {
   "cell_type": "code",
   "execution_count": 136,
   "metadata": {},
   "outputs": [
    {
     "data": {
      "text/plain": [
       "PeriodIndex(['1990Q1', '1990Q2', '1990Q3', '1990Q4', '1991Q1', '1991Q2',\n",
       "             '1991Q3', '1991Q4', '1992Q1', '1992Q2', '1992Q3', '1992Q4',\n",
       "             '1993Q1', '1993Q2', '1993Q3', '1993Q4', '1994Q1', '1994Q2',\n",
       "             '1994Q3', '1994Q4', '1995Q1', '1995Q2', '1995Q3', '1995Q4',\n",
       "             '1996Q1', '1996Q2', '1996Q3', '1996Q4', '1997Q1', '1997Q2',\n",
       "             '1997Q3', '1997Q4', '1998Q1', '1998Q2', '1998Q3', '1998Q4',\n",
       "             '1999Q1', '1999Q2', '1999Q3', '1999Q4', '2000Q1', '2000Q2',\n",
       "             '2000Q3', '2000Q4'],\n",
       "            dtype='period[Q-NOV]', freq='Q-NOV')"
      ]
     },
     "execution_count": 136,
     "metadata": {},
     "output_type": "execute_result"
    }
   ],
   "source": [
    "prng = pd.period_range('1990Q1', '2000Q4', freq='Q-NOV')\n",
    "prng"
   ]
  },
  {
   "cell_type": "code",
   "execution_count": 139,
   "metadata": {},
   "outputs": [
    {
     "data": {
      "text/plain": [
       "1990-02-01 09:00   -0.809788\n",
       "1990-05-01 09:00    0.862069\n",
       "1990-08-01 09:00    0.654928\n",
       "1990-11-01 09:00    0.922328\n",
       "1991-02-01 09:00   -1.987616\n",
       "Freq: H, dtype: float64"
      ]
     },
     "execution_count": 139,
     "metadata": {},
     "output_type": "execute_result"
    }
   ],
   "source": [
    "ts = pd.Series(np.random.randn(len(prng)), index = prng)\n",
    "ts.index = (prng.asfreq('M', 'end') ) .asfreq('H', 'start') +9\n",
    "ts.head()"
   ]
  },
  {
   "cell_type": "markdown",
   "metadata": {},
   "source": [
    "## 分类"
   ]
  },
  {
   "cell_type": "markdown",
   "metadata": {},
   "source": [
    "pandas可以在DataFrame中包括分类数据。"
   ]
  },
  {
   "cell_type": "code",
   "execution_count": 142,
   "metadata": {},
   "outputs": [
    {
     "data": {
      "text/html": [
       "<div>\n",
       "<table border=\"1\" class=\"dataframe\">\n",
       "  <thead>\n",
       "    <tr style=\"text-align: right;\">\n",
       "      <th></th>\n",
       "      <th>id</th>\n",
       "      <th>raw_grade</th>\n",
       "    </tr>\n",
       "  </thead>\n",
       "  <tbody>\n",
       "    <tr>\n",
       "      <th>0</th>\n",
       "      <td>1</td>\n",
       "      <td>a</td>\n",
       "    </tr>\n",
       "    <tr>\n",
       "      <th>1</th>\n",
       "      <td>2</td>\n",
       "      <td>b</td>\n",
       "    </tr>\n",
       "    <tr>\n",
       "      <th>2</th>\n",
       "      <td>3</td>\n",
       "      <td>b</td>\n",
       "    </tr>\n",
       "    <tr>\n",
       "      <th>3</th>\n",
       "      <td>4</td>\n",
       "      <td>a</td>\n",
       "    </tr>\n",
       "    <tr>\n",
       "      <th>4</th>\n",
       "      <td>5</td>\n",
       "      <td>a</td>\n",
       "    </tr>\n",
       "    <tr>\n",
       "      <th>5</th>\n",
       "      <td>6</td>\n",
       "      <td>e</td>\n",
       "    </tr>\n",
       "  </tbody>\n",
       "</table>\n",
       "</div>"
      ],
      "text/plain": [
       "   id raw_grade\n",
       "0   1         a\n",
       "1   2         b\n",
       "2   3         b\n",
       "3   4         a\n",
       "4   5         a\n",
       "5   6         e"
      ]
     },
     "execution_count": 142,
     "metadata": {},
     "output_type": "execute_result"
    }
   ],
   "source": [
    "df = pd.DataFrame({\"id\":[1,2,3,4,5,6], \"raw_grade\":['a', 'b', 'b', 'a', 'a', 'e']})\n",
    "df"
   ]
  },
  {
   "cell_type": "markdown",
   "metadata": {},
   "source": [
    "把raw_grade转换为分类类型"
   ]
  },
  {
   "cell_type": "code",
   "execution_count": 143,
   "metadata": {},
   "outputs": [
    {
     "data": {
      "text/plain": [
       "0    a\n",
       "1    b\n",
       "2    b\n",
       "3    a\n",
       "4    a\n",
       "5    e\n",
       "Name: grade, dtype: category\n",
       "Categories (3, object): [a, b, e]"
      ]
     },
     "execution_count": 143,
     "metadata": {},
     "output_type": "execute_result"
    }
   ],
   "source": [
    "df[\"grade\"] = df[\"raw_grade\"].astype(\"category\")\n",
    "df[\"grade\"]"
   ]
  },
  {
   "cell_type": "markdown",
   "metadata": {},
   "source": [
    "重命名类别名为更有意义的名称"
   ]
  },
  {
   "cell_type": "code",
   "execution_count": 145,
   "metadata": {},
   "outputs": [
    {
     "data": {
      "text/html": [
       "<div>\n",
       "<table border=\"1\" class=\"dataframe\">\n",
       "  <thead>\n",
       "    <tr style=\"text-align: right;\">\n",
       "      <th></th>\n",
       "      <th>id</th>\n",
       "      <th>raw_grade</th>\n",
       "      <th>grade</th>\n",
       "    </tr>\n",
       "  </thead>\n",
       "  <tbody>\n",
       "    <tr>\n",
       "      <th>0</th>\n",
       "      <td>1</td>\n",
       "      <td>a</td>\n",
       "      <td>very good</td>\n",
       "    </tr>\n",
       "    <tr>\n",
       "      <th>1</th>\n",
       "      <td>2</td>\n",
       "      <td>b</td>\n",
       "      <td>good</td>\n",
       "    </tr>\n",
       "    <tr>\n",
       "      <th>2</th>\n",
       "      <td>3</td>\n",
       "      <td>b</td>\n",
       "      <td>good</td>\n",
       "    </tr>\n",
       "    <tr>\n",
       "      <th>3</th>\n",
       "      <td>4</td>\n",
       "      <td>a</td>\n",
       "      <td>very good</td>\n",
       "    </tr>\n",
       "    <tr>\n",
       "      <th>4</th>\n",
       "      <td>5</td>\n",
       "      <td>a</td>\n",
       "      <td>very good</td>\n",
       "    </tr>\n",
       "    <tr>\n",
       "      <th>5</th>\n",
       "      <td>6</td>\n",
       "      <td>e</td>\n",
       "      <td>very bad</td>\n",
       "    </tr>\n",
       "  </tbody>\n",
       "</table>\n",
       "</div>"
      ],
      "text/plain": [
       "   id raw_grade      grade\n",
       "0   1         a  very good\n",
       "1   2         b       good\n",
       "2   3         b       good\n",
       "3   4         a  very good\n",
       "4   5         a  very good\n",
       "5   6         e   very bad"
      ]
     },
     "execution_count": 145,
     "metadata": {},
     "output_type": "execute_result"
    }
   ],
   "source": [
    "df[\"grade\"].cat.categories = [\"very good\", \"good\", \"very bad\"]\n",
    "df"
   ]
  },
  {
   "cell_type": "markdown",
   "metadata": {},
   "source": [
    "对分类重新排序，并添加缺失的分类"
   ]
  },
  {
   "cell_type": "code",
   "execution_count": 146,
   "metadata": {},
   "outputs": [
    {
     "data": {
      "text/plain": [
       "0    very good\n",
       "1         good\n",
       "2         good\n",
       "3    very good\n",
       "4    very good\n",
       "5     very bad\n",
       "Name: grade, dtype: category\n",
       "Categories (5, object): [very bad, bad, medium, good, very good]"
      ]
     },
     "execution_count": 146,
     "metadata": {},
     "output_type": "execute_result"
    }
   ],
   "source": [
    "df[\"grade\"] = df[\"grade\"].cat.set_categories([\"very bad\", \"bad\", \"medium\", \"good\", \"very good\"])\n",
    "df[\"grade\"]"
   ]
  },
  {
   "cell_type": "markdown",
   "metadata": {},
   "source": [
    "排序是按照分类的顺序进行的，而不是字典序"
   ]
  },
  {
   "cell_type": "code",
   "execution_count": 147,
   "metadata": {},
   "outputs": [
    {
     "data": {
      "text/html": [
       "<div>\n",
       "<table border=\"1\" class=\"dataframe\">\n",
       "  <thead>\n",
       "    <tr style=\"text-align: right;\">\n",
       "      <th></th>\n",
       "      <th>id</th>\n",
       "      <th>raw_grade</th>\n",
       "      <th>grade</th>\n",
       "    </tr>\n",
       "  </thead>\n",
       "  <tbody>\n",
       "    <tr>\n",
       "      <th>5</th>\n",
       "      <td>6</td>\n",
       "      <td>e</td>\n",
       "      <td>very bad</td>\n",
       "    </tr>\n",
       "    <tr>\n",
       "      <th>1</th>\n",
       "      <td>2</td>\n",
       "      <td>b</td>\n",
       "      <td>good</td>\n",
       "    </tr>\n",
       "    <tr>\n",
       "      <th>2</th>\n",
       "      <td>3</td>\n",
       "      <td>b</td>\n",
       "      <td>good</td>\n",
       "    </tr>\n",
       "    <tr>\n",
       "      <th>0</th>\n",
       "      <td>1</td>\n",
       "      <td>a</td>\n",
       "      <td>very good</td>\n",
       "    </tr>\n",
       "    <tr>\n",
       "      <th>3</th>\n",
       "      <td>4</td>\n",
       "      <td>a</td>\n",
       "      <td>very good</td>\n",
       "    </tr>\n",
       "    <tr>\n",
       "      <th>4</th>\n",
       "      <td>5</td>\n",
       "      <td>a</td>\n",
       "      <td>very good</td>\n",
       "    </tr>\n",
       "  </tbody>\n",
       "</table>\n",
       "</div>"
      ],
      "text/plain": [
       "   id raw_grade      grade\n",
       "5   6         e   very bad\n",
       "1   2         b       good\n",
       "2   3         b       good\n",
       "0   1         a  very good\n",
       "3   4         a  very good\n",
       "4   5         a  very good"
      ]
     },
     "execution_count": 147,
     "metadata": {},
     "output_type": "execute_result"
    }
   ],
   "source": [
    "df.sort_values(by=\"grade\")"
   ]
  },
  {
   "cell_type": "markdown",
   "metadata": {},
   "source": [
    "按分类分组时，也会显示空的分类"
   ]
  },
  {
   "cell_type": "code",
   "execution_count": 148,
   "metadata": {},
   "outputs": [
    {
     "data": {
      "text/plain": [
       "grade\n",
       "very bad     1\n",
       "bad          0\n",
       "medium       0\n",
       "good         2\n",
       "very good    3\n",
       "dtype: int64"
      ]
     },
     "execution_count": 148,
     "metadata": {},
     "output_type": "execute_result"
    }
   ],
   "source": [
    "df.groupby(\"grade\").size()"
   ]
  },
  {
   "cell_type": "markdown",
   "metadata": {},
   "source": [
    "## 绘图"
   ]
  },
  {
   "cell_type": "markdown",
   "metadata": {},
   "source": [
    "参阅 [*Plotting*](http://pandas.pydata.org/pandas-docs/stable/visualization.html#visualization)"
   ]
  },
  {
   "cell_type": "code",
   "execution_count": 150,
   "metadata": {},
   "outputs": [
    {
     "data": {
      "application/javascript": [
       "/* Put everything inside the global mpl namespace */\n",
       "window.mpl = {};\n",
       "\n",
       "\n",
       "mpl.get_websocket_type = function() {\n",
       "    if (typeof(WebSocket) !== 'undefined') {\n",
       "        return WebSocket;\n",
       "    } else if (typeof(MozWebSocket) !== 'undefined') {\n",
       "        return MozWebSocket;\n",
       "    } else {\n",
       "        alert('Your browser does not have WebSocket support.' +\n",
       "              'Please try Chrome, Safari or Firefox ≥ 6. ' +\n",
       "              'Firefox 4 and 5 are also supported but you ' +\n",
       "              'have to enable WebSockets in about:config.');\n",
       "    };\n",
       "}\n",
       "\n",
       "mpl.figure = function(figure_id, websocket, ondownload, parent_element) {\n",
       "    this.id = figure_id;\n",
       "\n",
       "    this.ws = websocket;\n",
       "\n",
       "    this.supports_binary = (this.ws.binaryType != undefined);\n",
       "\n",
       "    if (!this.supports_binary) {\n",
       "        var warnings = document.getElementById(\"mpl-warnings\");\n",
       "        if (warnings) {\n",
       "            warnings.style.display = 'block';\n",
       "            warnings.textContent = (\n",
       "                \"This browser does not support binary websocket messages. \" +\n",
       "                    \"Performance may be slow.\");\n",
       "        }\n",
       "    }\n",
       "\n",
       "    this.imageObj = new Image();\n",
       "\n",
       "    this.context = undefined;\n",
       "    this.message = undefined;\n",
       "    this.canvas = undefined;\n",
       "    this.rubberband_canvas = undefined;\n",
       "    this.rubberband_context = undefined;\n",
       "    this.format_dropdown = undefined;\n",
       "\n",
       "    this.image_mode = 'full';\n",
       "\n",
       "    this.root = $('<div/>');\n",
       "    this._root_extra_style(this.root)\n",
       "    this.root.attr('style', 'display: inline-block');\n",
       "\n",
       "    $(parent_element).append(this.root);\n",
       "\n",
       "    this._init_header(this);\n",
       "    this._init_canvas(this);\n",
       "    this._init_toolbar(this);\n",
       "\n",
       "    var fig = this;\n",
       "\n",
       "    this.waiting = false;\n",
       "\n",
       "    this.ws.onopen =  function () {\n",
       "            fig.send_message(\"supports_binary\", {value: fig.supports_binary});\n",
       "            fig.send_message(\"send_image_mode\", {});\n",
       "            if (mpl.ratio != 1) {\n",
       "                fig.send_message(\"set_dpi_ratio\", {'dpi_ratio': mpl.ratio});\n",
       "            }\n",
       "            fig.send_message(\"refresh\", {});\n",
       "        }\n",
       "\n",
       "    this.imageObj.onload = function() {\n",
       "            if (fig.image_mode == 'full') {\n",
       "                // Full images could contain transparency (where diff images\n",
       "                // almost always do), so we need to clear the canvas so that\n",
       "                // there is no ghosting.\n",
       "                fig.context.clearRect(0, 0, fig.canvas.width, fig.canvas.height);\n",
       "            }\n",
       "            fig.context.drawImage(fig.imageObj, 0, 0);\n",
       "        };\n",
       "\n",
       "    this.imageObj.onunload = function() {\n",
       "        this.ws.close();\n",
       "    }\n",
       "\n",
       "    this.ws.onmessage = this._make_on_message_function(this);\n",
       "\n",
       "    this.ondownload = ondownload;\n",
       "}\n",
       "\n",
       "mpl.figure.prototype._init_header = function() {\n",
       "    var titlebar = $(\n",
       "        '<div class=\"ui-dialog-titlebar ui-widget-header ui-corner-all ' +\n",
       "        'ui-helper-clearfix\"/>');\n",
       "    var titletext = $(\n",
       "        '<div class=\"ui-dialog-title\" style=\"width: 100%; ' +\n",
       "        'text-align: center; padding: 3px;\"/>');\n",
       "    titlebar.append(titletext)\n",
       "    this.root.append(titlebar);\n",
       "    this.header = titletext[0];\n",
       "}\n",
       "\n",
       "\n",
       "\n",
       "mpl.figure.prototype._canvas_extra_style = function(canvas_div) {\n",
       "\n",
       "}\n",
       "\n",
       "\n",
       "mpl.figure.prototype._root_extra_style = function(canvas_div) {\n",
       "\n",
       "}\n",
       "\n",
       "mpl.figure.prototype._init_canvas = function() {\n",
       "    var fig = this;\n",
       "\n",
       "    var canvas_div = $('<div/>');\n",
       "\n",
       "    canvas_div.attr('style', 'position: relative; clear: both; outline: 0');\n",
       "\n",
       "    function canvas_keyboard_event(event) {\n",
       "        return fig.key_event(event, event['data']);\n",
       "    }\n",
       "\n",
       "    canvas_div.keydown('key_press', canvas_keyboard_event);\n",
       "    canvas_div.keyup('key_release', canvas_keyboard_event);\n",
       "    this.canvas_div = canvas_div\n",
       "    this._canvas_extra_style(canvas_div)\n",
       "    this.root.append(canvas_div);\n",
       "\n",
       "    var canvas = $('<canvas/>');\n",
       "    canvas.addClass('mpl-canvas');\n",
       "    canvas.attr('style', \"left: 0; top: 0; z-index: 0; outline: 0\")\n",
       "\n",
       "    this.canvas = canvas[0];\n",
       "    this.context = canvas[0].getContext(\"2d\");\n",
       "\n",
       "    var backingStore = this.context.backingStorePixelRatio ||\n",
       "\tthis.context.webkitBackingStorePixelRatio ||\n",
       "\tthis.context.mozBackingStorePixelRatio ||\n",
       "\tthis.context.msBackingStorePixelRatio ||\n",
       "\tthis.context.oBackingStorePixelRatio ||\n",
       "\tthis.context.backingStorePixelRatio || 1;\n",
       "\n",
       "    mpl.ratio = (window.devicePixelRatio || 1) / backingStore;\n",
       "\n",
       "    var rubberband = $('<canvas/>');\n",
       "    rubberband.attr('style', \"position: absolute; left: 0; top: 0; z-index: 1;\")\n",
       "\n",
       "    var pass_mouse_events = true;\n",
       "\n",
       "    canvas_div.resizable({\n",
       "        start: function(event, ui) {\n",
       "            pass_mouse_events = false;\n",
       "        },\n",
       "        resize: function(event, ui) {\n",
       "            fig.request_resize(ui.size.width, ui.size.height);\n",
       "        },\n",
       "        stop: function(event, ui) {\n",
       "            pass_mouse_events = true;\n",
       "            fig.request_resize(ui.size.width, ui.size.height);\n",
       "        },\n",
       "    });\n",
       "\n",
       "    function mouse_event_fn(event) {\n",
       "        if (pass_mouse_events)\n",
       "            return fig.mouse_event(event, event['data']);\n",
       "    }\n",
       "\n",
       "    rubberband.mousedown('button_press', mouse_event_fn);\n",
       "    rubberband.mouseup('button_release', mouse_event_fn);\n",
       "    // Throttle sequential mouse events to 1 every 20ms.\n",
       "    rubberband.mousemove('motion_notify', mouse_event_fn);\n",
       "\n",
       "    rubberband.mouseenter('figure_enter', mouse_event_fn);\n",
       "    rubberband.mouseleave('figure_leave', mouse_event_fn);\n",
       "\n",
       "    canvas_div.on(\"wheel\", function (event) {\n",
       "        event = event.originalEvent;\n",
       "        event['data'] = 'scroll'\n",
       "        if (event.deltaY < 0) {\n",
       "            event.step = 1;\n",
       "        } else {\n",
       "            event.step = -1;\n",
       "        }\n",
       "        mouse_event_fn(event);\n",
       "    });\n",
       "\n",
       "    canvas_div.append(canvas);\n",
       "    canvas_div.append(rubberband);\n",
       "\n",
       "    this.rubberband = rubberband;\n",
       "    this.rubberband_canvas = rubberband[0];\n",
       "    this.rubberband_context = rubberband[0].getContext(\"2d\");\n",
       "    this.rubberband_context.strokeStyle = \"#000000\";\n",
       "\n",
       "    this._resize_canvas = function(width, height) {\n",
       "        // Keep the size of the canvas, canvas container, and rubber band\n",
       "        // canvas in synch.\n",
       "        canvas_div.css('width', width)\n",
       "        canvas_div.css('height', height)\n",
       "\n",
       "        canvas.attr('width', width * mpl.ratio);\n",
       "        canvas.attr('height', height * mpl.ratio);\n",
       "        canvas.attr('style', 'width: ' + width + 'px; height: ' + height + 'px;');\n",
       "\n",
       "        rubberband.attr('width', width);\n",
       "        rubberband.attr('height', height);\n",
       "    }\n",
       "\n",
       "    // Set the figure to an initial 600x600px, this will subsequently be updated\n",
       "    // upon first draw.\n",
       "    this._resize_canvas(600, 600);\n",
       "\n",
       "    // Disable right mouse context menu.\n",
       "    $(this.rubberband_canvas).bind(\"contextmenu\",function(e){\n",
       "        return false;\n",
       "    });\n",
       "\n",
       "    function set_focus () {\n",
       "        canvas.focus();\n",
       "        canvas_div.focus();\n",
       "    }\n",
       "\n",
       "    window.setTimeout(set_focus, 100);\n",
       "}\n",
       "\n",
       "mpl.figure.prototype._init_toolbar = function() {\n",
       "    var fig = this;\n",
       "\n",
       "    var nav_element = $('<div/>')\n",
       "    nav_element.attr('style', 'width: 100%');\n",
       "    this.root.append(nav_element);\n",
       "\n",
       "    // Define a callback function for later on.\n",
       "    function toolbar_event(event) {\n",
       "        return fig.toolbar_button_onclick(event['data']);\n",
       "    }\n",
       "    function toolbar_mouse_event(event) {\n",
       "        return fig.toolbar_button_onmouseover(event['data']);\n",
       "    }\n",
       "\n",
       "    for(var toolbar_ind in mpl.toolbar_items) {\n",
       "        var name = mpl.toolbar_items[toolbar_ind][0];\n",
       "        var tooltip = mpl.toolbar_items[toolbar_ind][1];\n",
       "        var image = mpl.toolbar_items[toolbar_ind][2];\n",
       "        var method_name = mpl.toolbar_items[toolbar_ind][3];\n",
       "\n",
       "        if (!name) {\n",
       "            // put a spacer in here.\n",
       "            continue;\n",
       "        }\n",
       "        var button = $('<button/>');\n",
       "        button.addClass('ui-button ui-widget ui-state-default ui-corner-all ' +\n",
       "                        'ui-button-icon-only');\n",
       "        button.attr('role', 'button');\n",
       "        button.attr('aria-disabled', 'false');\n",
       "        button.click(method_name, toolbar_event);\n",
       "        button.mouseover(tooltip, toolbar_mouse_event);\n",
       "\n",
       "        var icon_img = $('<span/>');\n",
       "        icon_img.addClass('ui-button-icon-primary ui-icon');\n",
       "        icon_img.addClass(image);\n",
       "        icon_img.addClass('ui-corner-all');\n",
       "\n",
       "        var tooltip_span = $('<span/>');\n",
       "        tooltip_span.addClass('ui-button-text');\n",
       "        tooltip_span.html(tooltip);\n",
       "\n",
       "        button.append(icon_img);\n",
       "        button.append(tooltip_span);\n",
       "\n",
       "        nav_element.append(button);\n",
       "    }\n",
       "\n",
       "    var fmt_picker_span = $('<span/>');\n",
       "\n",
       "    var fmt_picker = $('<select/>');\n",
       "    fmt_picker.addClass('mpl-toolbar-option ui-widget ui-widget-content');\n",
       "    fmt_picker_span.append(fmt_picker);\n",
       "    nav_element.append(fmt_picker_span);\n",
       "    this.format_dropdown = fmt_picker[0];\n",
       "\n",
       "    for (var ind in mpl.extensions) {\n",
       "        var fmt = mpl.extensions[ind];\n",
       "        var option = $(\n",
       "            '<option/>', {selected: fmt === mpl.default_extension}).html(fmt);\n",
       "        fmt_picker.append(option)\n",
       "    }\n",
       "\n",
       "    // Add hover states to the ui-buttons\n",
       "    $( \".ui-button\" ).hover(\n",
       "        function() { $(this).addClass(\"ui-state-hover\");},\n",
       "        function() { $(this).removeClass(\"ui-state-hover\");}\n",
       "    );\n",
       "\n",
       "    var status_bar = $('<span class=\"mpl-message\"/>');\n",
       "    nav_element.append(status_bar);\n",
       "    this.message = status_bar[0];\n",
       "}\n",
       "\n",
       "mpl.figure.prototype.request_resize = function(x_pixels, y_pixels) {\n",
       "    // Request matplotlib to resize the figure. Matplotlib will then trigger a resize in the client,\n",
       "    // which will in turn request a refresh of the image.\n",
       "    this.send_message('resize', {'width': x_pixels, 'height': y_pixels});\n",
       "}\n",
       "\n",
       "mpl.figure.prototype.send_message = function(type, properties) {\n",
       "    properties['type'] = type;\n",
       "    properties['figure_id'] = this.id;\n",
       "    this.ws.send(JSON.stringify(properties));\n",
       "}\n",
       "\n",
       "mpl.figure.prototype.send_draw_message = function() {\n",
       "    if (!this.waiting) {\n",
       "        this.waiting = true;\n",
       "        this.ws.send(JSON.stringify({type: \"draw\", figure_id: this.id}));\n",
       "    }\n",
       "}\n",
       "\n",
       "\n",
       "mpl.figure.prototype.handle_save = function(fig, msg) {\n",
       "    var format_dropdown = fig.format_dropdown;\n",
       "    var format = format_dropdown.options[format_dropdown.selectedIndex].value;\n",
       "    fig.ondownload(fig, format);\n",
       "}\n",
       "\n",
       "\n",
       "mpl.figure.prototype.handle_resize = function(fig, msg) {\n",
       "    var size = msg['size'];\n",
       "    if (size[0] != fig.canvas.width || size[1] != fig.canvas.height) {\n",
       "        fig._resize_canvas(size[0], size[1]);\n",
       "        fig.send_message(\"refresh\", {});\n",
       "    };\n",
       "}\n",
       "\n",
       "mpl.figure.prototype.handle_rubberband = function(fig, msg) {\n",
       "    var x0 = msg['x0'] / mpl.ratio;\n",
       "    var y0 = (fig.canvas.height - msg['y0']) / mpl.ratio;\n",
       "    var x1 = msg['x1'] / mpl.ratio;\n",
       "    var y1 = (fig.canvas.height - msg['y1']) / mpl.ratio;\n",
       "    x0 = Math.floor(x0) + 0.5;\n",
       "    y0 = Math.floor(y0) + 0.5;\n",
       "    x1 = Math.floor(x1) + 0.5;\n",
       "    y1 = Math.floor(y1) + 0.5;\n",
       "    var min_x = Math.min(x0, x1);\n",
       "    var min_y = Math.min(y0, y1);\n",
       "    var width = Math.abs(x1 - x0);\n",
       "    var height = Math.abs(y1 - y0);\n",
       "\n",
       "    fig.rubberband_context.clearRect(\n",
       "        0, 0, fig.canvas.width, fig.canvas.height);\n",
       "\n",
       "    fig.rubberband_context.strokeRect(min_x, min_y, width, height);\n",
       "}\n",
       "\n",
       "mpl.figure.prototype.handle_figure_label = function(fig, msg) {\n",
       "    // Updates the figure title.\n",
       "    fig.header.textContent = msg['label'];\n",
       "}\n",
       "\n",
       "mpl.figure.prototype.handle_cursor = function(fig, msg) {\n",
       "    var cursor = msg['cursor'];\n",
       "    switch(cursor)\n",
       "    {\n",
       "    case 0:\n",
       "        cursor = 'pointer';\n",
       "        break;\n",
       "    case 1:\n",
       "        cursor = 'default';\n",
       "        break;\n",
       "    case 2:\n",
       "        cursor = 'crosshair';\n",
       "        break;\n",
       "    case 3:\n",
       "        cursor = 'move';\n",
       "        break;\n",
       "    }\n",
       "    fig.rubberband_canvas.style.cursor = cursor;\n",
       "}\n",
       "\n",
       "mpl.figure.prototype.handle_message = function(fig, msg) {\n",
       "    fig.message.textContent = msg['message'];\n",
       "}\n",
       "\n",
       "mpl.figure.prototype.handle_draw = function(fig, msg) {\n",
       "    // Request the server to send over a new figure.\n",
       "    fig.send_draw_message();\n",
       "}\n",
       "\n",
       "mpl.figure.prototype.handle_image_mode = function(fig, msg) {\n",
       "    fig.image_mode = msg['mode'];\n",
       "}\n",
       "\n",
       "mpl.figure.prototype.updated_canvas_event = function() {\n",
       "    // Called whenever the canvas gets updated.\n",
       "    this.send_message(\"ack\", {});\n",
       "}\n",
       "\n",
       "// A function to construct a web socket function for onmessage handling.\n",
       "// Called in the figure constructor.\n",
       "mpl.figure.prototype._make_on_message_function = function(fig) {\n",
       "    return function socket_on_message(evt) {\n",
       "        if (evt.data instanceof Blob) {\n",
       "            /* FIXME: We get \"Resource interpreted as Image but\n",
       "             * transferred with MIME type text/plain:\" errors on\n",
       "             * Chrome.  But how to set the MIME type?  It doesn't seem\n",
       "             * to be part of the websocket stream */\n",
       "            evt.data.type = \"image/png\";\n",
       "\n",
       "            /* Free the memory for the previous frames */\n",
       "            if (fig.imageObj.src) {\n",
       "                (window.URL || window.webkitURL).revokeObjectURL(\n",
       "                    fig.imageObj.src);\n",
       "            }\n",
       "\n",
       "            fig.imageObj.src = (window.URL || window.webkitURL).createObjectURL(\n",
       "                evt.data);\n",
       "            fig.updated_canvas_event();\n",
       "            fig.waiting = false;\n",
       "            return;\n",
       "        }\n",
       "        else if (typeof evt.data === 'string' && evt.data.slice(0, 21) == \"data:image/png;base64\") {\n",
       "            fig.imageObj.src = evt.data;\n",
       "            fig.updated_canvas_event();\n",
       "            fig.waiting = false;\n",
       "            return;\n",
       "        }\n",
       "\n",
       "        var msg = JSON.parse(evt.data);\n",
       "        var msg_type = msg['type'];\n",
       "\n",
       "        // Call the  \"handle_{type}\" callback, which takes\n",
       "        // the figure and JSON message as its only arguments.\n",
       "        try {\n",
       "            var callback = fig[\"handle_\" + msg_type];\n",
       "        } catch (e) {\n",
       "            console.log(\"No handler for the '\" + msg_type + \"' message type: \", msg);\n",
       "            return;\n",
       "        }\n",
       "\n",
       "        if (callback) {\n",
       "            try {\n",
       "                // console.log(\"Handling '\" + msg_type + \"' message: \", msg);\n",
       "                callback(fig, msg);\n",
       "            } catch (e) {\n",
       "                console.log(\"Exception inside the 'handler_\" + msg_type + \"' callback:\", e, e.stack, msg);\n",
       "            }\n",
       "        }\n",
       "    };\n",
       "}\n",
       "\n",
       "// from http://stackoverflow.com/questions/1114465/getting-mouse-location-in-canvas\n",
       "mpl.findpos = function(e) {\n",
       "    //this section is from http://www.quirksmode.org/js/events_properties.html\n",
       "    var targ;\n",
       "    if (!e)\n",
       "        e = window.event;\n",
       "    if (e.target)\n",
       "        targ = e.target;\n",
       "    else if (e.srcElement)\n",
       "        targ = e.srcElement;\n",
       "    if (targ.nodeType == 3) // defeat Safari bug\n",
       "        targ = targ.parentNode;\n",
       "\n",
       "    // jQuery normalizes the pageX and pageY\n",
       "    // pageX,Y are the mouse positions relative to the document\n",
       "    // offset() returns the position of the element relative to the document\n",
       "    var x = e.pageX - $(targ).offset().left;\n",
       "    var y = e.pageY - $(targ).offset().top;\n",
       "\n",
       "    return {\"x\": x, \"y\": y};\n",
       "};\n",
       "\n",
       "/*\n",
       " * return a copy of an object with only non-object keys\n",
       " * we need this to avoid circular references\n",
       " * http://stackoverflow.com/a/24161582/3208463\n",
       " */\n",
       "function simpleKeys (original) {\n",
       "  return Object.keys(original).reduce(function (obj, key) {\n",
       "    if (typeof original[key] !== 'object')\n",
       "        obj[key] = original[key]\n",
       "    return obj;\n",
       "  }, {});\n",
       "}\n",
       "\n",
       "mpl.figure.prototype.mouse_event = function(event, name) {\n",
       "    var canvas_pos = mpl.findpos(event)\n",
       "\n",
       "    if (name === 'button_press')\n",
       "    {\n",
       "        this.canvas.focus();\n",
       "        this.canvas_div.focus();\n",
       "    }\n",
       "\n",
       "    var x = canvas_pos.x * mpl.ratio;\n",
       "    var y = canvas_pos.y * mpl.ratio;\n",
       "\n",
       "    this.send_message(name, {x: x, y: y, button: event.button,\n",
       "                             step: event.step,\n",
       "                             guiEvent: simpleKeys(event)});\n",
       "\n",
       "    /* This prevents the web browser from automatically changing to\n",
       "     * the text insertion cursor when the button is pressed.  We want\n",
       "     * to control all of the cursor setting manually through the\n",
       "     * 'cursor' event from matplotlib */\n",
       "    event.preventDefault();\n",
       "    return false;\n",
       "}\n",
       "\n",
       "mpl.figure.prototype._key_event_extra = function(event, name) {\n",
       "    // Handle any extra behaviour associated with a key event\n",
       "}\n",
       "\n",
       "mpl.figure.prototype.key_event = function(event, name) {\n",
       "\n",
       "    // Prevent repeat events\n",
       "    if (name == 'key_press')\n",
       "    {\n",
       "        if (event.which === this._key)\n",
       "            return;\n",
       "        else\n",
       "            this._key = event.which;\n",
       "    }\n",
       "    if (name == 'key_release')\n",
       "        this._key = null;\n",
       "\n",
       "    var value = '';\n",
       "    if (event.ctrlKey && event.which != 17)\n",
       "        value += \"ctrl+\";\n",
       "    if (event.altKey && event.which != 18)\n",
       "        value += \"alt+\";\n",
       "    if (event.shiftKey && event.which != 16)\n",
       "        value += \"shift+\";\n",
       "\n",
       "    value += 'k';\n",
       "    value += event.which.toString();\n",
       "\n",
       "    this._key_event_extra(event, name);\n",
       "\n",
       "    this.send_message(name, {key: value,\n",
       "                             guiEvent: simpleKeys(event)});\n",
       "    return false;\n",
       "}\n",
       "\n",
       "mpl.figure.prototype.toolbar_button_onclick = function(name) {\n",
       "    if (name == 'download') {\n",
       "        this.handle_save(this, null);\n",
       "    } else {\n",
       "        this.send_message(\"toolbar_button\", {name: name});\n",
       "    }\n",
       "};\n",
       "\n",
       "mpl.figure.prototype.toolbar_button_onmouseover = function(tooltip) {\n",
       "    this.message.textContent = tooltip;\n",
       "};\n",
       "mpl.toolbar_items = [[\"Home\", \"Reset original view\", \"fa fa-home icon-home\", \"home\"], [\"Back\", \"Back to  previous view\", \"fa fa-arrow-left icon-arrow-left\", \"back\"], [\"Forward\", \"Forward to next view\", \"fa fa-arrow-right icon-arrow-right\", \"forward\"], [\"\", \"\", \"\", \"\"], [\"Pan\", \"Pan axes with left mouse, zoom with right\", \"fa fa-arrows icon-move\", \"pan\"], [\"Zoom\", \"Zoom to rectangle\", \"fa fa-square-o icon-check-empty\", \"zoom\"], [\"\", \"\", \"\", \"\"], [\"Download\", \"Download plot\", \"fa fa-floppy-o icon-save\", \"download\"]];\n",
       "\n",
       "mpl.extensions = [\"eps\", \"jpeg\", \"pdf\", \"png\", \"ps\", \"raw\", \"svg\", \"tif\"];\n",
       "\n",
       "mpl.default_extension = \"png\";var comm_websocket_adapter = function(comm) {\n",
       "    // Create a \"websocket\"-like object which calls the given IPython comm\n",
       "    // object with the appropriate methods. Currently this is a non binary\n",
       "    // socket, so there is still some room for performance tuning.\n",
       "    var ws = {};\n",
       "\n",
       "    ws.close = function() {\n",
       "        comm.close()\n",
       "    };\n",
       "    ws.send = function(m) {\n",
       "        //console.log('sending', m);\n",
       "        comm.send(m);\n",
       "    };\n",
       "    // Register the callback with on_msg.\n",
       "    comm.on_msg(function(msg) {\n",
       "        //console.log('receiving', msg['content']['data'], msg);\n",
       "        // Pass the mpl event to the overriden (by mpl) onmessage function.\n",
       "        ws.onmessage(msg['content']['data'])\n",
       "    });\n",
       "    return ws;\n",
       "}\n",
       "\n",
       "mpl.mpl_figure_comm = function(comm, msg) {\n",
       "    // This is the function which gets called when the mpl process\n",
       "    // starts-up an IPython Comm through the \"matplotlib\" channel.\n",
       "\n",
       "    var id = msg.content.data.id;\n",
       "    // Get hold of the div created by the display call when the Comm\n",
       "    // socket was opened in Python.\n",
       "    var element = $(\"#\" + id);\n",
       "    var ws_proxy = comm_websocket_adapter(comm)\n",
       "\n",
       "    function ondownload(figure, format) {\n",
       "        window.open(figure.imageObj.src);\n",
       "    }\n",
       "\n",
       "    var fig = new mpl.figure(id, ws_proxy,\n",
       "                           ondownload,\n",
       "                           element.get(0));\n",
       "\n",
       "    // Call onopen now - mpl needs it, as it is assuming we've passed it a real\n",
       "    // web socket which is closed, not our websocket->open comm proxy.\n",
       "    ws_proxy.onopen();\n",
       "\n",
       "    fig.parent_element = element.get(0);\n",
       "    fig.cell_info = mpl.find_output_cell(\"<div id='\" + id + \"'></div>\");\n",
       "    if (!fig.cell_info) {\n",
       "        console.error(\"Failed to find cell for figure\", id, fig);\n",
       "        return;\n",
       "    }\n",
       "\n",
       "    var output_index = fig.cell_info[2]\n",
       "    var cell = fig.cell_info[0];\n",
       "\n",
       "};\n",
       "\n",
       "mpl.figure.prototype.handle_close = function(fig, msg) {\n",
       "    var width = fig.canvas.width/mpl.ratio\n",
       "    fig.root.unbind('remove')\n",
       "\n",
       "    // Update the output cell to use the data from the current canvas.\n",
       "    fig.push_to_output();\n",
       "    var dataURL = fig.canvas.toDataURL();\n",
       "    // Re-enable the keyboard manager in IPython - without this line, in FF,\n",
       "    // the notebook keyboard shortcuts fail.\n",
       "    IPython.keyboard_manager.enable()\n",
       "    $(fig.parent_element).html('<img src=\"' + dataURL + '\" width=\"' + width + '\">');\n",
       "    fig.close_ws(fig, msg);\n",
       "}\n",
       "\n",
       "mpl.figure.prototype.close_ws = function(fig, msg){\n",
       "    fig.send_message('closing', msg);\n",
       "    // fig.ws.close()\n",
       "}\n",
       "\n",
       "mpl.figure.prototype.push_to_output = function(remove_interactive) {\n",
       "    // Turn the data on the canvas into data in the output cell.\n",
       "    var width = this.canvas.width/mpl.ratio\n",
       "    var dataURL = this.canvas.toDataURL();\n",
       "    this.cell_info[1]['text/html'] = '<img src=\"' + dataURL + '\" width=\"' + width + '\">';\n",
       "}\n",
       "\n",
       "mpl.figure.prototype.updated_canvas_event = function() {\n",
       "    // Tell IPython that the notebook contents must change.\n",
       "    IPython.notebook.set_dirty(true);\n",
       "    this.send_message(\"ack\", {});\n",
       "    var fig = this;\n",
       "    // Wait a second, then push the new image to the DOM so\n",
       "    // that it is saved nicely (might be nice to debounce this).\n",
       "    setTimeout(function () { fig.push_to_output() }, 1000);\n",
       "}\n",
       "\n",
       "mpl.figure.prototype._init_toolbar = function() {\n",
       "    var fig = this;\n",
       "\n",
       "    var nav_element = $('<div/>')\n",
       "    nav_element.attr('style', 'width: 100%');\n",
       "    this.root.append(nav_element);\n",
       "\n",
       "    // Define a callback function for later on.\n",
       "    function toolbar_event(event) {\n",
       "        return fig.toolbar_button_onclick(event['data']);\n",
       "    }\n",
       "    function toolbar_mouse_event(event) {\n",
       "        return fig.toolbar_button_onmouseover(event['data']);\n",
       "    }\n",
       "\n",
       "    for(var toolbar_ind in mpl.toolbar_items){\n",
       "        var name = mpl.toolbar_items[toolbar_ind][0];\n",
       "        var tooltip = mpl.toolbar_items[toolbar_ind][1];\n",
       "        var image = mpl.toolbar_items[toolbar_ind][2];\n",
       "        var method_name = mpl.toolbar_items[toolbar_ind][3];\n",
       "\n",
       "        if (!name) { continue; };\n",
       "\n",
       "        var button = $('<button class=\"btn btn-default\" href=\"#\" title=\"' + name + '\"><i class=\"fa ' + image + ' fa-lg\"></i></button>');\n",
       "        button.click(method_name, toolbar_event);\n",
       "        button.mouseover(tooltip, toolbar_mouse_event);\n",
       "        nav_element.append(button);\n",
       "    }\n",
       "\n",
       "    // Add the status bar.\n",
       "    var status_bar = $('<span class=\"mpl-message\" style=\"text-align:right; float: right;\"/>');\n",
       "    nav_element.append(status_bar);\n",
       "    this.message = status_bar[0];\n",
       "\n",
       "    // Add the close button to the window.\n",
       "    var buttongrp = $('<div class=\"btn-group inline pull-right\"></div>');\n",
       "    var button = $('<button class=\"btn btn-mini btn-primary\" href=\"#\" title=\"Stop Interaction\"><i class=\"fa fa-power-off icon-remove icon-large\"></i></button>');\n",
       "    button.click(function (evt) { fig.handle_close(fig, {}); } );\n",
       "    button.mouseover('Stop Interaction', toolbar_mouse_event);\n",
       "    buttongrp.append(button);\n",
       "    var titlebar = this.root.find($('.ui-dialog-titlebar'));\n",
       "    titlebar.prepend(buttongrp);\n",
       "}\n",
       "\n",
       "mpl.figure.prototype._root_extra_style = function(el){\n",
       "    var fig = this\n",
       "    el.on(\"remove\", function(){\n",
       "\tfig.close_ws(fig, {});\n",
       "    });\n",
       "}\n",
       "\n",
       "mpl.figure.prototype._canvas_extra_style = function(el){\n",
       "    // this is important to make the div 'focusable\n",
       "    el.attr('tabindex', 0)\n",
       "    // reach out to IPython and tell the keyboard manager to turn it's self\n",
       "    // off when our div gets focus\n",
       "\n",
       "    // location in version 3\n",
       "    if (IPython.notebook.keyboard_manager) {\n",
       "        IPython.notebook.keyboard_manager.register_events(el);\n",
       "    }\n",
       "    else {\n",
       "        // location in version 2\n",
       "        IPython.keyboard_manager.register_events(el);\n",
       "    }\n",
       "\n",
       "}\n",
       "\n",
       "mpl.figure.prototype._key_event_extra = function(event, name) {\n",
       "    var manager = IPython.notebook.keyboard_manager;\n",
       "    if (!manager)\n",
       "        manager = IPython.keyboard_manager;\n",
       "\n",
       "    // Check for shift+enter\n",
       "    if (event.shiftKey && event.which == 13) {\n",
       "        this.canvas_div.blur();\n",
       "        // select the cell after this one\n",
       "        var index = IPython.notebook.find_cell_index(this.cell_info[0]);\n",
       "        IPython.notebook.select(index + 1);\n",
       "    }\n",
       "}\n",
       "\n",
       "mpl.figure.prototype.handle_save = function(fig, msg) {\n",
       "    fig.ondownload(fig, null);\n",
       "}\n",
       "\n",
       "\n",
       "mpl.find_output_cell = function(html_output) {\n",
       "    // Return the cell and output element which can be found *uniquely* in the notebook.\n",
       "    // Note - this is a bit hacky, but it is done because the \"notebook_saving.Notebook\"\n",
       "    // IPython event is triggered only after the cells have been serialised, which for\n",
       "    // our purposes (turning an active figure into a static one), is too late.\n",
       "    var cells = IPython.notebook.get_cells();\n",
       "    var ncells = cells.length;\n",
       "    for (var i=0; i<ncells; i++) {\n",
       "        var cell = cells[i];\n",
       "        if (cell.cell_type === 'code'){\n",
       "            for (var j=0; j<cell.output_area.outputs.length; j++) {\n",
       "                var data = cell.output_area.outputs[j];\n",
       "                if (data.data) {\n",
       "                    // IPython >= 3 moved mimebundle to data attribute of output\n",
       "                    data = data.data;\n",
       "                }\n",
       "                if (data['text/html'] == html_output) {\n",
       "                    return [cell, data, j];\n",
       "                }\n",
       "            }\n",
       "        }\n",
       "    }\n",
       "}\n",
       "\n",
       "// Register the function which deals with the matplotlib target/channel.\n",
       "// The kernel may be null if the page has been refreshed.\n",
       "if (IPython.notebook.kernel != null) {\n",
       "    IPython.notebook.kernel.comm_manager.register_target('matplotlib', mpl.mpl_figure_comm);\n",
       "}\n"
      ],
      "text/plain": [
       "<IPython.core.display.Javascript object>"
      ]
     },
     "metadata": {},
     "output_type": "display_data"
    },
    {
     "data": {
      "text/html": [
       "<img src=\"data:image/png;base64,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\" width=\"640\">"
      ],
      "text/plain": [
       "<IPython.core.display.HTML object>"
      ]
     },
     "metadata": {},
     "output_type": "display_data"
    },
    {
     "data": {
      "text/plain": [
       "<matplotlib.axes._subplots.AxesSubplot at 0x7f233009e080>"
      ]
     },
     "execution_count": 150,
     "metadata": {},
     "output_type": "execute_result"
    }
   ],
   "source": [
    "ts = pd.Series(np.random.randn(1000), index=pd.date_range('1/1/2000', periods=1000))\n",
    "ts = ts.cumsum()\n",
    "ts.plot()"
   ]
  },
  {
   "cell_type": "markdown",
   "metadata": {},
   "source": [
    "对于DataFrame类型，plot()能很方便地画出所有列及其标签"
   ]
  },
  {
   "cell_type": "code",
   "execution_count": 160,
   "metadata": {},
   "outputs": [
    {
     "data": {
      "application/javascript": [
       "/* Put everything inside the global mpl namespace */\n",
       "window.mpl = {};\n",
       "\n",
       "\n",
       "mpl.get_websocket_type = function() {\n",
       "    if (typeof(WebSocket) !== 'undefined') {\n",
       "        return WebSocket;\n",
       "    } else if (typeof(MozWebSocket) !== 'undefined') {\n",
       "        return MozWebSocket;\n",
       "    } else {\n",
       "        alert('Your browser does not have WebSocket support.' +\n",
       "              'Please try Chrome, Safari or Firefox ≥ 6. ' +\n",
       "              'Firefox 4 and 5 are also supported but you ' +\n",
       "              'have to enable WebSockets in about:config.');\n",
       "    };\n",
       "}\n",
       "\n",
       "mpl.figure = function(figure_id, websocket, ondownload, parent_element) {\n",
       "    this.id = figure_id;\n",
       "\n",
       "    this.ws = websocket;\n",
       "\n",
       "    this.supports_binary = (this.ws.binaryType != undefined);\n",
       "\n",
       "    if (!this.supports_binary) {\n",
       "        var warnings = document.getElementById(\"mpl-warnings\");\n",
       "        if (warnings) {\n",
       "            warnings.style.display = 'block';\n",
       "            warnings.textContent = (\n",
       "                \"This browser does not support binary websocket messages. \" +\n",
       "                    \"Performance may be slow.\");\n",
       "        }\n",
       "    }\n",
       "\n",
       "    this.imageObj = new Image();\n",
       "\n",
       "    this.context = undefined;\n",
       "    this.message = undefined;\n",
       "    this.canvas = undefined;\n",
       "    this.rubberband_canvas = undefined;\n",
       "    this.rubberband_context = undefined;\n",
       "    this.format_dropdown = undefined;\n",
       "\n",
       "    this.image_mode = 'full';\n",
       "\n",
       "    this.root = $('<div/>');\n",
       "    this._root_extra_style(this.root)\n",
       "    this.root.attr('style', 'display: inline-block');\n",
       "\n",
       "    $(parent_element).append(this.root);\n",
       "\n",
       "    this._init_header(this);\n",
       "    this._init_canvas(this);\n",
       "    this._init_toolbar(this);\n",
       "\n",
       "    var fig = this;\n",
       "\n",
       "    this.waiting = false;\n",
       "\n",
       "    this.ws.onopen =  function () {\n",
       "            fig.send_message(\"supports_binary\", {value: fig.supports_binary});\n",
       "            fig.send_message(\"send_image_mode\", {});\n",
       "            if (mpl.ratio != 1) {\n",
       "                fig.send_message(\"set_dpi_ratio\", {'dpi_ratio': mpl.ratio});\n",
       "            }\n",
       "            fig.send_message(\"refresh\", {});\n",
       "        }\n",
       "\n",
       "    this.imageObj.onload = function() {\n",
       "            if (fig.image_mode == 'full') {\n",
       "                // Full images could contain transparency (where diff images\n",
       "                // almost always do), so we need to clear the canvas so that\n",
       "                // there is no ghosting.\n",
       "                fig.context.clearRect(0, 0, fig.canvas.width, fig.canvas.height);\n",
       "            }\n",
       "            fig.context.drawImage(fig.imageObj, 0, 0);\n",
       "        };\n",
       "\n",
       "    this.imageObj.onunload = function() {\n",
       "        this.ws.close();\n",
       "    }\n",
       "\n",
       "    this.ws.onmessage = this._make_on_message_function(this);\n",
       "\n",
       "    this.ondownload = ondownload;\n",
       "}\n",
       "\n",
       "mpl.figure.prototype._init_header = function() {\n",
       "    var titlebar = $(\n",
       "        '<div class=\"ui-dialog-titlebar ui-widget-header ui-corner-all ' +\n",
       "        'ui-helper-clearfix\"/>');\n",
       "    var titletext = $(\n",
       "        '<div class=\"ui-dialog-title\" style=\"width: 100%; ' +\n",
       "        'text-align: center; padding: 3px;\"/>');\n",
       "    titlebar.append(titletext)\n",
       "    this.root.append(titlebar);\n",
       "    this.header = titletext[0];\n",
       "}\n",
       "\n",
       "\n",
       "\n",
       "mpl.figure.prototype._canvas_extra_style = function(canvas_div) {\n",
       "\n",
       "}\n",
       "\n",
       "\n",
       "mpl.figure.prototype._root_extra_style = function(canvas_div) {\n",
       "\n",
       "}\n",
       "\n",
       "mpl.figure.prototype._init_canvas = function() {\n",
       "    var fig = this;\n",
       "\n",
       "    var canvas_div = $('<div/>');\n",
       "\n",
       "    canvas_div.attr('style', 'position: relative; clear: both; outline: 0');\n",
       "\n",
       "    function canvas_keyboard_event(event) {\n",
       "        return fig.key_event(event, event['data']);\n",
       "    }\n",
       "\n",
       "    canvas_div.keydown('key_press', canvas_keyboard_event);\n",
       "    canvas_div.keyup('key_release', canvas_keyboard_event);\n",
       "    this.canvas_div = canvas_div\n",
       "    this._canvas_extra_style(canvas_div)\n",
       "    this.root.append(canvas_div);\n",
       "\n",
       "    var canvas = $('<canvas/>');\n",
       "    canvas.addClass('mpl-canvas');\n",
       "    canvas.attr('style', \"left: 0; top: 0; z-index: 0; outline: 0\")\n",
       "\n",
       "    this.canvas = canvas[0];\n",
       "    this.context = canvas[0].getContext(\"2d\");\n",
       "\n",
       "    var backingStore = this.context.backingStorePixelRatio ||\n",
       "\tthis.context.webkitBackingStorePixelRatio ||\n",
       "\tthis.context.mozBackingStorePixelRatio ||\n",
       "\tthis.context.msBackingStorePixelRatio ||\n",
       "\tthis.context.oBackingStorePixelRatio ||\n",
       "\tthis.context.backingStorePixelRatio || 1;\n",
       "\n",
       "    mpl.ratio = (window.devicePixelRatio || 1) / backingStore;\n",
       "\n",
       "    var rubberband = $('<canvas/>');\n",
       "    rubberband.attr('style', \"position: absolute; left: 0; top: 0; z-index: 1;\")\n",
       "\n",
       "    var pass_mouse_events = true;\n",
       "\n",
       "    canvas_div.resizable({\n",
       "        start: function(event, ui) {\n",
       "            pass_mouse_events = false;\n",
       "        },\n",
       "        resize: function(event, ui) {\n",
       "            fig.request_resize(ui.size.width, ui.size.height);\n",
       "        },\n",
       "        stop: function(event, ui) {\n",
       "            pass_mouse_events = true;\n",
       "            fig.request_resize(ui.size.width, ui.size.height);\n",
       "        },\n",
       "    });\n",
       "\n",
       "    function mouse_event_fn(event) {\n",
       "        if (pass_mouse_events)\n",
       "            return fig.mouse_event(event, event['data']);\n",
       "    }\n",
       "\n",
       "    rubberband.mousedown('button_press', mouse_event_fn);\n",
       "    rubberband.mouseup('button_release', mouse_event_fn);\n",
       "    // Throttle sequential mouse events to 1 every 20ms.\n",
       "    rubberband.mousemove('motion_notify', mouse_event_fn);\n",
       "\n",
       "    rubberband.mouseenter('figure_enter', mouse_event_fn);\n",
       "    rubberband.mouseleave('figure_leave', mouse_event_fn);\n",
       "\n",
       "    canvas_div.on(\"wheel\", function (event) {\n",
       "        event = event.originalEvent;\n",
       "        event['data'] = 'scroll'\n",
       "        if (event.deltaY < 0) {\n",
       "            event.step = 1;\n",
       "        } else {\n",
       "            event.step = -1;\n",
       "        }\n",
       "        mouse_event_fn(event);\n",
       "    });\n",
       "\n",
       "    canvas_div.append(canvas);\n",
       "    canvas_div.append(rubberband);\n",
       "\n",
       "    this.rubberband = rubberband;\n",
       "    this.rubberband_canvas = rubberband[0];\n",
       "    this.rubberband_context = rubberband[0].getContext(\"2d\");\n",
       "    this.rubberband_context.strokeStyle = \"#000000\";\n",
       "\n",
       "    this._resize_canvas = function(width, height) {\n",
       "        // Keep the size of the canvas, canvas container, and rubber band\n",
       "        // canvas in synch.\n",
       "        canvas_div.css('width', width)\n",
       "        canvas_div.css('height', height)\n",
       "\n",
       "        canvas.attr('width', width * mpl.ratio);\n",
       "        canvas.attr('height', height * mpl.ratio);\n",
       "        canvas.attr('style', 'width: ' + width + 'px; height: ' + height + 'px;');\n",
       "\n",
       "        rubberband.attr('width', width);\n",
       "        rubberband.attr('height', height);\n",
       "    }\n",
       "\n",
       "    // Set the figure to an initial 600x600px, this will subsequently be updated\n",
       "    // upon first draw.\n",
       "    this._resize_canvas(600, 600);\n",
       "\n",
       "    // Disable right mouse context menu.\n",
       "    $(this.rubberband_canvas).bind(\"contextmenu\",function(e){\n",
       "        return false;\n",
       "    });\n",
       "\n",
       "    function set_focus () {\n",
       "        canvas.focus();\n",
       "        canvas_div.focus();\n",
       "    }\n",
       "\n",
       "    window.setTimeout(set_focus, 100);\n",
       "}\n",
       "\n",
       "mpl.figure.prototype._init_toolbar = function() {\n",
       "    var fig = this;\n",
       "\n",
       "    var nav_element = $('<div/>')\n",
       "    nav_element.attr('style', 'width: 100%');\n",
       "    this.root.append(nav_element);\n",
       "\n",
       "    // Define a callback function for later on.\n",
       "    function toolbar_event(event) {\n",
       "        return fig.toolbar_button_onclick(event['data']);\n",
       "    }\n",
       "    function toolbar_mouse_event(event) {\n",
       "        return fig.toolbar_button_onmouseover(event['data']);\n",
       "    }\n",
       "\n",
       "    for(var toolbar_ind in mpl.toolbar_items) {\n",
       "        var name = mpl.toolbar_items[toolbar_ind][0];\n",
       "        var tooltip = mpl.toolbar_items[toolbar_ind][1];\n",
       "        var image = mpl.toolbar_items[toolbar_ind][2];\n",
       "        var method_name = mpl.toolbar_items[toolbar_ind][3];\n",
       "\n",
       "        if (!name) {\n",
       "            // put a spacer in here.\n",
       "            continue;\n",
       "        }\n",
       "        var button = $('<button/>');\n",
       "        button.addClass('ui-button ui-widget ui-state-default ui-corner-all ' +\n",
       "                        'ui-button-icon-only');\n",
       "        button.attr('role', 'button');\n",
       "        button.attr('aria-disabled', 'false');\n",
       "        button.click(method_name, toolbar_event);\n",
       "        button.mouseover(tooltip, toolbar_mouse_event);\n",
       "\n",
       "        var icon_img = $('<span/>');\n",
       "        icon_img.addClass('ui-button-icon-primary ui-icon');\n",
       "        icon_img.addClass(image);\n",
       "        icon_img.addClass('ui-corner-all');\n",
       "\n",
       "        var tooltip_span = $('<span/>');\n",
       "        tooltip_span.addClass('ui-button-text');\n",
       "        tooltip_span.html(tooltip);\n",
       "\n",
       "        button.append(icon_img);\n",
       "        button.append(tooltip_span);\n",
       "\n",
       "        nav_element.append(button);\n",
       "    }\n",
       "\n",
       "    var fmt_picker_span = $('<span/>');\n",
       "\n",
       "    var fmt_picker = $('<select/>');\n",
       "    fmt_picker.addClass('mpl-toolbar-option ui-widget ui-widget-content');\n",
       "    fmt_picker_span.append(fmt_picker);\n",
       "    nav_element.append(fmt_picker_span);\n",
       "    this.format_dropdown = fmt_picker[0];\n",
       "\n",
       "    for (var ind in mpl.extensions) {\n",
       "        var fmt = mpl.extensions[ind];\n",
       "        var option = $(\n",
       "            '<option/>', {selected: fmt === mpl.default_extension}).html(fmt);\n",
       "        fmt_picker.append(option)\n",
       "    }\n",
       "\n",
       "    // Add hover states to the ui-buttons\n",
       "    $( \".ui-button\" ).hover(\n",
       "        function() { $(this).addClass(\"ui-state-hover\");},\n",
       "        function() { $(this).removeClass(\"ui-state-hover\");}\n",
       "    );\n",
       "\n",
       "    var status_bar = $('<span class=\"mpl-message\"/>');\n",
       "    nav_element.append(status_bar);\n",
       "    this.message = status_bar[0];\n",
       "}\n",
       "\n",
       "mpl.figure.prototype.request_resize = function(x_pixels, y_pixels) {\n",
       "    // Request matplotlib to resize the figure. Matplotlib will then trigger a resize in the client,\n",
       "    // which will in turn request a refresh of the image.\n",
       "    this.send_message('resize', {'width': x_pixels, 'height': y_pixels});\n",
       "}\n",
       "\n",
       "mpl.figure.prototype.send_message = function(type, properties) {\n",
       "    properties['type'] = type;\n",
       "    properties['figure_id'] = this.id;\n",
       "    this.ws.send(JSON.stringify(properties));\n",
       "}\n",
       "\n",
       "mpl.figure.prototype.send_draw_message = function() {\n",
       "    if (!this.waiting) {\n",
       "        this.waiting = true;\n",
       "        this.ws.send(JSON.stringify({type: \"draw\", figure_id: this.id}));\n",
       "    }\n",
       "}\n",
       "\n",
       "\n",
       "mpl.figure.prototype.handle_save = function(fig, msg) {\n",
       "    var format_dropdown = fig.format_dropdown;\n",
       "    var format = format_dropdown.options[format_dropdown.selectedIndex].value;\n",
       "    fig.ondownload(fig, format);\n",
       "}\n",
       "\n",
       "\n",
       "mpl.figure.prototype.handle_resize = function(fig, msg) {\n",
       "    var size = msg['size'];\n",
       "    if (size[0] != fig.canvas.width || size[1] != fig.canvas.height) {\n",
       "        fig._resize_canvas(size[0], size[1]);\n",
       "        fig.send_message(\"refresh\", {});\n",
       "    };\n",
       "}\n",
       "\n",
       "mpl.figure.prototype.handle_rubberband = function(fig, msg) {\n",
       "    var x0 = msg['x0'] / mpl.ratio;\n",
       "    var y0 = (fig.canvas.height - msg['y0']) / mpl.ratio;\n",
       "    var x1 = msg['x1'] / mpl.ratio;\n",
       "    var y1 = (fig.canvas.height - msg['y1']) / mpl.ratio;\n",
       "    x0 = Math.floor(x0) + 0.5;\n",
       "    y0 = Math.floor(y0) + 0.5;\n",
       "    x1 = Math.floor(x1) + 0.5;\n",
       "    y1 = Math.floor(y1) + 0.5;\n",
       "    var min_x = Math.min(x0, x1);\n",
       "    var min_y = Math.min(y0, y1);\n",
       "    var width = Math.abs(x1 - x0);\n",
       "    var height = Math.abs(y1 - y0);\n",
       "\n",
       "    fig.rubberband_context.clearRect(\n",
       "        0, 0, fig.canvas.width, fig.canvas.height);\n",
       "\n",
       "    fig.rubberband_context.strokeRect(min_x, min_y, width, height);\n",
       "}\n",
       "\n",
       "mpl.figure.prototype.handle_figure_label = function(fig, msg) {\n",
       "    // Updates the figure title.\n",
       "    fig.header.textContent = msg['label'];\n",
       "}\n",
       "\n",
       "mpl.figure.prototype.handle_cursor = function(fig, msg) {\n",
       "    var cursor = msg['cursor'];\n",
       "    switch(cursor)\n",
       "    {\n",
       "    case 0:\n",
       "        cursor = 'pointer';\n",
       "        break;\n",
       "    case 1:\n",
       "        cursor = 'default';\n",
       "        break;\n",
       "    case 2:\n",
       "        cursor = 'crosshair';\n",
       "        break;\n",
       "    case 3:\n",
       "        cursor = 'move';\n",
       "        break;\n",
       "    }\n",
       "    fig.rubberband_canvas.style.cursor = cursor;\n",
       "}\n",
       "\n",
       "mpl.figure.prototype.handle_message = function(fig, msg) {\n",
       "    fig.message.textContent = msg['message'];\n",
       "}\n",
       "\n",
       "mpl.figure.prototype.handle_draw = function(fig, msg) {\n",
       "    // Request the server to send over a new figure.\n",
       "    fig.send_draw_message();\n",
       "}\n",
       "\n",
       "mpl.figure.prototype.handle_image_mode = function(fig, msg) {\n",
       "    fig.image_mode = msg['mode'];\n",
       "}\n",
       "\n",
       "mpl.figure.prototype.updated_canvas_event = function() {\n",
       "    // Called whenever the canvas gets updated.\n",
       "    this.send_message(\"ack\", {});\n",
       "}\n",
       "\n",
       "// A function to construct a web socket function for onmessage handling.\n",
       "// Called in the figure constructor.\n",
       "mpl.figure.prototype._make_on_message_function = function(fig) {\n",
       "    return function socket_on_message(evt) {\n",
       "        if (evt.data instanceof Blob) {\n",
       "            /* FIXME: We get \"Resource interpreted as Image but\n",
       "             * transferred with MIME type text/plain:\" errors on\n",
       "             * Chrome.  But how to set the MIME type?  It doesn't seem\n",
       "             * to be part of the websocket stream */\n",
       "            evt.data.type = \"image/png\";\n",
       "\n",
       "            /* Free the memory for the previous frames */\n",
       "            if (fig.imageObj.src) {\n",
       "                (window.URL || window.webkitURL).revokeObjectURL(\n",
       "                    fig.imageObj.src);\n",
       "            }\n",
       "\n",
       "            fig.imageObj.src = (window.URL || window.webkitURL).createObjectURL(\n",
       "                evt.data);\n",
       "            fig.updated_canvas_event();\n",
       "            fig.waiting = false;\n",
       "            return;\n",
       "        }\n",
       "        else if (typeof evt.data === 'string' && evt.data.slice(0, 21) == \"data:image/png;base64\") {\n",
       "            fig.imageObj.src = evt.data;\n",
       "            fig.updated_canvas_event();\n",
       "            fig.waiting = false;\n",
       "            return;\n",
       "        }\n",
       "\n",
       "        var msg = JSON.parse(evt.data);\n",
       "        var msg_type = msg['type'];\n",
       "\n",
       "        // Call the  \"handle_{type}\" callback, which takes\n",
       "        // the figure and JSON message as its only arguments.\n",
       "        try {\n",
       "            var callback = fig[\"handle_\" + msg_type];\n",
       "        } catch (e) {\n",
       "            console.log(\"No handler for the '\" + msg_type + \"' message type: \", msg);\n",
       "            return;\n",
       "        }\n",
       "\n",
       "        if (callback) {\n",
       "            try {\n",
       "                // console.log(\"Handling '\" + msg_type + \"' message: \", msg);\n",
       "                callback(fig, msg);\n",
       "            } catch (e) {\n",
       "                console.log(\"Exception inside the 'handler_\" + msg_type + \"' callback:\", e, e.stack, msg);\n",
       "            }\n",
       "        }\n",
       "    };\n",
       "}\n",
       "\n",
       "// from http://stackoverflow.com/questions/1114465/getting-mouse-location-in-canvas\n",
       "mpl.findpos = function(e) {\n",
       "    //this section is from http://www.quirksmode.org/js/events_properties.html\n",
       "    var targ;\n",
       "    if (!e)\n",
       "        e = window.event;\n",
       "    if (e.target)\n",
       "        targ = e.target;\n",
       "    else if (e.srcElement)\n",
       "        targ = e.srcElement;\n",
       "    if (targ.nodeType == 3) // defeat Safari bug\n",
       "        targ = targ.parentNode;\n",
       "\n",
       "    // jQuery normalizes the pageX and pageY\n",
       "    // pageX,Y are the mouse positions relative to the document\n",
       "    // offset() returns the position of the element relative to the document\n",
       "    var x = e.pageX - $(targ).offset().left;\n",
       "    var y = e.pageY - $(targ).offset().top;\n",
       "\n",
       "    return {\"x\": x, \"y\": y};\n",
       "};\n",
       "\n",
       "/*\n",
       " * return a copy of an object with only non-object keys\n",
       " * we need this to avoid circular references\n",
       " * http://stackoverflow.com/a/24161582/3208463\n",
       " */\n",
       "function simpleKeys (original) {\n",
       "  return Object.keys(original).reduce(function (obj, key) {\n",
       "    if (typeof original[key] !== 'object')\n",
       "        obj[key] = original[key]\n",
       "    return obj;\n",
       "  }, {});\n",
       "}\n",
       "\n",
       "mpl.figure.prototype.mouse_event = function(event, name) {\n",
       "    var canvas_pos = mpl.findpos(event)\n",
       "\n",
       "    if (name === 'button_press')\n",
       "    {\n",
       "        this.canvas.focus();\n",
       "        this.canvas_div.focus();\n",
       "    }\n",
       "\n",
       "    var x = canvas_pos.x * mpl.ratio;\n",
       "    var y = canvas_pos.y * mpl.ratio;\n",
       "\n",
       "    this.send_message(name, {x: x, y: y, button: event.button,\n",
       "                             step: event.step,\n",
       "                             guiEvent: simpleKeys(event)});\n",
       "\n",
       "    /* This prevents the web browser from automatically changing to\n",
       "     * the text insertion cursor when the button is pressed.  We want\n",
       "     * to control all of the cursor setting manually through the\n",
       "     * 'cursor' event from matplotlib */\n",
       "    event.preventDefault();\n",
       "    return false;\n",
       "}\n",
       "\n",
       "mpl.figure.prototype._key_event_extra = function(event, name) {\n",
       "    // Handle any extra behaviour associated with a key event\n",
       "}\n",
       "\n",
       "mpl.figure.prototype.key_event = function(event, name) {\n",
       "\n",
       "    // Prevent repeat events\n",
       "    if (name == 'key_press')\n",
       "    {\n",
       "        if (event.which === this._key)\n",
       "            return;\n",
       "        else\n",
       "            this._key = event.which;\n",
       "    }\n",
       "    if (name == 'key_release')\n",
       "        this._key = null;\n",
       "\n",
       "    var value = '';\n",
       "    if (event.ctrlKey && event.which != 17)\n",
       "        value += \"ctrl+\";\n",
       "    if (event.altKey && event.which != 18)\n",
       "        value += \"alt+\";\n",
       "    if (event.shiftKey && event.which != 16)\n",
       "        value += \"shift+\";\n",
       "\n",
       "    value += 'k';\n",
       "    value += event.which.toString();\n",
       "\n",
       "    this._key_event_extra(event, name);\n",
       "\n",
       "    this.send_message(name, {key: value,\n",
       "                             guiEvent: simpleKeys(event)});\n",
       "    return false;\n",
       "}\n",
       "\n",
       "mpl.figure.prototype.toolbar_button_onclick = function(name) {\n",
       "    if (name == 'download') {\n",
       "        this.handle_save(this, null);\n",
       "    } else {\n",
       "        this.send_message(\"toolbar_button\", {name: name});\n",
       "    }\n",
       "};\n",
       "\n",
       "mpl.figure.prototype.toolbar_button_onmouseover = function(tooltip) {\n",
       "    this.message.textContent = tooltip;\n",
       "};\n",
       "mpl.toolbar_items = [[\"Home\", \"Reset original view\", \"fa fa-home icon-home\", \"home\"], [\"Back\", \"Back to  previous view\", \"fa fa-arrow-left icon-arrow-left\", \"back\"], [\"Forward\", \"Forward to next view\", \"fa fa-arrow-right icon-arrow-right\", \"forward\"], [\"\", \"\", \"\", \"\"], [\"Pan\", \"Pan axes with left mouse, zoom with right\", \"fa fa-arrows icon-move\", \"pan\"], [\"Zoom\", \"Zoom to rectangle\", \"fa fa-square-o icon-check-empty\", \"zoom\"], [\"\", \"\", \"\", \"\"], [\"Download\", \"Download plot\", \"fa fa-floppy-o icon-save\", \"download\"]];\n",
       "\n",
       "mpl.extensions = [\"eps\", \"jpeg\", \"pdf\", \"png\", \"ps\", \"raw\", \"svg\", \"tif\"];\n",
       "\n",
       "mpl.default_extension = \"png\";var comm_websocket_adapter = function(comm) {\n",
       "    // Create a \"websocket\"-like object which calls the given IPython comm\n",
       "    // object with the appropriate methods. Currently this is a non binary\n",
       "    // socket, so there is still some room for performance tuning.\n",
       "    var ws = {};\n",
       "\n",
       "    ws.close = function() {\n",
       "        comm.close()\n",
       "    };\n",
       "    ws.send = function(m) {\n",
       "        //console.log('sending', m);\n",
       "        comm.send(m);\n",
       "    };\n",
       "    // Register the callback with on_msg.\n",
       "    comm.on_msg(function(msg) {\n",
       "        //console.log('receiving', msg['content']['data'], msg);\n",
       "        // Pass the mpl event to the overriden (by mpl) onmessage function.\n",
       "        ws.onmessage(msg['content']['data'])\n",
       "    });\n",
       "    return ws;\n",
       "}\n",
       "\n",
       "mpl.mpl_figure_comm = function(comm, msg) {\n",
       "    // This is the function which gets called when the mpl process\n",
       "    // starts-up an IPython Comm through the \"matplotlib\" channel.\n",
       "\n",
       "    var id = msg.content.data.id;\n",
       "    // Get hold of the div created by the display call when the Comm\n",
       "    // socket was opened in Python.\n",
       "    var element = $(\"#\" + id);\n",
       "    var ws_proxy = comm_websocket_adapter(comm)\n",
       "\n",
       "    function ondownload(figure, format) {\n",
       "        window.open(figure.imageObj.src);\n",
       "    }\n",
       "\n",
       "    var fig = new mpl.figure(id, ws_proxy,\n",
       "                           ondownload,\n",
       "                           element.get(0));\n",
       "\n",
       "    // Call onopen now - mpl needs it, as it is assuming we've passed it a real\n",
       "    // web socket which is closed, not our websocket->open comm proxy.\n",
       "    ws_proxy.onopen();\n",
       "\n",
       "    fig.parent_element = element.get(0);\n",
       "    fig.cell_info = mpl.find_output_cell(\"<div id='\" + id + \"'></div>\");\n",
       "    if (!fig.cell_info) {\n",
       "        console.error(\"Failed to find cell for figure\", id, fig);\n",
       "        return;\n",
       "    }\n",
       "\n",
       "    var output_index = fig.cell_info[2]\n",
       "    var cell = fig.cell_info[0];\n",
       "\n",
       "};\n",
       "\n",
       "mpl.figure.prototype.handle_close = function(fig, msg) {\n",
       "    var width = fig.canvas.width/mpl.ratio\n",
       "    fig.root.unbind('remove')\n",
       "\n",
       "    // Update the output cell to use the data from the current canvas.\n",
       "    fig.push_to_output();\n",
       "    var dataURL = fig.canvas.toDataURL();\n",
       "    // Re-enable the keyboard manager in IPython - without this line, in FF,\n",
       "    // the notebook keyboard shortcuts fail.\n",
       "    IPython.keyboard_manager.enable()\n",
       "    $(fig.parent_element).html('<img src=\"' + dataURL + '\" width=\"' + width + '\">');\n",
       "    fig.close_ws(fig, msg);\n",
       "}\n",
       "\n",
       "mpl.figure.prototype.close_ws = function(fig, msg){\n",
       "    fig.send_message('closing', msg);\n",
       "    // fig.ws.close()\n",
       "}\n",
       "\n",
       "mpl.figure.prototype.push_to_output = function(remove_interactive) {\n",
       "    // Turn the data on the canvas into data in the output cell.\n",
       "    var width = this.canvas.width/mpl.ratio\n",
       "    var dataURL = this.canvas.toDataURL();\n",
       "    this.cell_info[1]['text/html'] = '<img src=\"' + dataURL + '\" width=\"' + width + '\">';\n",
       "}\n",
       "\n",
       "mpl.figure.prototype.updated_canvas_event = function() {\n",
       "    // Tell IPython that the notebook contents must change.\n",
       "    IPython.notebook.set_dirty(true);\n",
       "    this.send_message(\"ack\", {});\n",
       "    var fig = this;\n",
       "    // Wait a second, then push the new image to the DOM so\n",
       "    // that it is saved nicely (might be nice to debounce this).\n",
       "    setTimeout(function () { fig.push_to_output() }, 1000);\n",
       "}\n",
       "\n",
       "mpl.figure.prototype._init_toolbar = function() {\n",
       "    var fig = this;\n",
       "\n",
       "    var nav_element = $('<div/>')\n",
       "    nav_element.attr('style', 'width: 100%');\n",
       "    this.root.append(nav_element);\n",
       "\n",
       "    // Define a callback function for later on.\n",
       "    function toolbar_event(event) {\n",
       "        return fig.toolbar_button_onclick(event['data']);\n",
       "    }\n",
       "    function toolbar_mouse_event(event) {\n",
       "        return fig.toolbar_button_onmouseover(event['data']);\n",
       "    }\n",
       "\n",
       "    for(var toolbar_ind in mpl.toolbar_items){\n",
       "        var name = mpl.toolbar_items[toolbar_ind][0];\n",
       "        var tooltip = mpl.toolbar_items[toolbar_ind][1];\n",
       "        var image = mpl.toolbar_items[toolbar_ind][2];\n",
       "        var method_name = mpl.toolbar_items[toolbar_ind][3];\n",
       "\n",
       "        if (!name) { continue; };\n",
       "\n",
       "        var button = $('<button class=\"btn btn-default\" href=\"#\" title=\"' + name + '\"><i class=\"fa ' + image + ' fa-lg\"></i></button>');\n",
       "        button.click(method_name, toolbar_event);\n",
       "        button.mouseover(tooltip, toolbar_mouse_event);\n",
       "        nav_element.append(button);\n",
       "    }\n",
       "\n",
       "    // Add the status bar.\n",
       "    var status_bar = $('<span class=\"mpl-message\" style=\"text-align:right; float: right;\"/>');\n",
       "    nav_element.append(status_bar);\n",
       "    this.message = status_bar[0];\n",
       "\n",
       "    // Add the close button to the window.\n",
       "    var buttongrp = $('<div class=\"btn-group inline pull-right\"></div>');\n",
       "    var button = $('<button class=\"btn btn-mini btn-primary\" href=\"#\" title=\"Stop Interaction\"><i class=\"fa fa-power-off icon-remove icon-large\"></i></button>');\n",
       "    button.click(function (evt) { fig.handle_close(fig, {}); } );\n",
       "    button.mouseover('Stop Interaction', toolbar_mouse_event);\n",
       "    buttongrp.append(button);\n",
       "    var titlebar = this.root.find($('.ui-dialog-titlebar'));\n",
       "    titlebar.prepend(buttongrp);\n",
       "}\n",
       "\n",
       "mpl.figure.prototype._root_extra_style = function(el){\n",
       "    var fig = this\n",
       "    el.on(\"remove\", function(){\n",
       "\tfig.close_ws(fig, {});\n",
       "    });\n",
       "}\n",
       "\n",
       "mpl.figure.prototype._canvas_extra_style = function(el){\n",
       "    // this is important to make the div 'focusable\n",
       "    el.attr('tabindex', 0)\n",
       "    // reach out to IPython and tell the keyboard manager to turn it's self\n",
       "    // off when our div gets focus\n",
       "\n",
       "    // location in version 3\n",
       "    if (IPython.notebook.keyboard_manager) {\n",
       "        IPython.notebook.keyboard_manager.register_events(el);\n",
       "    }\n",
       "    else {\n",
       "        // location in version 2\n",
       "        IPython.keyboard_manager.register_events(el);\n",
       "    }\n",
       "\n",
       "}\n",
       "\n",
       "mpl.figure.prototype._key_event_extra = function(event, name) {\n",
       "    var manager = IPython.notebook.keyboard_manager;\n",
       "    if (!manager)\n",
       "        manager = IPython.keyboard_manager;\n",
       "\n",
       "    // Check for shift+enter\n",
       "    if (event.shiftKey && event.which == 13) {\n",
       "        this.canvas_div.blur();\n",
       "        // select the cell after this one\n",
       "        var index = IPython.notebook.find_cell_index(this.cell_info[0]);\n",
       "        IPython.notebook.select(index + 1);\n",
       "    }\n",
       "}\n",
       "\n",
       "mpl.figure.prototype.handle_save = function(fig, msg) {\n",
       "    fig.ondownload(fig, null);\n",
       "}\n",
       "\n",
       "\n",
       "mpl.find_output_cell = function(html_output) {\n",
       "    // Return the cell and output element which can be found *uniquely* in the notebook.\n",
       "    // Note - this is a bit hacky, but it is done because the \"notebook_saving.Notebook\"\n",
       "    // IPython event is triggered only after the cells have been serialised, which for\n",
       "    // our purposes (turning an active figure into a static one), is too late.\n",
       "    var cells = IPython.notebook.get_cells();\n",
       "    var ncells = cells.length;\n",
       "    for (var i=0; i<ncells; i++) {\n",
       "        var cell = cells[i];\n",
       "        if (cell.cell_type === 'code'){\n",
       "            for (var j=0; j<cell.output_area.outputs.length; j++) {\n",
       "                var data = cell.output_area.outputs[j];\n",
       "                if (data.data) {\n",
       "                    // IPython >= 3 moved mimebundle to data attribute of output\n",
       "                    data = data.data;\n",
       "                }\n",
       "                if (data['text/html'] == html_output) {\n",
       "                    return [cell, data, j];\n",
       "                }\n",
       "            }\n",
       "        }\n",
       "    }\n",
       "}\n",
       "\n",
       "// Register the function which deals with the matplotlib target/channel.\n",
       "// The kernel may be null if the page has been refreshed.\n",
       "if (IPython.notebook.kernel != null) {\n",
       "    IPython.notebook.kernel.comm_manager.register_target('matplotlib', mpl.mpl_figure_comm);\n",
       "}\n"
      ],
      "text/plain": [
       "<IPython.core.display.Javascript object>"
      ]
     },
     "metadata": {},
     "output_type": "display_data"
    },
    {
     "data": {
      "text/html": [
       "<img src=\"data:image/png;base64,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\" width=\"640\">"
      ],
      "text/plain": [
       "<IPython.core.display.HTML object>"
      ]
     },
     "metadata": {},
     "output_type": "display_data"
    }
   ],
   "source": [
    "df = pd.DataFrame(np.random.randn(1000, 4), index=ts.index, columns=['A', 'B', 'C', 'D'])\n",
    "df = df.cumsum()\n",
    "df.plot(); plt.legend(loc='best');"
   ]
  },
  {
   "cell_type": "code",
   "execution_count": null,
   "metadata": {},
   "outputs": [],
   "source": []
  }
 ],
 "metadata": {
  "kernelspec": {
   "display_name": "Python 3",
   "language": "python",
   "name": "python3"
  },
  "language_info": {
   "codemirror_mode": {
    "name": "ipython",
    "version": 3
   },
   "file_extension": ".py",
   "mimetype": "text/x-python",
   "name": "python",
   "nbconvert_exporter": "python",
   "pygments_lexer": "ipython3",
   "version": "3.6.3"
  }
 },
 "nbformat": 4,
 "nbformat_minor": 2
}
